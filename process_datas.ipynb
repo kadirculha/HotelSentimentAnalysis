{
 "cells": [
  {
   "cell_type": "code",
   "execution_count": 49,
   "metadata": {},
   "outputs": [],
   "source": [
    "import pandas as pd \n",
    "import seaborn as sns \n",
    "import numpy as np\n",
    "import matplotlib.pyplot as plt \n",
    "pd.set_option(\"display.max_colwidth\", None)"
   ]
  },
  {
   "cell_type": "code",
   "execution_count": 77,
   "metadata": {},
   "outputs": [
    {
     "name": "stdout",
     "output_type": "stream",
     "text": [
      "merhaba nasılsınız\n"
     ]
    }
   ],
   "source": [
    "import re\n",
    "import string\n",
    "from nltk.corpus import stopwords\n",
    "\n",
    "def clean_text(text: str) -> str:\n",
    "\n",
    "    text = text.lower()\n",
    "    \n",
    "    text = text.translate(str.maketrans('', '', string.punctuation))\n",
    "    \n",
    "    text = re.sub(r'\\d+', '', text)\n",
    "    \n",
    "    # Emojileri kaldır\n",
    "    emoji_pattern = re.compile(\n",
    "        \"[\"                       \n",
    "        \"\\U0001F600-\\U0001F64F\"  # Emoticons\n",
    "        \"\\U0001F300-\\U0001F5FF\"  # Symbols & Pictographs\n",
    "        \"\\U0001F680-\\U0001F6FF\"  # Transport & Map Symbols\n",
    "        \"\\U0001F700-\\U0001F77F\"  # Alchemical Symbols\n",
    "        \"\\U0001F780-\\U0001F7FF\"  # Geometric Shapes Extended\n",
    "        \"\\U0001F800-\\U0001F8FF\"  # Supplemental Arrows-C\n",
    "        \"\\U0001F900-\\U0001F9FF\"  # Supplemental Symbols and Pictographs\n",
    "        \"\\U0001FA00-\\U0001FA6F\"  # Chess Symbols\n",
    "        \"\\U0001FA70-\\U0001FAFF\"  # Symbols and Pictographs Extended-A\n",
    "        \"\\U00002702-\\U000027B0\"  # Dingbats\n",
    "        \"\\U000024C2-\\U0001F251\"  # Enclosed characters\n",
    "        \"]+\",\n",
    "        flags=re.UNICODE\n",
    "    )\n",
    "    text = emoji_pattern.sub(r'', text)\n",
    "    \n",
    "\n",
    "    stop_words = set(stopwords.words('turkish'))\n",
    "    text = ' '.join(word for word in text.split() if word not in stop_words)\n",
    "    \n",
    " \n",
    "    text = ' '.join(text.split())\n",
    "    \n",
    "    return text\n",
    "\n"
   ]
  },
  {
   "cell_type": "markdown",
   "metadata": {},
   "source": [
    "# maydogan\n",
    "\n",
    "product reviews"
   ]
  },
  {
   "cell_type": "code",
   "execution_count": 77,
   "metadata": {},
   "outputs": [],
   "source": [
    "maydogan = pd.read_csv(\"data/maydogan.csv\",sep=\";\")"
   ]
  },
  {
   "cell_type": "code",
   "execution_count": 78,
   "metadata": {},
   "outputs": [
    {
     "name": "stdout",
     "output_type": "stream",
     "text": [
      "<class 'pandas.core.frame.DataFrame'>\n",
      "RangeIndex: 150000 entries, 0 to 149999\n",
      "Data columns (total 3 columns):\n",
      " #   Column  Non-Null Count   Dtype \n",
      "---  ------  --------------   ----- \n",
      " 0   id      150000 non-null  int64 \n",
      " 1   score   150000 non-null  object\n",
      " 2   review  150000 non-null  object\n",
      "dtypes: int64(1), object(2)\n",
      "memory usage: 3.4+ MB\n"
     ]
    }
   ],
   "source": [
    "maydogan.info()"
   ]
  },
  {
   "cell_type": "code",
   "execution_count": 79,
   "metadata": {},
   "outputs": [
    {
     "data": {
      "text/plain": [
       "0                         Kokusu çok güzel etkisi de efsane\n",
       "1                   hiç bir fark olmadı siyah nokta silmedi\n",
       "2               şeffaf güzel bir krem elimi yumuşacık yaptı\n",
       "3         Özellikle karma ve hassas cildiniz varsa La Ro...\n",
       "4         çok iyi nemlendiriyor ama daha ucuz muadilleri...\n",
       "                                ...                        \n",
       "149995    Suruldugunde hafif bir parlaklik veriyor. Yika...\n",
       "149996    Mükemmel nemlendirici hayraniyim bu nemlendiri...\n",
       "149997                      Çok güzel fiyatı da gayet uygun\n",
       "149998    Fiyat olarak iyi ama düzenli kullansamda geçir...\n",
       "149999                    çok güzel, sağlıklı, temiz, ferah\n",
       "Name: review, Length: 150000, dtype: object"
      ]
     },
     "execution_count": 79,
     "metadata": {},
     "output_type": "execute_result"
    }
   ],
   "source": [
    "maydogan[\"review\"]"
   ]
  },
  {
   "cell_type": "code",
   "execution_count": 80,
   "metadata": {},
   "outputs": [],
   "source": [
    "maydogan[\"review\"] = maydogan[\"review\"].apply(clean_text)"
   ]
  },
  {
   "cell_type": "code",
   "execution_count": 81,
   "metadata": {},
   "outputs": [
    {
     "data": {
      "text/html": [
       "<div>\n",
       "<style scoped>\n",
       "    .dataframe tbody tr th:only-of-type {\n",
       "        vertical-align: middle;\n",
       "    }\n",
       "\n",
       "    .dataframe tbody tr th {\n",
       "        vertical-align: top;\n",
       "    }\n",
       "\n",
       "    .dataframe thead th {\n",
       "        text-align: right;\n",
       "    }\n",
       "</style>\n",
       "<table border=\"1\" class=\"dataframe\">\n",
       "  <thead>\n",
       "    <tr style=\"text-align: right;\">\n",
       "      <th></th>\n",
       "      <th>id</th>\n",
       "      <th>score</th>\n",
       "      <th>review</th>\n",
       "    </tr>\n",
       "  </thead>\n",
       "  <tbody>\n",
       "    <tr>\n",
       "      <th>0</th>\n",
       "      <td>0</td>\n",
       "      <td>Positive</td>\n",
       "      <td>kokusu güzel etkisi efsane</td>\n",
       "    </tr>\n",
       "    <tr>\n",
       "      <th>1</th>\n",
       "      <td>1</td>\n",
       "      <td>Negative</td>\n",
       "      <td>bir fark olmadı siyah nokta silmedi</td>\n",
       "    </tr>\n",
       "    <tr>\n",
       "      <th>2</th>\n",
       "      <td>2</td>\n",
       "      <td>Positive</td>\n",
       "      <td>şeffaf güzel bir krem elimi yumuşacık yaptı</td>\n",
       "    </tr>\n",
       "    <tr>\n",
       "      <th>3</th>\n",
       "      <td>3</td>\n",
       "      <td>Positive</td>\n",
       "      <td>özellikle karma hassas cildiniz varsa la rocay...</td>\n",
       "    </tr>\n",
       "    <tr>\n",
       "      <th>4</th>\n",
       "      <td>4</td>\n",
       "      <td>Negative</td>\n",
       "      <td>iyi nemlendiriyor ucuz muadilleri var buna par...</td>\n",
       "    </tr>\n",
       "  </tbody>\n",
       "</table>\n",
       "</div>"
      ],
      "text/plain": [
       "   id     score                                             review\n",
       "0   0  Positive                         kokusu güzel etkisi efsane\n",
       "1   1  Negative                bir fark olmadı siyah nokta silmedi\n",
       "2   2  Positive        şeffaf güzel bir krem elimi yumuşacık yaptı\n",
       "3   3  Positive  özellikle karma hassas cildiniz varsa la rocay...\n",
       "4   4  Negative  iyi nemlendiriyor ucuz muadilleri var buna par..."
      ]
     },
     "execution_count": 81,
     "metadata": {},
     "output_type": "execute_result"
    }
   ],
   "source": [
    "maydogan.head()"
   ]
  },
  {
   "cell_type": "code",
   "execution_count": 82,
   "metadata": {},
   "outputs": [
    {
     "data": {
      "text/plain": [
       "id        0\n",
       "score     0\n",
       "review    0\n",
       "dtype: int64"
      ]
     },
     "execution_count": 82,
     "metadata": {},
     "output_type": "execute_result"
    }
   ],
   "source": [
    "maydogan.isnull().sum()"
   ]
  },
  {
   "cell_type": "code",
   "execution_count": 83,
   "metadata": {},
   "outputs": [
    {
     "data": {
      "text/plain": [
       "score\n",
       "Positive    50000\n",
       "Negative    50000\n",
       "Neutral     50000\n",
       "Name: count, dtype: int64"
      ]
     },
     "execution_count": 83,
     "metadata": {},
     "output_type": "execute_result"
    }
   ],
   "source": [
    "maydogan[\"score\"].value_counts()"
   ]
  },
  {
   "cell_type": "code",
   "execution_count": 84,
   "metadata": {},
   "outputs": [],
   "source": [
    "maydogan = maydogan.rename(columns={\"score\":\"label\", \"review\":\"text\"})[[\"text\",\"label\"]]\n",
    "maydogan[\"label\"] = maydogan[\"label\"].map({\"Positive\":1, \"Negative\":2, \"Neutral\": 0})"
   ]
  },
  {
   "cell_type": "code",
   "execution_count": 85,
   "metadata": {},
   "outputs": [
    {
     "data": {
      "text/html": [
       "<div>\n",
       "<style scoped>\n",
       "    .dataframe tbody tr th:only-of-type {\n",
       "        vertical-align: middle;\n",
       "    }\n",
       "\n",
       "    .dataframe tbody tr th {\n",
       "        vertical-align: top;\n",
       "    }\n",
       "\n",
       "    .dataframe thead th {\n",
       "        text-align: right;\n",
       "    }\n",
       "</style>\n",
       "<table border=\"1\" class=\"dataframe\">\n",
       "  <thead>\n",
       "    <tr style=\"text-align: right;\">\n",
       "      <th></th>\n",
       "      <th>text</th>\n",
       "      <th>label</th>\n",
       "    </tr>\n",
       "  </thead>\n",
       "  <tbody>\n",
       "    <tr>\n",
       "      <th>0</th>\n",
       "      <td>kokusu güzel etkisi efsane</td>\n",
       "      <td>1</td>\n",
       "    </tr>\n",
       "    <tr>\n",
       "      <th>1</th>\n",
       "      <td>bir fark olmadı siyah nokta silmedi</td>\n",
       "      <td>2</td>\n",
       "    </tr>\n",
       "    <tr>\n",
       "      <th>2</th>\n",
       "      <td>şeffaf güzel bir krem elimi yumuşacık yaptı</td>\n",
       "      <td>1</td>\n",
       "    </tr>\n",
       "    <tr>\n",
       "      <th>3</th>\n",
       "      <td>özellikle karma hassas cildiniz varsa la rocay...</td>\n",
       "      <td>1</td>\n",
       "    </tr>\n",
       "    <tr>\n",
       "      <th>4</th>\n",
       "      <td>iyi nemlendiriyor ucuz muadilleri var buna par...</td>\n",
       "      <td>2</td>\n",
       "    </tr>\n",
       "  </tbody>\n",
       "</table>\n",
       "</div>"
      ],
      "text/plain": [
       "                                                text  label\n",
       "0                         kokusu güzel etkisi efsane      1\n",
       "1                bir fark olmadı siyah nokta silmedi      2\n",
       "2        şeffaf güzel bir krem elimi yumuşacık yaptı      1\n",
       "3  özellikle karma hassas cildiniz varsa la rocay...      1\n",
       "4  iyi nemlendiriyor ucuz muadilleri var buna par...      2"
      ]
     },
     "execution_count": 85,
     "metadata": {},
     "output_type": "execute_result"
    }
   ],
   "source": [
    "maydogan.head()"
   ]
  },
  {
   "cell_type": "code",
   "execution_count": 86,
   "metadata": {},
   "outputs": [],
   "source": [
    "# maydogan.to_csv(\"processed_data/processed_maydogan.csv\",sep=\";\", index=False)"
   ]
  },
  {
   "cell_type": "markdown",
   "metadata": {},
   "source": [
    "# winvoker"
   ]
  },
  {
   "cell_type": "code",
   "execution_count": 87,
   "metadata": {},
   "outputs": [],
   "source": [
    "winvoker = pd.read_csv(\"data/winvoker.csv\", sep=\";\")"
   ]
  },
  {
   "cell_type": "code",
   "execution_count": 88,
   "metadata": {},
   "outputs": [
    {
     "data": {
      "text/html": [
       "<div>\n",
       "<style scoped>\n",
       "    .dataframe tbody tr th:only-of-type {\n",
       "        vertical-align: middle;\n",
       "    }\n",
       "\n",
       "    .dataframe tbody tr th {\n",
       "        vertical-align: top;\n",
       "    }\n",
       "\n",
       "    .dataframe thead th {\n",
       "        text-align: right;\n",
       "    }\n",
       "</style>\n",
       "<table border=\"1\" class=\"dataframe\">\n",
       "  <thead>\n",
       "    <tr style=\"text-align: right;\">\n",
       "      <th></th>\n",
       "      <th>text</th>\n",
       "      <th>label</th>\n",
       "      <th>dataset</th>\n",
       "    </tr>\n",
       "  </thead>\n",
       "  <tbody>\n",
       "    <tr>\n",
       "      <th>0</th>\n",
       "      <td>ürünü hepsiburadadan alalı 3 hafta oldu. orjin...</td>\n",
       "      <td>Positive</td>\n",
       "      <td>urun_yorumlari</td>\n",
       "    </tr>\n",
       "    <tr>\n",
       "      <th>1</th>\n",
       "      <td>ürünlerden çok memnunum, kesinlikle herkese ta...</td>\n",
       "      <td>Positive</td>\n",
       "      <td>urun_yorumlari</td>\n",
       "    </tr>\n",
       "    <tr>\n",
       "      <th>2</th>\n",
       "      <td>hızlı kargo, temiz alışveriş.teşekkür ederim.</td>\n",
       "      <td>Positive</td>\n",
       "      <td>urun_yorumlari</td>\n",
       "    </tr>\n",
       "    <tr>\n",
       "      <th>3</th>\n",
       "      <td>Çünkü aranan tapınak bu bölgededir .</td>\n",
       "      <td>Notr</td>\n",
       "      <td>wiki</td>\n",
       "    </tr>\n",
       "    <tr>\n",
       "      <th>4</th>\n",
       "      <td>bu telefonu başlıca alma nedenlerim ise elimde...</td>\n",
       "      <td>Positive</td>\n",
       "      <td>urun_yorumlari</td>\n",
       "    </tr>\n",
       "    <tr>\n",
       "      <th>...</th>\n",
       "      <td>...</td>\n",
       "      <td>...</td>\n",
       "      <td>...</td>\n",
       "    </tr>\n",
       "    <tr>\n",
       "      <th>489639</th>\n",
       "      <td>Fransa bayrağı diğer kırmızı zeminden beyaz bi...</td>\n",
       "      <td>Notr</td>\n",
       "      <td>wiki</td>\n",
       "    </tr>\n",
       "    <tr>\n",
       "      <th>489640</th>\n",
       "      <td>Yine aynı yıl türkü dalında Murat Çobanoğlu il...</td>\n",
       "      <td>Notr</td>\n",
       "      <td>wiki</td>\n",
       "    </tr>\n",
       "    <tr>\n",
       "      <th>489641</th>\n",
       "      <td>Kurgunu skiyim oç evladı</td>\n",
       "      <td>Negative</td>\n",
       "      <td>tweet-pn</td>\n",
       "    </tr>\n",
       "    <tr>\n",
       "      <th>489642</th>\n",
       "      <td>Şarkı daha sonrasında Damian Marley tarafından...</td>\n",
       "      <td>Notr</td>\n",
       "      <td>wiki</td>\n",
       "    </tr>\n",
       "    <tr>\n",
       "      <th>489643</th>\n",
       "      <td>berrak bir ürün ancak kendi orijinal spigen ly...</td>\n",
       "      <td>Negative</td>\n",
       "      <td>urun_yorumlari</td>\n",
       "    </tr>\n",
       "  </tbody>\n",
       "</table>\n",
       "<p>489644 rows × 3 columns</p>\n",
       "</div>"
      ],
      "text/plain": [
       "                                                     text     label  \\\n",
       "0       ürünü hepsiburadadan alalı 3 hafta oldu. orjin...  Positive   \n",
       "1       ürünlerden çok memnunum, kesinlikle herkese ta...  Positive   \n",
       "2           hızlı kargo, temiz alışveriş.teşekkür ederim.  Positive   \n",
       "3                    Çünkü aranan tapınak bu bölgededir .      Notr   \n",
       "4       bu telefonu başlıca alma nedenlerim ise elimde...  Positive   \n",
       "...                                                   ...       ...   \n",
       "489639  Fransa bayrağı diğer kırmızı zeminden beyaz bi...      Notr   \n",
       "489640  Yine aynı yıl türkü dalında Murat Çobanoğlu il...      Notr   \n",
       "489641                           Kurgunu skiyim oç evladı  Negative   \n",
       "489642  Şarkı daha sonrasında Damian Marley tarafından...      Notr   \n",
       "489643  berrak bir ürün ancak kendi orijinal spigen ly...  Negative   \n",
       "\n",
       "               dataset  \n",
       "0       urun_yorumlari  \n",
       "1       urun_yorumlari  \n",
       "2       urun_yorumlari  \n",
       "3                 wiki  \n",
       "4       urun_yorumlari  \n",
       "...                ...  \n",
       "489639            wiki  \n",
       "489640            wiki  \n",
       "489641        tweet-pn  \n",
       "489642            wiki  \n",
       "489643  urun_yorumlari  \n",
       "\n",
       "[489644 rows x 3 columns]"
      ]
     },
     "execution_count": 88,
     "metadata": {},
     "output_type": "execute_result"
    }
   ],
   "source": [
    "winvoker"
   ]
  },
  {
   "cell_type": "code",
   "execution_count": 89,
   "metadata": {},
   "outputs": [
    {
     "data": {
      "text/plain": [
       "dataset\n",
       "urun_yorumlari      234183\n",
       "wiki                170413\n",
       "HUMIR                65000\n",
       "tweet-pn             11055\n",
       "magaza_yorumlari      8489\n",
       "random                 504\n",
       "Name: count, dtype: int64"
      ]
     },
     "execution_count": 89,
     "metadata": {},
     "output_type": "execute_result"
    }
   ],
   "source": [
    "winvoker[\"dataset\"].value_counts()"
   ]
  },
  {
   "cell_type": "code",
   "execution_count": 90,
   "metadata": {},
   "outputs": [
    {
     "data": {
      "text/plain": [
       "label\n",
       "Positive    262166\n",
       "Notr        170917\n",
       "Negative     56561\n",
       "Name: count, dtype: int64"
      ]
     },
     "execution_count": 90,
     "metadata": {},
     "output_type": "execute_result"
    }
   ],
   "source": [
    "winvoker[\"label\"].value_counts()"
   ]
  },
  {
   "cell_type": "code",
   "execution_count": 91,
   "metadata": {},
   "outputs": [
    {
     "data": {
      "text/html": [
       "<div>\n",
       "<style scoped>\n",
       "    .dataframe tbody tr th:only-of-type {\n",
       "        vertical-align: middle;\n",
       "    }\n",
       "\n",
       "    .dataframe tbody tr th {\n",
       "        vertical-align: top;\n",
       "    }\n",
       "\n",
       "    .dataframe thead th {\n",
       "        text-align: right;\n",
       "    }\n",
       "</style>\n",
       "<table border=\"1\" class=\"dataframe\">\n",
       "  <thead>\n",
       "    <tr style=\"text-align: right;\">\n",
       "      <th></th>\n",
       "      <th>text</th>\n",
       "      <th>label</th>\n",
       "      <th>dataset</th>\n",
       "    </tr>\n",
       "  </thead>\n",
       "  <tbody>\n",
       "    <tr>\n",
       "      <th>9</th>\n",
       "      <td>Zaten filmde Şener Şen olması ve Türkiyenin g...</td>\n",
       "      <td>Positive</td>\n",
       "      <td>HUMIR</td>\n",
       "    </tr>\n",
       "    <tr>\n",
       "      <th>28</th>\n",
       "      <td>sinema tarihinin en güzel filmlerinden birisi...</td>\n",
       "      <td>Positive</td>\n",
       "      <td>HUMIR</td>\n",
       "    </tr>\n",
       "    <tr>\n",
       "      <th>54</th>\n",
       "      <td>süper süper süper öncelikle eksilerini kendim...</td>\n",
       "      <td>Positive</td>\n",
       "      <td>HUMIR</td>\n",
       "    </tr>\n",
       "    <tr>\n",
       "      <th>57</th>\n",
       "      <td>serinin en iyisi tabiki 2.sidir herhalde. . ....</td>\n",
       "      <td>Positive</td>\n",
       "      <td>HUMIR</td>\n",
       "    </tr>\n",
       "    <tr>\n",
       "      <th>72</th>\n",
       "      <td>iyi...iyi...10/9,5</td>\n",
       "      <td>Positive</td>\n",
       "      <td>HUMIR</td>\n",
       "    </tr>\n",
       "    <tr>\n",
       "      <th>...</th>\n",
       "      <td>...</td>\n",
       "      <td>...</td>\n",
       "      <td>...</td>\n",
       "    </tr>\n",
       "    <tr>\n",
       "      <th>489581</th>\n",
       "      <td>Yönetmen hans weingartner bu filmle çok sayıd...</td>\n",
       "      <td>Positive</td>\n",
       "      <td>HUMIR</td>\n",
       "    </tr>\n",
       "    <tr>\n",
       "      <th>489594</th>\n",
       "      <td>berbatotele gezisitesi com un son dakkada bize...</td>\n",
       "      <td>Negative</td>\n",
       "      <td>HUMIR</td>\n",
       "    </tr>\n",
       "    <tr>\n",
       "      <th>489604</th>\n",
       "      <td>HArika bir film olmuş herkesin izlemesini tav...</td>\n",
       "      <td>Positive</td>\n",
       "      <td>HUMIR</td>\n",
       "    </tr>\n",
       "    <tr>\n",
       "      <th>489625</th>\n",
       "      <td>igrenç bir film korku filmi denemez buna tek ...</td>\n",
       "      <td>Negative</td>\n",
       "      <td>HUMIR</td>\n",
       "    </tr>\n",
       "    <tr>\n",
       "      <th>489638</th>\n",
       "      <td>Asla gelmeyin... ilk olarak odalar bakımsız ve...</td>\n",
       "      <td>Negative</td>\n",
       "      <td>HUMIR</td>\n",
       "    </tr>\n",
       "  </tbody>\n",
       "</table>\n",
       "<p>65000 rows × 3 columns</p>\n",
       "</div>"
      ],
      "text/plain": [
       "                                                     text     label dataset\n",
       "9        Zaten filmde Şener Şen olması ve Türkiyenin g...  Positive   HUMIR\n",
       "28       sinema tarihinin en güzel filmlerinden birisi...  Positive   HUMIR\n",
       "54       süper süper süper öncelikle eksilerini kendim...  Positive   HUMIR\n",
       "57       serinin en iyisi tabiki 2.sidir herhalde. . ....  Positive   HUMIR\n",
       "72                                    iyi...iyi...10/9,5   Positive   HUMIR\n",
       "...                                                   ...       ...     ...\n",
       "489581   Yönetmen hans weingartner bu filmle çok sayıd...  Positive   HUMIR\n",
       "489594  berbatotele gezisitesi com un son dakkada bize...  Negative   HUMIR\n",
       "489604   HArika bir film olmuş herkesin izlemesini tav...  Positive   HUMIR\n",
       "489625   igrenç bir film korku filmi denemez buna tek ...  Negative   HUMIR\n",
       "489638  Asla gelmeyin... ilk olarak odalar bakımsız ve...  Negative   HUMIR\n",
       "\n",
       "[65000 rows x 3 columns]"
      ]
     },
     "execution_count": 91,
     "metadata": {},
     "output_type": "execute_result"
    }
   ],
   "source": [
    "winvoker[winvoker[\"dataset\"] == \"HUMIR\"]"
   ]
  },
  {
   "cell_type": "code",
   "execution_count": 92,
   "metadata": {},
   "outputs": [],
   "source": [
    "winvoker[\"label\"] = winvoker[\"label\"].map({\"Positive\":1, \"Negative\":2, \"Notr\": 0})"
   ]
  },
  {
   "cell_type": "code",
   "execution_count": 93,
   "metadata": {},
   "outputs": [
    {
     "name": "stdout",
     "output_type": "stream",
     "text": [
      "<class 'pandas.core.frame.DataFrame'>\n",
      "RangeIndex: 489644 entries, 0 to 489643\n",
      "Data columns (total 3 columns):\n",
      " #   Column   Non-Null Count   Dtype \n",
      "---  ------   --------------   ----- \n",
      " 0   text     489644 non-null  object\n",
      " 1   label    489644 non-null  int64 \n",
      " 2   dataset  489644 non-null  object\n",
      "dtypes: int64(1), object(2)\n",
      "memory usage: 11.2+ MB\n"
     ]
    }
   ],
   "source": [
    "winvoker.info()"
   ]
  },
  {
   "cell_type": "code",
   "execution_count": 94,
   "metadata": {},
   "outputs": [],
   "source": [
    "winvoker[\"text\"] = winvoker[\"text\"].apply(clean_text)"
   ]
  },
  {
   "cell_type": "code",
   "execution_count": 95,
   "metadata": {},
   "outputs": [
    {
     "data": {
      "text/html": [
       "<div>\n",
       "<style scoped>\n",
       "    .dataframe tbody tr th:only-of-type {\n",
       "        vertical-align: middle;\n",
       "    }\n",
       "\n",
       "    .dataframe tbody tr th {\n",
       "        vertical-align: top;\n",
       "    }\n",
       "\n",
       "    .dataframe thead th {\n",
       "        text-align: right;\n",
       "    }\n",
       "</style>\n",
       "<table border=\"1\" class=\"dataframe\">\n",
       "  <thead>\n",
       "    <tr style=\"text-align: right;\">\n",
       "      <th></th>\n",
       "      <th>text</th>\n",
       "      <th>label</th>\n",
       "      <th>dataset</th>\n",
       "    </tr>\n",
       "  </thead>\n",
       "  <tbody>\n",
       "    <tr>\n",
       "      <th>0</th>\n",
       "      <td>ürünü hepsiburadadan alalı hafta oldu orjinal ...</td>\n",
       "      <td>1</td>\n",
       "      <td>urun_yorumlari</td>\n",
       "    </tr>\n",
       "    <tr>\n",
       "      <th>1</th>\n",
       "      <td>ürünlerden memnunum kesinlikle herkese tavsiye...</td>\n",
       "      <td>1</td>\n",
       "      <td>urun_yorumlari</td>\n",
       "    </tr>\n",
       "    <tr>\n",
       "      <th>2</th>\n",
       "      <td>hızlı kargo temiz alışverişteşekkür ederim</td>\n",
       "      <td>1</td>\n",
       "      <td>urun_yorumlari</td>\n",
       "    </tr>\n",
       "    <tr>\n",
       "      <th>3</th>\n",
       "      <td>aranan tapınak bölgededir</td>\n",
       "      <td>0</td>\n",
       "      <td>wiki</td>\n",
       "    </tr>\n",
       "    <tr>\n",
       "      <th>4</th>\n",
       "      <td>telefonu başlıca alma nedenlerim elimdeki sams...</td>\n",
       "      <td>1</td>\n",
       "      <td>urun_yorumlari</td>\n",
       "    </tr>\n",
       "  </tbody>\n",
       "</table>\n",
       "</div>"
      ],
      "text/plain": [
       "                                                text  label         dataset\n",
       "0  ürünü hepsiburadadan alalı hafta oldu orjinal ...      1  urun_yorumlari\n",
       "1  ürünlerden memnunum kesinlikle herkese tavsiye...      1  urun_yorumlari\n",
       "2         hızlı kargo temiz alışverişteşekkür ederim      1  urun_yorumlari\n",
       "3                          aranan tapınak bölgededir      0            wiki\n",
       "4  telefonu başlıca alma nedenlerim elimdeki sams...      1  urun_yorumlari"
      ]
     },
     "execution_count": 95,
     "metadata": {},
     "output_type": "execute_result"
    }
   ],
   "source": [
    "winvoker.head()"
   ]
  },
  {
   "cell_type": "code",
   "execution_count": 96,
   "metadata": {},
   "outputs": [],
   "source": [
    "# winvoker[[\"text\",\"label\"]].to_csv(\"processed_data/processed_winvoker.csv\", sep=\";\", index=False)"
   ]
  },
  {
   "cell_type": "markdown",
   "metadata": {},
   "source": [
    "# nlp_suite\n",
    "\n",
    "we can use for test"
   ]
  },
  {
   "cell_type": "code",
   "execution_count": 97,
   "metadata": {},
   "outputs": [],
   "source": [
    "nlp_suite = pd.read_csv(\"data/nlp_suite.csv\", sep=\";\")\n"
   ]
  },
  {
   "cell_type": "code",
   "execution_count": 98,
   "metadata": {},
   "outputs": [
    {
     "data": {
      "text/html": [
       "<div>\n",
       "<style scoped>\n",
       "    .dataframe tbody tr th:only-of-type {\n",
       "        vertical-align: middle;\n",
       "    }\n",
       "\n",
       "    .dataframe tbody tr th {\n",
       "        vertical-align: top;\n",
       "    }\n",
       "\n",
       "    .dataframe thead th {\n",
       "        text-align: right;\n",
       "    }\n",
       "</style>\n",
       "<table border=\"1\" class=\"dataframe\">\n",
       "  <thead>\n",
       "    <tr style=\"text-align: right;\">\n",
       "      <th></th>\n",
       "      <th>movie</th>\n",
       "      <th>text</th>\n",
       "      <th>star</th>\n",
       "    </tr>\n",
       "  </thead>\n",
       "  <tbody>\n",
       "    <tr>\n",
       "      <th>0</th>\n",
       "      <td>5. Element</td>\n",
       "      <td>bruce willis için izlediğim bir filmdi pişmand...</td>\n",
       "      <td>3.5</td>\n",
       "    </tr>\n",
       "    <tr>\n",
       "      <th>1</th>\n",
       "      <td>Son Ültimatom</td>\n",
       "      <td>Heyecanlı sürükleyici çok iyi bir aksiyon filmi.</td>\n",
       "      <td>4.5</td>\n",
       "    </tr>\n",
       "    <tr>\n",
       "      <th>2</th>\n",
       "      <td>Matrix</td>\n",
       "      <td>Sinema teknolojisinde çığır açan ve peşinden g...</td>\n",
       "      <td>5.0</td>\n",
       "    </tr>\n",
       "    <tr>\n",
       "      <th>3</th>\n",
       "      <td>Geçmişin Gölgesinde</td>\n",
       "      <td>IRKCILIK ÜZERİNE YAPILMIŞ GELMİŞ GEÇMİŞ EN BÜY...</td>\n",
       "      <td>5.0</td>\n",
       "    </tr>\n",
       "    <tr>\n",
       "      <th>4</th>\n",
       "      <td>Köstebek</td>\n",
       "      <td>pek de bi numarası olmayan,jack nicholson un y...</td>\n",
       "      <td>3.5</td>\n",
       "    </tr>\n",
       "  </tbody>\n",
       "</table>\n",
       "</div>"
      ],
      "text/plain": [
       "                 movie                                               text  \\\n",
       "0           5. Element  bruce willis için izlediğim bir filmdi pişmand...   \n",
       "1        Son Ültimatom   Heyecanlı sürükleyici çok iyi bir aksiyon filmi.   \n",
       "2               Matrix  Sinema teknolojisinde çığır açan ve peşinden g...   \n",
       "3  Geçmişin Gölgesinde  IRKCILIK ÜZERİNE YAPILMIŞ GELMİŞ GEÇMİŞ EN BÜY...   \n",
       "4             Köstebek  pek de bi numarası olmayan,jack nicholson un y...   \n",
       "\n",
       "   star  \n",
       "0   3.5  \n",
       "1   4.5  \n",
       "2   5.0  \n",
       "3   5.0  \n",
       "4   3.5  "
      ]
     },
     "execution_count": 98,
     "metadata": {},
     "output_type": "execute_result"
    }
   ],
   "source": [
    "nlp_suite.head()"
   ]
  },
  {
   "cell_type": "code",
   "execution_count": 99,
   "metadata": {},
   "outputs": [
    {
     "name": "stdout",
     "output_type": "stream",
     "text": [
      "<class 'pandas.core.frame.DataFrame'>\n",
      "RangeIndex: 54015 entries, 0 to 54014\n",
      "Data columns (total 3 columns):\n",
      " #   Column  Non-Null Count  Dtype  \n",
      "---  ------  --------------  -----  \n",
      " 0   movie   54015 non-null  object \n",
      " 1   text    54015 non-null  object \n",
      " 2   star    54015 non-null  float64\n",
      "dtypes: float64(1), object(2)\n",
      "memory usage: 1.2+ MB\n"
     ]
    }
   ],
   "source": [
    "nlp_suite.info()"
   ]
  },
  {
   "cell_type": "code",
   "execution_count": 100,
   "metadata": {},
   "outputs": [
    {
     "data": {
      "text/plain": [
       "star\n",
       "5.0    17351\n",
       "4.0    13248\n",
       "4.5    10077\n",
       "3.5     5550\n",
       "2.5     2439\n",
       "3.0     2277\n",
       "0.5     1657\n",
       "2.0      608\n",
       "1.0      535\n",
       "1.5      273\n",
       "Name: count, dtype: int64"
      ]
     },
     "execution_count": 100,
     "metadata": {},
     "output_type": "execute_result"
    }
   ],
   "source": [
    "nlp_suite[\"star\"].value_counts()"
   ]
  },
  {
   "cell_type": "code",
   "execution_count": 101,
   "metadata": {},
   "outputs": [],
   "source": [
    "nlp_suite[\"text\"] = nlp_suite[\"text\"].apply(clean_text)"
   ]
  },
  {
   "cell_type": "code",
   "execution_count": 102,
   "metadata": {},
   "outputs": [
    {
     "data": {
      "text/html": [
       "<div>\n",
       "<style scoped>\n",
       "    .dataframe tbody tr th:only-of-type {\n",
       "        vertical-align: middle;\n",
       "    }\n",
       "\n",
       "    .dataframe tbody tr th {\n",
       "        vertical-align: top;\n",
       "    }\n",
       "\n",
       "    .dataframe thead th {\n",
       "        text-align: right;\n",
       "    }\n",
       "</style>\n",
       "<table border=\"1\" class=\"dataframe\">\n",
       "  <thead>\n",
       "    <tr style=\"text-align: right;\">\n",
       "      <th></th>\n",
       "      <th>movie</th>\n",
       "      <th>text</th>\n",
       "      <th>star</th>\n",
       "    </tr>\n",
       "  </thead>\n",
       "  <tbody>\n",
       "    <tr>\n",
       "      <th>21289</th>\n",
       "      <td>Harry Potter ve Ateş Kadehi</td>\n",
       "      <td>serinin bir güzel filmi bence hiçbir özelliğin...</td>\n",
       "      <td>4.5</td>\n",
       "    </tr>\n",
       "    <tr>\n",
       "      <th>42862</th>\n",
       "      <td>Zincirsiz</td>\n",
       "      <td>tarantinonun filmine aynı yorumları yazmaktan ...</td>\n",
       "      <td>5.0</td>\n",
       "    </tr>\n",
       "    <tr>\n",
       "      <th>47152</th>\n",
       "      <td>İhtiyar Delikanlı</td>\n",
       "      <td>film yerlerinde sıksadasonunda güm tokatı yapı...</td>\n",
       "      <td>4.0</td>\n",
       "    </tr>\n",
       "    <tr>\n",
       "      <th>14708</th>\n",
       "      <td>Selam: Bahara Yolculuk</td>\n",
       "      <td>cok duygusal fragmani herseyi ozetliyor emegin...</td>\n",
       "      <td>5.0</td>\n",
       "    </tr>\n",
       "    <tr>\n",
       "      <th>33624</th>\n",
       "      <td>Kabadayı</td>\n",
       "      <td>rasim öztekin döktürmüş resmen</td>\n",
       "      <td>5.0</td>\n",
       "    </tr>\n",
       "    <tr>\n",
       "      <th>9279</th>\n",
       "      <td>Cennet Gibi</td>\n",
       "      <td>güzel bir filmbirazcık bir filmi anımsatıı ban...</td>\n",
       "      <td>4.0</td>\n",
       "    </tr>\n",
       "    <tr>\n",
       "      <th>27182</th>\n",
       "      <td>Matrix</td>\n",
       "      <td>serinin iyisi diyebilirim sizi bambaşka hayall...</td>\n",
       "      <td>5.0</td>\n",
       "    </tr>\n",
       "    <tr>\n",
       "      <th>27557</th>\n",
       "      <td>Kabadayı</td>\n",
       "      <td>öncelikle seçici davranan yüzünü sürekli özlet...</td>\n",
       "      <td>3.5</td>\n",
       "    </tr>\n",
       "    <tr>\n",
       "      <th>40455</th>\n",
       "      <td>120</td>\n",
       "      <td>sitedeki puanlamanın etkisiyle beklentim yükse...</td>\n",
       "      <td>2.0</td>\n",
       "    </tr>\n",
       "    <tr>\n",
       "      <th>37733</th>\n",
       "      <td>Bayram Abi</td>\n",
       "      <td>filme muhteşem deyip bi buçuk üzerine puan ver...</td>\n",
       "      <td>0.5</td>\n",
       "    </tr>\n",
       "  </tbody>\n",
       "</table>\n",
       "</div>"
      ],
      "text/plain": [
       "                             movie  \\\n",
       "21289  Harry Potter ve Ateş Kadehi   \n",
       "42862                    Zincirsiz   \n",
       "47152            İhtiyar Delikanlı   \n",
       "14708       Selam: Bahara Yolculuk   \n",
       "33624                     Kabadayı   \n",
       "9279                   Cennet Gibi   \n",
       "27182                       Matrix   \n",
       "27557                     Kabadayı   \n",
       "40455                          120   \n",
       "37733                   Bayram Abi   \n",
       "\n",
       "                                                    text  star  \n",
       "21289  serinin bir güzel filmi bence hiçbir özelliğin...   4.5  \n",
       "42862  tarantinonun filmine aynı yorumları yazmaktan ...   5.0  \n",
       "47152  film yerlerinde sıksadasonunda güm tokatı yapı...   4.0  \n",
       "14708  cok duygusal fragmani herseyi ozetliyor emegin...   5.0  \n",
       "33624                     rasim öztekin döktürmüş resmen   5.0  \n",
       "9279   güzel bir filmbirazcık bir filmi anımsatıı ban...   4.0  \n",
       "27182  serinin iyisi diyebilirim sizi bambaşka hayall...   5.0  \n",
       "27557  öncelikle seçici davranan yüzünü sürekli özlet...   3.5  \n",
       "40455  sitedeki puanlamanın etkisiyle beklentim yükse...   2.0  \n",
       "37733  filme muhteşem deyip bi buçuk üzerine puan ver...   0.5  "
      ]
     },
     "execution_count": 102,
     "metadata": {},
     "output_type": "execute_result"
    }
   ],
   "source": [
    "nlp_suite.sample(10)"
   ]
  },
  {
   "cell_type": "code",
   "execution_count": 103,
   "metadata": {},
   "outputs": [],
   "source": [
    "# nlp_suite[[\"text\",\"star\"]].to_csv(\"processed_data/processed_nlp_suite.csv\", sep=\";\")"
   ]
  },
  {
   "cell_type": "markdown",
   "metadata": {},
   "source": [
    "# sepidmnorozy"
   ]
  },
  {
   "cell_type": "code",
   "execution_count": 122,
   "metadata": {},
   "outputs": [],
   "source": [
    "sepidmnorozy = pd.read_csv(\"data/sepidmnorozy.csv\",sep=\";\")"
   ]
  },
  {
   "cell_type": "code",
   "execution_count": 123,
   "metadata": {},
   "outputs": [
    {
     "data": {
      "text/html": [
       "<div>\n",
       "<style scoped>\n",
       "    .dataframe tbody tr th:only-of-type {\n",
       "        vertical-align: middle;\n",
       "    }\n",
       "\n",
       "    .dataframe tbody tr th {\n",
       "        vertical-align: top;\n",
       "    }\n",
       "\n",
       "    .dataframe thead th {\n",
       "        text-align: right;\n",
       "    }\n",
       "</style>\n",
       "<table border=\"1\" class=\"dataframe\">\n",
       "  <thead>\n",
       "    <tr style=\"text-align: right;\">\n",
       "      <th></th>\n",
       "      <th>label</th>\n",
       "      <th>text</th>\n",
       "    </tr>\n",
       "  </thead>\n",
       "  <tbody>\n",
       "    <tr>\n",
       "      <th>225</th>\n",
       "      <td>1</td>\n",
       "      <td>Hepsi ayri lezzetli.</td>\n",
       "    </tr>\n",
       "    <tr>\n",
       "      <th>2670</th>\n",
       "      <td>1</td>\n",
       "      <td>Ürün güzel, fiyat uygun, satıcı ilgili,teslima...</td>\n",
       "    </tr>\n",
       "    <tr>\n",
       "      <th>2377</th>\n",
       "      <td>1</td>\n",
       "      <td>Kesinlikle çok Kaliteli ve rahat..Bel agrısı s...</td>\n",
       "    </tr>\n",
       "    <tr>\n",
       "      <th>1326</th>\n",
       "      <td>0</td>\n",
       "      <td>Aldığıma çok pişman oldum. Düşündüğümden daha ...</td>\n",
       "    </tr>\n",
       "    <tr>\n",
       "      <th>1518</th>\n",
       "      <td>1</td>\n",
       "      <td>Çok sessiz,çok estetik, çok işlevsel.. Herkese...</td>\n",
       "    </tr>\n",
       "    <tr>\n",
       "      <th>2281</th>\n",
       "      <td>1</td>\n",
       "      <td>ürün 2 günde elime ulaştı, tak çalıştır. hemen...</td>\n",
       "    </tr>\n",
       "    <tr>\n",
       "      <th>1256</th>\n",
       "      <td>0</td>\n",
       "      <td>200 ml şişesini aldım sıktıktan yarım saat son...</td>\n",
       "    </tr>\n",
       "    <tr>\n",
       "      <th>2589</th>\n",
       "      <td>1</td>\n",
       "      <td>HER BEBEK BEZİNİ DENEDİM HEM FİYAT OLARAK HEMD...</td>\n",
       "    </tr>\n",
       "    <tr>\n",
       "      <th>1997</th>\n",
       "      <td>1</td>\n",
       "      <td>süpürkeyi bugün aldım ve kullandım, halıyı ade...</td>\n",
       "    </tr>\n",
       "    <tr>\n",
       "      <th>4360</th>\n",
       "      <td>0</td>\n",
       "      <td>yorumlara bakarak abartildigi kadar degill yiy...</td>\n",
       "    </tr>\n",
       "  </tbody>\n",
       "</table>\n",
       "</div>"
      ],
      "text/plain": [
       "      label                                               text\n",
       "225       1                               Hepsi ayri lezzetli.\n",
       "2670      1  Ürün güzel, fiyat uygun, satıcı ilgili,teslima...\n",
       "2377      1  Kesinlikle çok Kaliteli ve rahat..Bel agrısı s...\n",
       "1326      0  Aldığıma çok pişman oldum. Düşündüğümden daha ...\n",
       "1518      1  Çok sessiz,çok estetik, çok işlevsel.. Herkese...\n",
       "2281      1  ürün 2 günde elime ulaştı, tak çalıştır. hemen...\n",
       "1256      0  200 ml şişesini aldım sıktıktan yarım saat son...\n",
       "2589      1  HER BEBEK BEZİNİ DENEDİM HEM FİYAT OLARAK HEMD...\n",
       "1997      1  süpürkeyi bugün aldım ve kullandım, halıyı ade...\n",
       "4360      0  yorumlara bakarak abartildigi kadar degill yiy..."
      ]
     },
     "execution_count": 123,
     "metadata": {},
     "output_type": "execute_result"
    }
   ],
   "source": [
    "sepidmnorozy.sample(10)"
   ]
  },
  {
   "cell_type": "code",
   "execution_count": 124,
   "metadata": {},
   "outputs": [
    {
     "name": "stdout",
     "output_type": "stream",
     "text": [
      "<class 'pandas.core.frame.DataFrame'>\n",
      "RangeIndex: 4802 entries, 0 to 4801\n",
      "Data columns (total 2 columns):\n",
      " #   Column  Non-Null Count  Dtype \n",
      "---  ------  --------------  ----- \n",
      " 0   label   4802 non-null   int64 \n",
      " 1   text    4802 non-null   object\n",
      "dtypes: int64(1), object(1)\n",
      "memory usage: 75.2+ KB\n"
     ]
    }
   ],
   "source": [
    "sepidmnorozy.info()"
   ]
  },
  {
   "cell_type": "code",
   "execution_count": 125,
   "metadata": {},
   "outputs": [
    {
     "data": {
      "text/plain": [
       "label\n",
       "1    2491\n",
       "0    2311\n",
       "Name: count, dtype: int64"
      ]
     },
     "execution_count": 125,
     "metadata": {},
     "output_type": "execute_result"
    }
   ],
   "source": [
    "sepidmnorozy[\"label\"].value_counts()"
   ]
  },
  {
   "cell_type": "code",
   "execution_count": 126,
   "metadata": {},
   "outputs": [],
   "source": [
    "sepidmnorozy[\"text\"] = sepidmnorozy[\"text\"].apply(clean_text)"
   ]
  },
  {
   "cell_type": "code",
   "execution_count": 127,
   "metadata": {},
   "outputs": [],
   "source": [
    "sepidmnorozy[\"label\"] = sepidmnorozy[\"label\"].map({1:1,0:2})"
   ]
  },
  {
   "cell_type": "code",
   "execution_count": 130,
   "metadata": {},
   "outputs": [
    {
     "data": {
      "text/html": [
       "<div>\n",
       "<style scoped>\n",
       "    .dataframe tbody tr th:only-of-type {\n",
       "        vertical-align: middle;\n",
       "    }\n",
       "\n",
       "    .dataframe tbody tr th {\n",
       "        vertical-align: top;\n",
       "    }\n",
       "\n",
       "    .dataframe thead th {\n",
       "        text-align: right;\n",
       "    }\n",
       "</style>\n",
       "<table border=\"1\" class=\"dataframe\">\n",
       "  <thead>\n",
       "    <tr style=\"text-align: right;\">\n",
       "      <th></th>\n",
       "      <th>label</th>\n",
       "      <th>text</th>\n",
       "    </tr>\n",
       "  </thead>\n",
       "  <tbody>\n",
       "    <tr>\n",
       "      <th>3702</th>\n",
       "      <td>2</td>\n",
       "      <td>eliniz büyükse mousetan uzak durun ufak ayrıca...</td>\n",
       "    </tr>\n",
       "    <tr>\n",
       "      <th>2950</th>\n",
       "      <td>1</td>\n",
       "      <td>yıllardır piyasadaki bilindik markanın jel ürü...</td>\n",
       "    </tr>\n",
       "    <tr>\n",
       "      <th>4607</th>\n",
       "      <td>2</td>\n",
       "      <td>damak tadima hitap edemedi açikçasi</td>\n",
       "    </tr>\n",
       "    <tr>\n",
       "      <th>3336</th>\n",
       "      <td>2</td>\n",
       "      <td>alçak seviyesi yüksek kalıyor oturumu rahat de...</td>\n",
       "    </tr>\n",
       "    <tr>\n",
       "      <th>2983</th>\n",
       "      <td>1</td>\n",
       "      <td>ürünü güzel yorumlarınızı okuduktan sonra anda...</td>\n",
       "    </tr>\n",
       "    <tr>\n",
       "      <th>3082</th>\n",
       "      <td>2</td>\n",
       "      <td>kitabın sayfasındayım sıkıcı bir sonrdan düzel...</td>\n",
       "    </tr>\n",
       "    <tr>\n",
       "      <th>2377</th>\n",
       "      <td>1</td>\n",
       "      <td>kesinlikle kaliteli rahatbel agrısı sırt agrıs...</td>\n",
       "    </tr>\n",
       "    <tr>\n",
       "      <th>1215</th>\n",
       "      <td>2</td>\n",
       "      <td>sabah vermiş olduğum kargo hala gelemdi güya k...</td>\n",
       "    </tr>\n",
       "    <tr>\n",
       "      <th>3631</th>\n",
       "      <td>2</td>\n",
       "      <td>çantanın kollukları sırt tarafındaki kumaşı se...</td>\n",
       "    </tr>\n",
       "    <tr>\n",
       "      <th>1691</th>\n",
       "      <td>1</td>\n",
       "      <td>ürün iyi ses kalitesi şarj süresi mükemmel tav...</td>\n",
       "    </tr>\n",
       "  </tbody>\n",
       "</table>\n",
       "</div>"
      ],
      "text/plain": [
       "      label                                               text\n",
       "3702      2  eliniz büyükse mousetan uzak durun ufak ayrıca...\n",
       "2950      1  yıllardır piyasadaki bilindik markanın jel ürü...\n",
       "4607      2                damak tadima hitap edemedi açikçasi\n",
       "3336      2  alçak seviyesi yüksek kalıyor oturumu rahat de...\n",
       "2983      1  ürünü güzel yorumlarınızı okuduktan sonra anda...\n",
       "3082      2  kitabın sayfasındayım sıkıcı bir sonrdan düzel...\n",
       "2377      1  kesinlikle kaliteli rahatbel agrısı sırt agrıs...\n",
       "1215      2  sabah vermiş olduğum kargo hala gelemdi güya k...\n",
       "3631      2  çantanın kollukları sırt tarafındaki kumaşı se...\n",
       "1691      1  ürün iyi ses kalitesi şarj süresi mükemmel tav..."
      ]
     },
     "execution_count": 130,
     "metadata": {},
     "output_type": "execute_result"
    }
   ],
   "source": [
    "sepidmnorozy.sample(10)"
   ]
  },
  {
   "cell_type": "code",
   "execution_count": 132,
   "metadata": {},
   "outputs": [],
   "source": [
    "# sepidmnorozy[[\"text\",\"label\"]].to_csv(\"processed_data/processed_sepidmnorozy.csv\",sep=\";\", index=False)"
   ]
  },
  {
   "cell_type": "markdown",
   "metadata": {},
   "source": [
    "# MichiganNLP\n",
    "\n",
    "Otel yorumlarının bulunduğu bir dataset"
   ]
  },
  {
   "cell_type": "code",
   "execution_count": 11,
   "metadata": {},
   "outputs": [],
   "source": [
    "micnlp = pd.read_csv(\"data/MichiganNLP.csv\", sep=\";\")[[\"Upside_Review\",\"Downside_Review\",\"Review_Score\", \"Sentiment\"]]"
   ]
  },
  {
   "cell_type": "code",
   "execution_count": 20,
   "metadata": {},
   "outputs": [
    {
     "data": {
      "text/html": [
       "<div>\n",
       "<style scoped>\n",
       "    .dataframe tbody tr th:only-of-type {\n",
       "        vertical-align: middle;\n",
       "    }\n",
       "\n",
       "    .dataframe tbody tr th {\n",
       "        vertical-align: top;\n",
       "    }\n",
       "\n",
       "    .dataframe thead th {\n",
       "        text-align: right;\n",
       "    }\n",
       "</style>\n",
       "<table border=\"1\" class=\"dataframe\">\n",
       "  <thead>\n",
       "    <tr style=\"text-align: right;\">\n",
       "      <th></th>\n",
       "      <th>Upside_Review</th>\n",
       "      <th>Downside_Review</th>\n",
       "      <th>Review_Score</th>\n",
       "      <th>Sentiment</th>\n",
       "    </tr>\n",
       "  </thead>\n",
       "  <tbody>\n",
       "    <tr>\n",
       "      <th>0</th>\n",
       "      <td>Personeli kaliteli ve güler yüzlü gerisi teferruat 🥰🥰🥰</td>\n",
       "      <td>NaN</td>\n",
       "      <td>10.0</td>\n",
       "      <td>POS</td>\n",
       "    </tr>\n",
       "    <tr>\n",
       "      <th>1</th>\n",
       "      <td>Gayet temiz ve konforluydu</td>\n",
       "      <td>NaN</td>\n",
       "      <td>9.0</td>\n",
       "      <td>POS</td>\n",
       "    </tr>\n",
       "    <tr>\n",
       "      <th>2</th>\n",
       "      <td>ışık tamamen kapanmıyordu bu yüzden derin uyuyamadım</td>\n",
       "      <td>NaN</td>\n",
       "      <td>4.0</td>\n",
       "      <td>NEG</td>\n",
       "    </tr>\n",
       "    <tr>\n",
       "      <th>3</th>\n",
       "      <td>oda da dayanılmaz bir kanalizasyon kokusu var. gece ayağım kesildi yara bandı istedim taze bitti dediler çarşaf nevresim kan olsun önemli değil dendi</td>\n",
       "      <td>NaN</td>\n",
       "      <td>4.0</td>\n",
       "      <td>NEG</td>\n",
       "    </tr>\n",
       "    <tr>\n",
       "      <th>4</th>\n",
       "      <td>kahvalti güzeldi fakat 5 yildizli bir otel icin yetersiz diyebilirim. kahvalti 4yildizdi \\nyüzme havuzu güzeldi. temizdi ve büyüktü\\ntemizlik personeli iyiydi. \\nRestoranda hoşgeldiniz diyen Aleyna hanım, kahvaltıda omlet yapan hanımefendi ve odaları temizleyen abi hotelin yüz akları onlara ikramiye verin eyy otel yönetimi</td>\n",
       "      <td>özellikle resepsiyon ve bistroda kasada olan eleman olmak üzere cogu calisan COK yüzsüz, COK ilgisiz. gördügüm kadariyla bu sikayet 2 senedir de hep dile getiriliyor. otel yönetim bunu neden cözmüyor?\\n6 gün boyunca ne bir selam ne bir tesekkür, asla tenezzül etmediler. kimseden güler yüz beklemeyin - size fazlalikmissiniz gibi bakiyorlar. İnsan bir kere günaydın demez mi?!?! Sanki silah zoruyla çalışıyorlar\\notelde turist yok denecek kadar az. sendikacilar vs toplantilar icin gelenler var sadece. cogu da erkek; kahvehaneye dönüyor otel</td>\n",
       "      <td>4.0</td>\n",
       "      <td>NEG</td>\n",
       "    </tr>\n",
       "    <tr>\n",
       "      <th>...</th>\n",
       "      <td>...</td>\n",
       "      <td>...</td>\n",
       "      <td>...</td>\n",
       "      <td>...</td>\n",
       "    </tr>\n",
       "    <tr>\n",
       "      <th>1995</th>\n",
       "      <td>Konumu harikaydı ve odalar çok temizdi</td>\n",
       "      <td>Internet hızı biraz daha iyileştirilebilir</td>\n",
       "      <td>8.0</td>\n",
       "      <td>POS</td>\n",
       "    </tr>\n",
       "    <tr>\n",
       "      <th>1996</th>\n",
       "      <td>Washington'un kalbinde harika bir otel. Çok temiz ve rahat odaları var. Personel son derece profesyonel ve yardımsever. Büyüleyici bir tarihi atmosfer var, yürüyüş mesafesinde birçok restoran ve alışveriş noktası var. Büyük bir değer.</td>\n",
       "      <td>Otopark biraz pahalı.</td>\n",
       "      <td>8.0</td>\n",
       "      <td>POS</td>\n",
       "    </tr>\n",
       "    <tr>\n",
       "      <th>1997</th>\n",
       "      <td>The St Gregory Hotel Dupont Circle Georgetown'da kalmaktan son derece memnun kaldım. Otelin konumu, hizmet kalitesi ve konforu gerçekten çok iyi. Otel çalışanları çok yardımsever ve güleryüzlü. Odalar ferah, temiz ve konforlu, hijyen standartları çok yüksek. Otelin restoranı harika bir menüye sahip ve servis kalitesi mükemmel. Washington'a seyahat edenlere bu oteli kesinlikle tavsiye ederim.</td>\n",
       "      <td>Her şey genel olarak çok olumluydu, belki internet hızı biraz daha iyi olabilirdi.</td>\n",
       "      <td>9.0</td>\n",
       "      <td>POS</td>\n",
       "    </tr>\n",
       "    <tr>\n",
       "      <th>1998</th>\n",
       "      <td>U Street Capsule Hostel'da kaldığım zamanlarda gerçekten çok keyif aldım. Personel son derece cana yakın ve yardımcı. Odalar çok temiz ve konforluydu. Otelin konumu da mükemmel; birçok yere yürüme mesafesinde ve toplu taşıma araçlarına çok yakın.</td>\n",
       "      <td>Ancak Wifi bağlantısı biraz zayıftı ve daha çok çeşitli kahvaltı seçenekleri olmasını isterdim.</td>\n",
       "      <td>8.0</td>\n",
       "      <td>POS</td>\n",
       "    </tr>\n",
       "    <tr>\n",
       "      <th>1999</th>\n",
       "      <td>Otelin konumu mükemmel, personel çok yardımsever ve dostça davranıyor. Odalar geniş, konforlu ve temiz, kahvaltı birinci sınıf. Gerçekten keyifli bir konaklama tecrübesi oldu.</td>\n",
       "      <td>Negatif bir yanını bulamadım.</td>\n",
       "      <td>10.0</td>\n",
       "      <td>POS</td>\n",
       "    </tr>\n",
       "  </tbody>\n",
       "</table>\n",
       "<p>2000 rows × 4 columns</p>\n",
       "</div>"
      ],
      "text/plain": [
       "                                                                                                                                                                                                                                                                                                                                                                                                   Upside_Review  \\\n",
       "0                                                                                                                                                                                                                                                                                                                                                         Personeli kaliteli ve güler yüzlü gerisi teferruat 🥰🥰🥰   \n",
       "1                                                                                                                                                                                                                                                                                                                                                                                     Gayet temiz ve konforluydu   \n",
       "2                                                                                                                                                                                                                                                                                                                                                           ışık tamamen kapanmıyordu bu yüzden derin uyuyamadım   \n",
       "3                                                                                                                                                                                                                                                          oda da dayanılmaz bir kanalizasyon kokusu var. gece ayağım kesildi yara bandı istedim taze bitti dediler çarşaf nevresim kan olsun önemli değil dendi   \n",
       "4                                                                           kahvalti güzeldi fakat 5 yildizli bir otel icin yetersiz diyebilirim. kahvalti 4yildizdi \\nyüzme havuzu güzeldi. temizdi ve büyüktü\\ntemizlik personeli iyiydi. \\nRestoranda hoşgeldiniz diyen Aleyna hanım, kahvaltıda omlet yapan hanımefendi ve odaları temizleyen abi hotelin yüz akları onlara ikramiye verin eyy otel yönetimi   \n",
       "...                                                                                                                                                                                                                                                                                                                                                                                                          ...   \n",
       "1995                                                                                                                                                                                                                                                                                                                                                                      Konumu harikaydı ve odalar çok temizdi   \n",
       "1996                                                                                                                                                                  Washington'un kalbinde harika bir otel. Çok temiz ve rahat odaları var. Personel son derece profesyonel ve yardımsever. Büyüleyici bir tarihi atmosfer var, yürüyüş mesafesinde birçok restoran ve alışveriş noktası var. Büyük bir değer.   \n",
       "1997  The St Gregory Hotel Dupont Circle Georgetown'da kalmaktan son derece memnun kaldım. Otelin konumu, hizmet kalitesi ve konforu gerçekten çok iyi. Otel çalışanları çok yardımsever ve güleryüzlü. Odalar ferah, temiz ve konforlu, hijyen standartları çok yüksek. Otelin restoranı harika bir menüye sahip ve servis kalitesi mükemmel. Washington'a seyahat edenlere bu oteli kesinlikle tavsiye ederim.   \n",
       "1998                                                                                                                                                      U Street Capsule Hostel'da kaldığım zamanlarda gerçekten çok keyif aldım. Personel son derece cana yakın ve yardımcı. Odalar çok temiz ve konforluydu. Otelin konumu da mükemmel; birçok yere yürüme mesafesinde ve toplu taşıma araçlarına çok yakın.   \n",
       "1999                                                                                                                                                                                                                             Otelin konumu mükemmel, personel çok yardımsever ve dostça davranıyor. Odalar geniş, konforlu ve temiz, kahvaltı birinci sınıf. Gerçekten keyifli bir konaklama tecrübesi oldu.   \n",
       "\n",
       "                                                                                                                                                                                                                                                                                                                                                                                                                                                                                                                                                     Downside_Review  \\\n",
       "0                                                                                                                                                                                                                                                                                                                                                                                                                                                                                                                                                                NaN   \n",
       "1                                                                                                                                                                                                                                                                                                                                                                                                                                                                                                                                                                NaN   \n",
       "2                                                                                                                                                                                                                                                                                                                                                                                                                                                                                                                                                                NaN   \n",
       "3                                                                                                                                                                                                                                                                                                                                                                                                                                                                                                                                                                NaN   \n",
       "4     özellikle resepsiyon ve bistroda kasada olan eleman olmak üzere cogu calisan COK yüzsüz, COK ilgisiz. gördügüm kadariyla bu sikayet 2 senedir de hep dile getiriliyor. otel yönetim bunu neden cözmüyor?\\n6 gün boyunca ne bir selam ne bir tesekkür, asla tenezzül etmediler. kimseden güler yüz beklemeyin - size fazlalikmissiniz gibi bakiyorlar. İnsan bir kere günaydın demez mi?!?! Sanki silah zoruyla çalışıyorlar\\notelde turist yok denecek kadar az. sendikacilar vs toplantilar icin gelenler var sadece. cogu da erkek; kahvehaneye dönüyor otel   \n",
       "...                                                                                                                                                                                                                                                                                                                                                                                                                                                                                                                                                              ...   \n",
       "1995                                                                                                                                                                                                                                                                                                                                                                                                                                                                                                                      Internet hızı biraz daha iyileştirilebilir   \n",
       "1996                                                                                                                                                                                                                                                                                                                                                                                                                                                                                                                                           Otopark biraz pahalı.   \n",
       "1997                                                                                                                                                                                                                                                                                                                                                                                                                                                                              Her şey genel olarak çok olumluydu, belki internet hızı biraz daha iyi olabilirdi.   \n",
       "1998                                                                                                                                                                                                                                                                                                                                                                                                                                                                 Ancak Wifi bağlantısı biraz zayıftı ve daha çok çeşitli kahvaltı seçenekleri olmasını isterdim.   \n",
       "1999                                                                                                                                                                                                                                                                                                                                                                                                                                                                                                                                   Negatif bir yanını bulamadım.   \n",
       "\n",
       "      Review_Score Sentiment  \n",
       "0             10.0       POS  \n",
       "1              9.0       POS  \n",
       "2              4.0       NEG  \n",
       "3              4.0       NEG  \n",
       "4              4.0       NEG  \n",
       "...            ...       ...  \n",
       "1995           8.0       POS  \n",
       "1996           8.0       POS  \n",
       "1997           9.0       POS  \n",
       "1998           8.0       POS  \n",
       "1999          10.0       POS  \n",
       "\n",
       "[2000 rows x 4 columns]"
      ]
     },
     "execution_count": 20,
     "metadata": {},
     "output_type": "execute_result"
    }
   ],
   "source": [
    "micnlp"
   ]
  },
  {
   "cell_type": "code",
   "execution_count": 47,
   "metadata": {},
   "outputs": [
    {
     "data": {
      "text/html": [
       "<div>\n",
       "<style scoped>\n",
       "    .dataframe tbody tr th:only-of-type {\n",
       "        vertical-align: middle;\n",
       "    }\n",
       "\n",
       "    .dataframe tbody tr th {\n",
       "        vertical-align: top;\n",
       "    }\n",
       "\n",
       "    .dataframe thead th {\n",
       "        text-align: right;\n",
       "    }\n",
       "</style>\n",
       "<table border=\"1\" class=\"dataframe\">\n",
       "  <thead>\n",
       "    <tr style=\"text-align: right;\">\n",
       "      <th></th>\n",
       "      <th>Upside_Review</th>\n",
       "      <th>Downside_Review</th>\n",
       "      <th>Review_Score</th>\n",
       "      <th>Sentiment</th>\n",
       "    </tr>\n",
       "  </thead>\n",
       "  <tbody>\n",
       "    <tr>\n",
       "      <th>6</th>\n",
       "      <td>konumu</td>\n",
       "      <td>oda rezalet yatak 80 lerden kalma çok rahatsız</td>\n",
       "      <td>6.0</td>\n",
       "      <td>NEG</td>\n",
       "    </tr>\n",
       "    <tr>\n",
       "      <th>7</th>\n",
       "      <td>Genel olarak iyiydi.</td>\n",
       "      <td>Odaya girmeden tüm ödemeler önden alınıyor</td>\n",
       "      <td>6.0</td>\n",
       "      <td>NEG</td>\n",
       "    </tr>\n",
       "    <tr>\n",
       "      <th>8</th>\n",
       "      <td>Konumunu</td>\n",
       "      <td>Delux oda olmasına rağmen oda küçüktü, lavabosu tıkalıydı</td>\n",
       "      <td>6.0</td>\n",
       "      <td>NEG</td>\n",
       "    </tr>\n",
       "    <tr>\n",
       "      <th>11</th>\n",
       "      <td>Bistrosunu beğendim.</td>\n",
       "      <td>Temizlik çok kötüydü, banyosunda ve tuvaleti temiz değildi. Ayrıca ikram bölümü kırıntılarla doluydu.</td>\n",
       "      <td>6.0</td>\n",
       "      <td>NEG</td>\n",
       "    </tr>\n",
       "    <tr>\n",
       "      <th>13</th>\n",
       "      <td>NaN</td>\n",
       "      <td>Pandemi bahane edilerek açık büfe kahvaltı yoktu. Tabakla verildi. Soğuk içecek yoktu. Yumurta tek çeşit rafyadandı.</td>\n",
       "      <td>6.0</td>\n",
       "      <td>NEG</td>\n",
       "    </tr>\n",
       "    <tr>\n",
       "      <th>...</th>\n",
       "      <td>...</td>\n",
       "      <td>...</td>\n",
       "      <td>...</td>\n",
       "      <td>...</td>\n",
       "    </tr>\n",
       "    <tr>\n",
       "      <th>962</th>\n",
       "      <td>Merhaba, otelin konumu ve odaların haricindeki tarihi yapısını sevdik. Güzel bir bekleme salonu vardı.</td>\n",
       "      <td>Odalara bir su bile koymuyorlar. Bize bu çok garip geldi. Vale/otopark cok pahalı. Bir konuda resepsiyonla problem yaşadık ve çok da yardımcı değillerdi. Odalar küçük ve banyonun yerlerinin temizliğinden şüphe ediyorsunuz.</td>\n",
       "      <td>6.0</td>\n",
       "      <td>NEG</td>\n",
       "    </tr>\n",
       "    <tr>\n",
       "      <th>972</th>\n",
       "      <td>konumu</td>\n",
       "      <td>olanakları yetersiz di. otopark çok pahalı ve internet 2 gün çalışmadı</td>\n",
       "      <td>6.0</td>\n",
       "      <td>NEG</td>\n",
       "    </tr>\n",
       "    <tr>\n",
       "      <th>974</th>\n",
       "      <td>NaN</td>\n",
       "      <td>Kahvaltı dahil ama rezalet bişey</td>\n",
       "      <td>6.0</td>\n",
       "      <td>NEG</td>\n",
       "    </tr>\n",
       "    <tr>\n",
       "      <th>975</th>\n",
       "      <td>konaklayanlari sosyallestirmeye yonelik konseptleri ve calisanlarin ilgi alakasini begendim.</td>\n",
       "      <td>konumu itibariyle gezilecek bolgelere uzakti. 2 gunluk konaklamada oda temizligi yapilmadi.</td>\n",
       "      <td>6.0</td>\n",
       "      <td>NEG</td>\n",
       "    </tr>\n",
       "    <tr>\n",
       "      <th>976</th>\n",
       "      <td>odada kötü bir koku vardı.Balkon kapısı kapanmıyordu.Kumanda çalışmıyordu.Banyo kapısı zorlanarak kapanıyordu.Odalar genel olarak eskimişdi.Sorunlarımızla ilgilendiler.Konum olarak bize çok uygundu Oda genel olarak çok temiz değildi</td>\n",
       "      <td>odaların tekrardan gözden geçirilmesi gerekli.Çok eskimiş</td>\n",
       "      <td>6.0</td>\n",
       "      <td>NEG</td>\n",
       "    </tr>\n",
       "  </tbody>\n",
       "</table>\n",
       "<p>125 rows × 4 columns</p>\n",
       "</div>"
      ],
      "text/plain": [
       "                                                                                                                                                                                                                                Upside_Review  \\\n",
       "6                                                                                                                                                                                                                                      konumu   \n",
       "7                                                                                                                                                                                                                        Genel olarak iyiydi.   \n",
       "8                                                                                                                                                                                                                                    Konumunu   \n",
       "11                                                                                                                                                                                                                       Bistrosunu beğendim.   \n",
       "13                                                                                                                                                                                                                                        NaN   \n",
       "..                                                                                                                                                                                                                                        ...   \n",
       "962                                                                                                                                    Merhaba, otelin konumu ve odaların haricindeki tarihi yapısını sevdik. Güzel bir bekleme salonu vardı.   \n",
       "972                                                                                                                                                                                                                                    konumu   \n",
       "974                                                                                                                                                                                                                                       NaN   \n",
       "975                                                                                                                                              konaklayanlari sosyallestirmeye yonelik konseptleri ve calisanlarin ilgi alakasini begendim.   \n",
       "976  odada kötü bir koku vardı.Balkon kapısı kapanmıyordu.Kumanda çalışmıyordu.Banyo kapısı zorlanarak kapanıyordu.Odalar genel olarak eskimişdi.Sorunlarımızla ilgilendiler.Konum olarak bize çok uygundu Oda genel olarak çok temiz değildi   \n",
       "\n",
       "                                                                                                                                                                                                                    Downside_Review  \\\n",
       "6                                                                                                                                                                                    oda rezalet yatak 80 lerden kalma çok rahatsız   \n",
       "7                                                                                                                                                                                        Odaya girmeden tüm ödemeler önden alınıyor   \n",
       "8                                                                                                                                                                         Delux oda olmasına rağmen oda küçüktü, lavabosu tıkalıydı   \n",
       "11                                                                                                                            Temizlik çok kötüydü, banyosunda ve tuvaleti temiz değildi. Ayrıca ikram bölümü kırıntılarla doluydu.   \n",
       "13                                                                                                             Pandemi bahane edilerek açık büfe kahvaltı yoktu. Tabakla verildi. Soğuk içecek yoktu. Yumurta tek çeşit rafyadandı.   \n",
       "..                                                                                                                                                                                                                              ...   \n",
       "962  Odalara bir su bile koymuyorlar. Bize bu çok garip geldi. Vale/otopark cok pahalı. Bir konuda resepsiyonla problem yaşadık ve çok da yardımcı değillerdi. Odalar küçük ve banyonun yerlerinin temizliğinden şüphe ediyorsunuz.   \n",
       "972                                                                                                                                                          olanakları yetersiz di. otopark çok pahalı ve internet 2 gün çalışmadı   \n",
       "974                                                                                                                                                                                                Kahvaltı dahil ama rezalet bişey   \n",
       "975                                                                                                                                     konumu itibariyle gezilecek bolgelere uzakti. 2 gunluk konaklamada oda temizligi yapilmadi.   \n",
       "976                                                                                                                                                                       odaların tekrardan gözden geçirilmesi gerekli.Çok eskimiş   \n",
       "\n",
       "     Review_Score Sentiment  \n",
       "6             6.0       NEG  \n",
       "7             6.0       NEG  \n",
       "8             6.0       NEG  \n",
       "11            6.0       NEG  \n",
       "13            6.0       NEG  \n",
       "..            ...       ...  \n",
       "962           6.0       NEG  \n",
       "972           6.0       NEG  \n",
       "974           6.0       NEG  \n",
       "975           6.0       NEG  \n",
       "976           6.0       NEG  \n",
       "\n",
       "[125 rows x 4 columns]"
      ]
     },
     "execution_count": 47,
     "metadata": {},
     "output_type": "execute_result"
    }
   ],
   "source": [
    "micnlp[(micnlp[\"Review_Score\"] > 5) & (micnlp[\"Sentiment\"] ==\"NEG\" ) ]"
   ]
  },
  {
   "cell_type": "code",
   "execution_count": 72,
   "metadata": {},
   "outputs": [],
   "source": [
    "pos_rew = micnlp[micnlp[\"Review_Score\"] > 6][\"Upside_Review\"].to_list()\n",
    "\n",
    "micnlp_pos = pd.DataFrame({\"text\": pos_rew, \"label\": list(np.ones(shape=len(pos_rew), dtype=\"int\"))}).dropna().reset_index(drop=True)"
   ]
  },
  {
   "cell_type": "code",
   "execution_count": 73,
   "metadata": {},
   "outputs": [],
   "source": [
    "neg_rew = micnlp[micnlp[\"Review_Score\"] < 6][\"Downside_Review\"].to_list()\n",
    "\n",
    "micnlp_neg = pd.DataFrame({\"text\": neg_rew, \"label\": list(np.zeros(shape=len(neg_rew), dtype=\"int\"))}).dropna().reset_index(drop=True)"
   ]
  },
  {
   "cell_type": "code",
   "execution_count": 74,
   "metadata": {},
   "outputs": [],
   "source": [
    "unified_micnlp = pd.concat([micnlp_pos, micnlp_neg], axis=0)"
   ]
  },
  {
   "cell_type": "code",
   "execution_count": 75,
   "metadata": {},
   "outputs": [
    {
     "data": {
      "text/html": [
       "<div>\n",
       "<style scoped>\n",
       "    .dataframe tbody tr th:only-of-type {\n",
       "        vertical-align: middle;\n",
       "    }\n",
       "\n",
       "    .dataframe tbody tr th {\n",
       "        vertical-align: top;\n",
       "    }\n",
       "\n",
       "    .dataframe thead th {\n",
       "        text-align: right;\n",
       "    }\n",
       "</style>\n",
       "<table border=\"1\" class=\"dataframe\">\n",
       "  <thead>\n",
       "    <tr style=\"text-align: right;\">\n",
       "      <th></th>\n",
       "      <th>text</th>\n",
       "      <th>label</th>\n",
       "    </tr>\n",
       "  </thead>\n",
       "  <tbody>\n",
       "    <tr>\n",
       "      <th>0</th>\n",
       "      <td>Personeli kaliteli ve güler yüzlü gerisi teferruat 🥰🥰🥰</td>\n",
       "      <td>1</td>\n",
       "    </tr>\n",
       "    <tr>\n",
       "      <th>1</th>\n",
       "      <td>Gayet temiz ve konforluydu</td>\n",
       "      <td>1</td>\n",
       "    </tr>\n",
       "    <tr>\n",
       "      <th>2</th>\n",
       "      <td>Kahvaltı mükemmeldi, konum harikuladeydi.</td>\n",
       "      <td>1</td>\n",
       "    </tr>\n",
       "    <tr>\n",
       "      <th>3</th>\n",
       "      <td>Yerleşdiği yer konum çok güzel 5 dak metro (demirtepe, sihiyye), otobüs durağına yakin, düz yaninda migros, bim marketler, lokantalar var. Kizilay avm 15 dak yürüme mesafesinde, kahvaalti iyi, klimalı sakit odalar</td>\n",
       "      <td>1</td>\n",
       "    </tr>\n",
       "    <tr>\n",
       "      <th>4</th>\n",
       "      <td>Çalışanları, konumu, kahvaltısı, odaların temizliyi</td>\n",
       "      <td>1</td>\n",
       "    </tr>\n",
       "    <tr>\n",
       "      <th>...</th>\n",
       "      <td>...</td>\n",
       "      <td>...</td>\n",
       "    </tr>\n",
       "    <tr>\n",
       "      <th>856</th>\n",
       "      <td>Kahvaltı çeşitliliği yetersiz, oda temizliği iyileştirilebilir. Fiyatlar çok yüksek ve personel yeterince yardımcı olamadı.</td>\n",
       "      <td>0</td>\n",
       "    </tr>\n",
       "    <tr>\n",
       "      <th>857</th>\n",
       "      <td>Oda çok küçüktü ve temizlik konusunda aksaklıklar yaşadık. Ayrıca fiyat performans oranı düşük.</td>\n",
       "      <td>0</td>\n",
       "    </tr>\n",
       "    <tr>\n",
       "      <th>858</th>\n",
       "      <td>Ancak odaları çok küçüktü, temizlik konusunda da problemler yaşadım ve personel yeterince yardımcı olmadı.</td>\n",
       "      <td>0</td>\n",
       "    </tr>\n",
       "    <tr>\n",
       "      <th>859</th>\n",
       "      <td>Otelin temizliği ve hizmet kalitesi çok kötü. Ayrıca oda içindeki eşyalar oldukça eski ve bakımsızdı. Oda servisi genellikle geç geldi ve birkaç kez yanlış sipariş getirdi.</td>\n",
       "      <td>0</td>\n",
       "    </tr>\n",
       "    <tr>\n",
       "      <th>860</th>\n",
       "      <td>Odalar çok küçük ve temizlik yeterli değildi. Ayrıca, personel çok da yardımcı olmuyordu, müşteri hizmetleri yetersizdi.</td>\n",
       "      <td>0</td>\n",
       "    </tr>\n",
       "  </tbody>\n",
       "</table>\n",
       "<p>1850 rows × 2 columns</p>\n",
       "</div>"
      ],
      "text/plain": [
       "                                                                                                                                                                                                                      text  \\\n",
       "0                                                                                                                                                                   Personeli kaliteli ve güler yüzlü gerisi teferruat 🥰🥰🥰   \n",
       "1                                                                                                                                                                                               Gayet temiz ve konforluydu   \n",
       "2                                                                                                                                                                                Kahvaltı mükemmeldi, konum harikuladeydi.   \n",
       "3    Yerleşdiği yer konum çok güzel 5 dak metro (demirtepe, sihiyye), otobüs durağına yakin, düz yaninda migros, bim marketler, lokantalar var. Kizilay avm 15 dak yürüme mesafesinde, kahvaalti iyi, klimalı sakit odalar   \n",
       "4                                                                                                                                                                      Çalışanları, konumu, kahvaltısı, odaların temizliyi   \n",
       "..                                                                                                                                                                                                                     ...   \n",
       "856                                                                                            Kahvaltı çeşitliliği yetersiz, oda temizliği iyileştirilebilir. Fiyatlar çok yüksek ve personel yeterince yardımcı olamadı.   \n",
       "857                                                                                                                        Oda çok küçüktü ve temizlik konusunda aksaklıklar yaşadık. Ayrıca fiyat performans oranı düşük.   \n",
       "858                                                                                                             Ancak odaları çok küçüktü, temizlik konusunda da problemler yaşadım ve personel yeterince yardımcı olmadı.   \n",
       "859                                           Otelin temizliği ve hizmet kalitesi çok kötü. Ayrıca oda içindeki eşyalar oldukça eski ve bakımsızdı. Oda servisi genellikle geç geldi ve birkaç kez yanlış sipariş getirdi.   \n",
       "860                                                                                               Odalar çok küçük ve temizlik yeterli değildi. Ayrıca, personel çok da yardımcı olmuyordu, müşteri hizmetleri yetersizdi.   \n",
       "\n",
       "     label  \n",
       "0        1  \n",
       "1        1  \n",
       "2        1  \n",
       "3        1  \n",
       "4        1  \n",
       "..     ...  \n",
       "856      0  \n",
       "857      0  \n",
       "858      0  \n",
       "859      0  \n",
       "860      0  \n",
       "\n",
       "[1850 rows x 2 columns]"
      ]
     },
     "execution_count": 75,
     "metadata": {},
     "output_type": "execute_result"
    }
   ],
   "source": [
    "unified_micnlp"
   ]
  },
  {
   "cell_type": "code",
   "execution_count": 79,
   "metadata": {},
   "outputs": [],
   "source": [
    "unified_micnlp[\"text\"] = unified_micnlp[\"text\"].apply(clean_text)"
   ]
  },
  {
   "cell_type": "code",
   "execution_count": 81,
   "metadata": {},
   "outputs": [
    {
     "name": "stdout",
     "output_type": "stream",
     "text": [
      "<class 'pandas.core.frame.DataFrame'>\n",
      "Index: 1850 entries, 0 to 860\n",
      "Data columns (total 2 columns):\n",
      " #   Column  Non-Null Count  Dtype \n",
      "---  ------  --------------  ----- \n",
      " 0   text    1850 non-null   object\n",
      " 1   label   1850 non-null   int64 \n",
      "dtypes: int64(1), object(1)\n",
      "memory usage: 43.4+ KB\n"
     ]
    }
   ],
   "source": [
    "unified_micnlp.info()"
   ]
  },
  {
   "cell_type": "code",
   "execution_count": 86,
   "metadata": {},
   "outputs": [
    {
     "data": {
      "text/plain": [
       "text     0\n",
       "label    0\n",
       "dtype: int64"
      ]
     },
     "execution_count": 86,
     "metadata": {},
     "output_type": "execute_result"
    }
   ],
   "source": [
    "unified_micnlp.isnull().sum()"
   ]
  },
  {
   "cell_type": "code",
   "execution_count": 88,
   "metadata": {},
   "outputs": [],
   "source": [
    "unified_micnlp.to_csv(\"processed_data/processed_MichiganNLP.csv\",sep=\";\", index=False)"
   ]
  },
  {
   "cell_type": "markdown",
   "metadata": {},
   "source": [
    "# anilguven_turkish_product_reviews\n",
    "\n",
    "Türkçe ürün yorumları 1"
   ]
  },
  {
   "cell_type": "code",
   "execution_count": 113,
   "metadata": {},
   "outputs": [],
   "source": [
    "prd_rew = pd.read_csv(\"data/anilguven_turkish_product_reviews.csv\", sep=\";\").rename(columns={\"Review\":\"text\"})\n",
    "prd_rew.dropna(inplace=True)\n",
    "prd_rew[\"text\"] = prd_rew[\"text\"].apply(clean_text)"
   ]
  },
  {
   "cell_type": "code",
   "execution_count": 114,
   "metadata": {},
   "outputs": [
    {
     "data": {
      "text/html": [
       "<div>\n",
       "<style scoped>\n",
       "    .dataframe tbody tr th:only-of-type {\n",
       "        vertical-align: middle;\n",
       "    }\n",
       "\n",
       "    .dataframe tbody tr th {\n",
       "        vertical-align: top;\n",
       "    }\n",
       "\n",
       "    .dataframe thead th {\n",
       "        text-align: right;\n",
       "    }\n",
       "</style>\n",
       "<table border=\"1\" class=\"dataframe\">\n",
       "  <thead>\n",
       "    <tr style=\"text-align: right;\">\n",
       "      <th></th>\n",
       "      <th>text</th>\n",
       "      <th>label</th>\n",
       "    </tr>\n",
       "  </thead>\n",
       "  <tbody>\n",
       "    <tr>\n",
       "      <th>0</th>\n",
       "      <td>yıldır tık demedi</td>\n",
       "      <td>1</td>\n",
       "    </tr>\n",
       "    <tr>\n",
       "      <th>1</th>\n",
       "      <td>yıldır kullanıyorum müthiş</td>\n",
       "      <td>1</td>\n",
       "    </tr>\n",
       "    <tr>\n",
       "      <th>2</th>\n",
       "      <td>ürün bugün elime geçti fazla inceleme fırsatım olmadı ancak gözüme çarpan ilk usb bağlantısı pil kapağının altında güzel yer yapmış olmaları önceden aparatı kaybetmiş olarak özelliğini sevdim ayrıca dpi olması iyi tip farelerin çoğu dpi oluyor sizde benim masaüstü bilgisayarınızdan oyuncu faresi yüksek dpi ayarına alışmış biriyseniz windows ayarından fareyi hızlıya getirin fareyi sipariş verin pişman olmazsınız teşekkürler logitech</td>\n",
       "      <td>1</td>\n",
       "    </tr>\n",
       "    <tr>\n",
       "      <th>3</th>\n",
       "      <td>almaya karar verdim hemencecik geldi keyifle kullanıyorum</td>\n",
       "      <td>1</td>\n",
       "    </tr>\n",
       "    <tr>\n",
       "      <th>4</th>\n",
       "      <td>günlük kullanımınızı iyi karsılıyor kısaca mükemmel</td>\n",
       "      <td>1</td>\n",
       "    </tr>\n",
       "    <tr>\n",
       "      <th>...</th>\n",
       "      <td>...</td>\n",
       "      <td>...</td>\n",
       "    </tr>\n",
       "    <tr>\n",
       "      <th>243492</th>\n",
       "      <td>fiyatına göre güzel</td>\n",
       "      <td>1</td>\n",
       "    </tr>\n",
       "    <tr>\n",
       "      <th>243493</th>\n",
       "      <td>ürün kullanışlı iş görüyor fazlasıyla eşime aldim cok memnun tek sıkıntı renk olayinda saticinin beyaz belirttigi resimdeki gri ürün olmasi gri üründe fena degil şık duruyor telefonla ilgili cok fazla bir beklentiniz yoksa ideal tavsiye ederim</td>\n",
       "      <td>1</td>\n",
       "    </tr>\n",
       "    <tr>\n",
       "      <th>243494</th>\n",
       "      <td>hızlı kargo güzel ürün</td>\n",
       "      <td>1</td>\n",
       "    </tr>\n",
       "    <tr>\n",
       "      <th>243495</th>\n",
       "      <td>telefon başarılı hızlı bir cihaz sadece beyaz istemiştik gri rengi geldi</td>\n",
       "      <td>1</td>\n",
       "    </tr>\n",
       "    <tr>\n",
       "      <th>243496</th>\n",
       "      <td>urun cok guzel pazar gunu siparis verdim adanadan sali gunu ulasti gold dengini aldim isinma donma kasma yok orjinal kapali kutusunda geldi surekli telefon degistiren biriyim sikildikca satan biriyim urun guzel fiyat iyi kargo sorunsuz beklemeden bi tusla ayaginiza gelsin fazla soze gerek yok</td>\n",
       "      <td>1</td>\n",
       "    </tr>\n",
       "  </tbody>\n",
       "</table>\n",
       "<p>243497 rows × 2 columns</p>\n",
       "</div>"
      ],
      "text/plain": [
       "                                                                                                                                                                                                                                                                                                                                                                                                                                                       text  \\\n",
       "0                                                                                                                                                                                                                                                                                                                                                                                                                                         yıldır tık demedi   \n",
       "1                                                                                                                                                                                                                                                                                                                                                                                                                                yıldır kullanıyorum müthiş   \n",
       "2       ürün bugün elime geçti fazla inceleme fırsatım olmadı ancak gözüme çarpan ilk usb bağlantısı pil kapağının altında güzel yer yapmış olmaları önceden aparatı kaybetmiş olarak özelliğini sevdim ayrıca dpi olması iyi tip farelerin çoğu dpi oluyor sizde benim masaüstü bilgisayarınızdan oyuncu faresi yüksek dpi ayarına alışmış biriyseniz windows ayarından fareyi hızlıya getirin fareyi sipariş verin pişman olmazsınız teşekkürler logitech   \n",
       "3                                                                                                                                                                                                                                                                                                                                                                                                 almaya karar verdim hemencecik geldi keyifle kullanıyorum   \n",
       "4                                                                                                                                                                                                                                                                                                                                                                                                       günlük kullanımınızı iyi karsılıyor kısaca mükemmel   \n",
       "...                                                                                                                                                                                                                                                                                                                                                                                                                                                     ...   \n",
       "243492                                                                                                                                                                                                                                                                                                                                                                                                                                  fiyatına göre güzel   \n",
       "243493                                                                                                                                                                                                  ürün kullanışlı iş görüyor fazlasıyla eşime aldim cok memnun tek sıkıntı renk olayinda saticinin beyaz belirttigi resimdeki gri ürün olmasi gri üründe fena degil şık duruyor telefonla ilgili cok fazla bir beklentiniz yoksa ideal tavsiye ederim   \n",
       "243494                                                                                                                                                                                                                                                                                                                                                                                                                               hızlı kargo güzel ürün   \n",
       "243495                                                                                                                                                                                                                                                                                                                                                                             telefon başarılı hızlı bir cihaz sadece beyaz istemiştik gri rengi geldi   \n",
       "243496                                                                                                                                                urun cok guzel pazar gunu siparis verdim adanadan sali gunu ulasti gold dengini aldim isinma donma kasma yok orjinal kapali kutusunda geldi surekli telefon degistiren biriyim sikildikca satan biriyim urun guzel fiyat iyi kargo sorunsuz beklemeden bi tusla ayaginiza gelsin fazla soze gerek yok   \n",
       "\n",
       "        label  \n",
       "0           1  \n",
       "1           1  \n",
       "2           1  \n",
       "3           1  \n",
       "4           1  \n",
       "...       ...  \n",
       "243492      1  \n",
       "243493      1  \n",
       "243494      1  \n",
       "243495      1  \n",
       "243496      1  \n",
       "\n",
       "[243497 rows x 2 columns]"
      ]
     },
     "execution_count": 114,
     "metadata": {},
     "output_type": "execute_result"
    }
   ],
   "source": [
    "prd_rew"
   ]
  },
  {
   "cell_type": "code",
   "execution_count": 115,
   "metadata": {},
   "outputs": [
    {
     "data": {
      "text/plain": [
       "label\n",
       "1    229821\n",
       "0     13676\n",
       "Name: count, dtype: int64"
      ]
     },
     "execution_count": 115,
     "metadata": {},
     "output_type": "execute_result"
    }
   ],
   "source": [
    "prd_rew[\"label\"].value_counts()"
   ]
  },
  {
   "cell_type": "code",
   "execution_count": 116,
   "metadata": {},
   "outputs": [
    {
     "data": {
      "text/html": [
       "<div>\n",
       "<style scoped>\n",
       "    .dataframe tbody tr th:only-of-type {\n",
       "        vertical-align: middle;\n",
       "    }\n",
       "\n",
       "    .dataframe tbody tr th {\n",
       "        vertical-align: top;\n",
       "    }\n",
       "\n",
       "    .dataframe thead th {\n",
       "        text-align: right;\n",
       "    }\n",
       "</style>\n",
       "<table border=\"1\" class=\"dataframe\">\n",
       "  <thead>\n",
       "    <tr style=\"text-align: right;\">\n",
       "      <th></th>\n",
       "      <th>text</th>\n",
       "      <th>label</th>\n",
       "    </tr>\n",
       "  </thead>\n",
       "  <tbody>\n",
       "    <tr>\n",
       "      <th>20</th>\n",
       "      <td>fiyatına göre ortalama bi mause oyun alıyorsanız denemeyin standart kullanım yeterli benim orta teker bozuldu onun dışında iyi</td>\n",
       "      <td>0</td>\n",
       "    </tr>\n",
       "    <tr>\n",
       "      <th>194</th>\n",
       "      <td>ürün güzel lakin beklediğim kadar değil sağ tuşta biraz zorlanmakla beraber alınıp kullanılabilir</td>\n",
       "      <td>0</td>\n",
       "    </tr>\n",
       "    <tr>\n",
       "      <th>222</th>\n",
       "      <td>hesaplı kalıteli ürünler satıkları ben memunum siteden tşk ediyorum hepsiburda önce yaptığım alış verişlerden dolayı yanıltmadılar sağolsunlar</td>\n",
       "      <td>0</td>\n",
       "    </tr>\n",
       "    <tr>\n",
       "      <th>225</th>\n",
       "      <td>aydır mause kullanıyorum alıcısı ıyı kullanışı kolay bazen sol tıklama sapıtıyor kayma yapıyor oyun ıcın ıdeal degıldır gunluk ıcın kullanıma uygundur</td>\n",
       "      <td>0</td>\n",
       "    </tr>\n",
       "    <tr>\n",
       "      <th>239</th>\n",
       "      <td>fiyat kalite olarak değerlendirdiğinizde güzel bir ürün laptop kullanımı uygun küçük kaliteli bir görünümü var fonksiyon düğmesinin gerektiği yerlerde kullanılamıyor fakat günlük kullanımlar ideal i̇nternete girerim iki tıklarım derseniz kesinlikle alın</td>\n",
       "      <td>0</td>\n",
       "    </tr>\n",
       "    <tr>\n",
       "      <th>...</th>\n",
       "      <td>...</td>\n",
       "      <td>...</td>\n",
       "    </tr>\n",
       "    <tr>\n",
       "      <th>243428</th>\n",
       "      <td>aydır kullanıyorum artık güncellemelere bile hafızada yer yok güncelleme yapmadan kullanıcaz artık</td>\n",
       "      <td>0</td>\n",
       "    </tr>\n",
       "    <tr>\n",
       "      <th>243456</th>\n",
       "      <td>telefonu aldığıma pin pişmanım buradadan almadım hafıza sürekli dolu hafıza kartı olduğu halde verim alamadım değiştirme şansım nedir onuda bilmiyorum</td>\n",
       "      <td>0</td>\n",
       "    </tr>\n",
       "    <tr>\n",
       "      <th>243461</th>\n",
       "      <td>aldım önermem oyuncak oyun oynamıyorum video çekmem on fotoğraf bellek bitti i̇çine yüklü program dışında bir uygulamam yok yedek bellek kart kullanılacakmış kart hızı düşer mi bilemiyorum zaten ram düşük durumda satış fiyatının uygun olması gerekirdi diğerlerine referansla ucuzluğu doğru rakamdan satıldığını göstermez zaman sd kart verilseydi yanında saygılar</td>\n",
       "      <td>0</td>\n",
       "    </tr>\n",
       "    <tr>\n",
       "      <th>243468</th>\n",
       "      <td>gb yazıp kullanıma verilip sadece gb kullanılabilmesi dışında bir problem yok problemden muzdaribiz</td>\n",
       "      <td>0</td>\n",
       "    </tr>\n",
       "    <tr>\n",
       "      <th>243488</th>\n",
       "      <td>merhabalar ürün gün içinde elime ulaştı satın alma anlamında bir problem yaşamadım hepsiburadaya teşekkür ederim telefona gelecek olursak içerdiği donanım özelliklerine oranladığımızda telefon tam anlamıyla vasat olarak nitelendirilebilir şarj menü performansı açısından bir problem yok ancak kamera performansı tam anlamıyla hayal kırıklığı olmakla birlikte ön kamerası felaket derecesinde kötü gösteriyor görüntülü arama yaptığınız zaman ön kamerası ışıklı ortamda olsanız bile neredeyse tamamen karanlık gösteriyor i̇nternette araştırma yaparsanız bunun kanıtlarını bulabilirsiniz şekilde kronik bir problemi mevcut samsung kötü telefonu yapabilirim oturmuş düşünmüş böyle bir telefon üretmiş tebrik ediyorum</td>\n",
       "      <td>0</td>\n",
       "    </tr>\n",
       "  </tbody>\n",
       "</table>\n",
       "<p>13676 rows × 2 columns</p>\n",
       "</div>"
      ],
      "text/plain": [
       "                                                                                                                                                                                                                                                                                                                                                                                                                                                                                                                                                                                                                                                                                                                                           text  \\\n",
       "20                                                                                                                                                                                                                                                                                                                                                                                                                                                                                                                                                                                                               fiyatına göre ortalama bi mause oyun alıyorsanız denemeyin standart kullanım yeterli benim orta teker bozuldu onun dışında iyi   \n",
       "194                                                                                                                                                                                                                                                                                                                                                                                                                                                                                                                                                                                                                                           ürün güzel lakin beklediğim kadar değil sağ tuşta biraz zorlanmakla beraber alınıp kullanılabilir   \n",
       "222                                                                                                                                                                                                                                                                                                                                                                                                                                                                                                                                                                                              hesaplı kalıteli ürünler satıkları ben memunum siteden tşk ediyorum hepsiburda önce yaptığım alış verişlerden dolayı yanıltmadılar sağolsunlar   \n",
       "225                                                                                                                                                                                                                                                                                                                                                                                                                                                                                                                                                                                      aydır mause kullanıyorum alıcısı ıyı kullanışı kolay bazen sol tıklama sapıtıyor kayma yapıyor oyun ıcın ıdeal degıldır gunluk ıcın kullanıma uygundur   \n",
       "239                                                                                                                                                                                                                                                                                                                                                                                                                                                                               fiyat kalite olarak değerlendirdiğinizde güzel bir ürün laptop kullanımı uygun küçük kaliteli bir görünümü var fonksiyon düğmesinin gerektiği yerlerde kullanılamıyor fakat günlük kullanımlar ideal i̇nternete girerim iki tıklarım derseniz kesinlikle alın   \n",
       "...                                                                                                                                                                                                                                                                                                                                                                                                                                                                                                                                                                                                                                                                                                                                         ...   \n",
       "243428                                                                                                                                                                                                                                                                                                                                                                                                                                                                                                                                                                                                                                       aydır kullanıyorum artık güncellemelere bile hafızada yer yok güncelleme yapmadan kullanıcaz artık   \n",
       "243456                                                                                                                                                                                                                                                                                                                                                                                                                                                                                                                                                                                   telefonu aldığıma pin pişmanım buradadan almadım hafıza sürekli dolu hafıza kartı olduğu halde verim alamadım değiştirme şansım nedir onuda bilmiyorum   \n",
       "243461                                                                                                                                                                                                                                                                                                                                                               aldım önermem oyuncak oyun oynamıyorum video çekmem on fotoğraf bellek bitti i̇çine yüklü program dışında bir uygulamam yok yedek bellek kart kullanılacakmış kart hızı düşer mi bilemiyorum zaten ram düşük durumda satış fiyatının uygun olması gerekirdi diğerlerine referansla ucuzluğu doğru rakamdan satıldığını göstermez zaman sd kart verilseydi yanında saygılar   \n",
       "243468                                                                                                                                                                                                                                                                                                                                                                                                                                                                                                                                                                                                                                      gb yazıp kullanıma verilip sadece gb kullanılabilmesi dışında bir problem yok problemden muzdaribiz   \n",
       "243488  merhabalar ürün gün içinde elime ulaştı satın alma anlamında bir problem yaşamadım hepsiburadaya teşekkür ederim telefona gelecek olursak içerdiği donanım özelliklerine oranladığımızda telefon tam anlamıyla vasat olarak nitelendirilebilir şarj menü performansı açısından bir problem yok ancak kamera performansı tam anlamıyla hayal kırıklığı olmakla birlikte ön kamerası felaket derecesinde kötü gösteriyor görüntülü arama yaptığınız zaman ön kamerası ışıklı ortamda olsanız bile neredeyse tamamen karanlık gösteriyor i̇nternette araştırma yaparsanız bunun kanıtlarını bulabilirsiniz şekilde kronik bir problemi mevcut samsung kötü telefonu yapabilirim oturmuş düşünmüş böyle bir telefon üretmiş tebrik ediyorum   \n",
       "\n",
       "        label  \n",
       "20          0  \n",
       "194         0  \n",
       "222         0  \n",
       "225         0  \n",
       "239         0  \n",
       "...       ...  \n",
       "243428      0  \n",
       "243456      0  \n",
       "243461      0  \n",
       "243468      0  \n",
       "243488      0  \n",
       "\n",
       "[13676 rows x 2 columns]"
      ]
     },
     "execution_count": 116,
     "metadata": {},
     "output_type": "execute_result"
    }
   ],
   "source": [
    "prd_rew[prd_rew[\"label\"] == 0]"
   ]
  },
  {
   "cell_type": "code",
   "execution_count": 117,
   "metadata": {},
   "outputs": [],
   "source": [
    "prd_rew[\"label\"] = prd_rew[\"label\"].map({1:1,0:2})"
   ]
  },
  {
   "cell_type": "code",
   "execution_count": 118,
   "metadata": {},
   "outputs": [
    {
     "data": {
      "text/html": [
       "<div>\n",
       "<style scoped>\n",
       "    .dataframe tbody tr th:only-of-type {\n",
       "        vertical-align: middle;\n",
       "    }\n",
       "\n",
       "    .dataframe tbody tr th {\n",
       "        vertical-align: top;\n",
       "    }\n",
       "\n",
       "    .dataframe thead th {\n",
       "        text-align: right;\n",
       "    }\n",
       "</style>\n",
       "<table border=\"1\" class=\"dataframe\">\n",
       "  <thead>\n",
       "    <tr style=\"text-align: right;\">\n",
       "      <th></th>\n",
       "      <th>text</th>\n",
       "      <th>label</th>\n",
       "    </tr>\n",
       "  </thead>\n",
       "  <tbody>\n",
       "    <tr>\n",
       "      <th>0</th>\n",
       "      <td>yıldır tık demedi</td>\n",
       "      <td>1</td>\n",
       "    </tr>\n",
       "    <tr>\n",
       "      <th>1</th>\n",
       "      <td>yıldır kullanıyorum müthiş</td>\n",
       "      <td>1</td>\n",
       "    </tr>\n",
       "    <tr>\n",
       "      <th>2</th>\n",
       "      <td>ürün bugün elime geçti fazla inceleme fırsatım olmadı ancak gözüme çarpan ilk usb bağlantısı pil kapağının altında güzel yer yapmış olmaları önceden aparatı kaybetmiş olarak özelliğini sevdim ayrıca dpi olması iyi tip farelerin çoğu dpi oluyor sizde benim masaüstü bilgisayarınızdan oyuncu faresi yüksek dpi ayarına alışmış biriyseniz windows ayarından fareyi hızlıya getirin fareyi sipariş verin pişman olmazsınız teşekkürler logitech</td>\n",
       "      <td>1</td>\n",
       "    </tr>\n",
       "    <tr>\n",
       "      <th>3</th>\n",
       "      <td>almaya karar verdim hemencecik geldi keyifle kullanıyorum</td>\n",
       "      <td>1</td>\n",
       "    </tr>\n",
       "    <tr>\n",
       "      <th>4</th>\n",
       "      <td>günlük kullanımınızı iyi karsılıyor kısaca mükemmel</td>\n",
       "      <td>1</td>\n",
       "    </tr>\n",
       "    <tr>\n",
       "      <th>...</th>\n",
       "      <td>...</td>\n",
       "      <td>...</td>\n",
       "    </tr>\n",
       "    <tr>\n",
       "      <th>243492</th>\n",
       "      <td>fiyatına göre güzel</td>\n",
       "      <td>1</td>\n",
       "    </tr>\n",
       "    <tr>\n",
       "      <th>243493</th>\n",
       "      <td>ürün kullanışlı iş görüyor fazlasıyla eşime aldim cok memnun tek sıkıntı renk olayinda saticinin beyaz belirttigi resimdeki gri ürün olmasi gri üründe fena degil şık duruyor telefonla ilgili cok fazla bir beklentiniz yoksa ideal tavsiye ederim</td>\n",
       "      <td>1</td>\n",
       "    </tr>\n",
       "    <tr>\n",
       "      <th>243494</th>\n",
       "      <td>hızlı kargo güzel ürün</td>\n",
       "      <td>1</td>\n",
       "    </tr>\n",
       "    <tr>\n",
       "      <th>243495</th>\n",
       "      <td>telefon başarılı hızlı bir cihaz sadece beyaz istemiştik gri rengi geldi</td>\n",
       "      <td>1</td>\n",
       "    </tr>\n",
       "    <tr>\n",
       "      <th>243496</th>\n",
       "      <td>urun cok guzel pazar gunu siparis verdim adanadan sali gunu ulasti gold dengini aldim isinma donma kasma yok orjinal kapali kutusunda geldi surekli telefon degistiren biriyim sikildikca satan biriyim urun guzel fiyat iyi kargo sorunsuz beklemeden bi tusla ayaginiza gelsin fazla soze gerek yok</td>\n",
       "      <td>1</td>\n",
       "    </tr>\n",
       "  </tbody>\n",
       "</table>\n",
       "<p>243497 rows × 2 columns</p>\n",
       "</div>"
      ],
      "text/plain": [
       "                                                                                                                                                                                                                                                                                                                                                                                                                                                       text  \\\n",
       "0                                                                                                                                                                                                                                                                                                                                                                                                                                         yıldır tık demedi   \n",
       "1                                                                                                                                                                                                                                                                                                                                                                                                                                yıldır kullanıyorum müthiş   \n",
       "2       ürün bugün elime geçti fazla inceleme fırsatım olmadı ancak gözüme çarpan ilk usb bağlantısı pil kapağının altında güzel yer yapmış olmaları önceden aparatı kaybetmiş olarak özelliğini sevdim ayrıca dpi olması iyi tip farelerin çoğu dpi oluyor sizde benim masaüstü bilgisayarınızdan oyuncu faresi yüksek dpi ayarına alışmış biriyseniz windows ayarından fareyi hızlıya getirin fareyi sipariş verin pişman olmazsınız teşekkürler logitech   \n",
       "3                                                                                                                                                                                                                                                                                                                                                                                                 almaya karar verdim hemencecik geldi keyifle kullanıyorum   \n",
       "4                                                                                                                                                                                                                                                                                                                                                                                                       günlük kullanımınızı iyi karsılıyor kısaca mükemmel   \n",
       "...                                                                                                                                                                                                                                                                                                                                                                                                                                                     ...   \n",
       "243492                                                                                                                                                                                                                                                                                                                                                                                                                                  fiyatına göre güzel   \n",
       "243493                                                                                                                                                                                                  ürün kullanışlı iş görüyor fazlasıyla eşime aldim cok memnun tek sıkıntı renk olayinda saticinin beyaz belirttigi resimdeki gri ürün olmasi gri üründe fena degil şık duruyor telefonla ilgili cok fazla bir beklentiniz yoksa ideal tavsiye ederim   \n",
       "243494                                                                                                                                                                                                                                                                                                                                                                                                                               hızlı kargo güzel ürün   \n",
       "243495                                                                                                                                                                                                                                                                                                                                                                             telefon başarılı hızlı bir cihaz sadece beyaz istemiştik gri rengi geldi   \n",
       "243496                                                                                                                                                urun cok guzel pazar gunu siparis verdim adanadan sali gunu ulasti gold dengini aldim isinma donma kasma yok orjinal kapali kutusunda geldi surekli telefon degistiren biriyim sikildikca satan biriyim urun guzel fiyat iyi kargo sorunsuz beklemeden bi tusla ayaginiza gelsin fazla soze gerek yok   \n",
       "\n",
       "        label  \n",
       "0           1  \n",
       "1           1  \n",
       "2           1  \n",
       "3           1  \n",
       "4           1  \n",
       "...       ...  \n",
       "243492      1  \n",
       "243493      1  \n",
       "243494      1  \n",
       "243495      1  \n",
       "243496      1  \n",
       "\n",
       "[243497 rows x 2 columns]"
      ]
     },
     "execution_count": 118,
     "metadata": {},
     "output_type": "execute_result"
    }
   ],
   "source": [
    "prd_rew"
   ]
  },
  {
   "cell_type": "code",
   "execution_count": 119,
   "metadata": {},
   "outputs": [
    {
     "data": {
      "text/plain": [
       "label\n",
       "1    229821\n",
       "2     13676\n",
       "Name: count, dtype: int64"
      ]
     },
     "execution_count": 119,
     "metadata": {},
     "output_type": "execute_result"
    }
   ],
   "source": [
    "prd_rew[\"label\"].value_counts()"
   ]
  },
  {
   "cell_type": "code",
   "execution_count": 122,
   "metadata": {},
   "outputs": [],
   "source": [
    "# prd_rew.to_csv(\"processed_data/processed_prd_rew.csv\", sep=\";\", index=False)"
   ]
  },
  {
   "cell_type": "code",
   "execution_count": null,
   "metadata": {},
   "outputs": [],
   "source": []
  },
  {
   "cell_type": "code",
   "execution_count": null,
   "metadata": {},
   "outputs": [],
   "source": []
  },
  {
   "cell_type": "code",
   "execution_count": null,
   "metadata": {},
   "outputs": [],
   "source": []
  },
  {
   "cell_type": "code",
   "execution_count": null,
   "metadata": {},
   "outputs": [],
   "source": []
  },
  {
   "cell_type": "code",
   "execution_count": null,
   "metadata": {},
   "outputs": [],
   "source": []
  },
  {
   "cell_type": "code",
   "execution_count": null,
   "metadata": {},
   "outputs": [],
   "source": []
  },
  {
   "cell_type": "code",
   "execution_count": null,
   "metadata": {},
   "outputs": [],
   "source": []
  },
  {
   "cell_type": "code",
   "execution_count": null,
   "metadata": {},
   "outputs": [],
   "source": []
  },
  {
   "cell_type": "code",
   "execution_count": null,
   "metadata": {},
   "outputs": [],
   "source": []
  },
  {
   "cell_type": "code",
   "execution_count": null,
   "metadata": {},
   "outputs": [],
   "source": []
  }
 ],
 "metadata": {
  "kernelspec": {
   "display_name": "venv",
   "language": "python",
   "name": "python3"
  },
  "language_info": {
   "codemirror_mode": {
    "name": "ipython",
    "version": 3
   },
   "file_extension": ".py",
   "mimetype": "text/x-python",
   "name": "python",
   "nbconvert_exporter": "python",
   "pygments_lexer": "ipython3",
   "version": "3.10.12"
  }
 },
 "nbformat": 4,
 "nbformat_minor": 2
}
