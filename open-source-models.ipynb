{
 "cells": [
  {
   "cell_type": "code",
   "execution_count": 1,
   "metadata": {},
   "outputs": [],
   "source": [
    "import warnings\n",
    "warnings.filterwarnings(\"ignore\")"
   ]
  },
  {
   "cell_type": "markdown",
   "metadata": {},
   "source": [
    "# savasy/bert-base-turkish-sentiment-cased\n",
    "https://huggingface.co/savasy/bert-base-turkish-sentiment-cased"
   ]
  },
  {
   "cell_type": "code",
   "execution_count": 4,
   "metadata": {},
   "outputs": [
    {
     "name": "stdout",
     "output_type": "stream",
     "text": [
      "[{'label': 'positive', 'score': 0.983146607875824}]\n",
      "False\n",
      "[{'label': 'negative', 'score': 0.9990053772926331}]\n",
      "False\n"
     ]
    }
   ],
   "source": [
    "from transformers import AutoModelForSequenceClassification, AutoTokenizer, pipeline\n",
    "\n",
    "model = AutoModelForSequenceClassification.from_pretrained(\"savasy/bert-base-turkish-sentiment-cased\")\n",
    "tokenizer = AutoTokenizer.from_pretrained(\"savasy/bert-base-turkish-sentiment-cased\")\n",
    "sa= pipeline(\"sentiment-analysis\", tokenizer=tokenizer, model=model)\n",
    "\n",
    "p = sa(\"bu telefon modelleri çok kaliteli , her parçası çok özel bence\")\n",
    "print(p)\n",
    "# [{'label': 'LABEL_1', 'score': 0.9871089}]\n",
    "print(p[0]['label'] == 'LABEL_1')\n",
    "# True\n",
    "\n",
    "p = sa(\"Film çok kötü ve çok sahteydi\")\n",
    "print(p)\n",
    "# [{'label': 'LABEL_0', 'score': 0.9975505}]\n",
    "print(p[0]['label'] == 'LABEL_1')\n",
    "# False\n"
   ]
  },
  {
   "cell_type": "markdown",
   "metadata": {},
   "source": [
    "# akoksal/bounti\n",
    "\n",
    "https://huggingface.co/akoksal/bounti"
   ]
  },
  {
   "cell_type": "code",
   "execution_count": 11,
   "metadata": {},
   "outputs": [
    {
     "name": "stdout",
     "output_type": "stream",
     "text": [
      "[{'label': 'negative', 'score': 0.8012507557868958}]\n",
      "[{'label': 'positive', 'score': 0.9141610860824585}]\n"
     ]
    }
   ],
   "source": [
    "from transformers import pipeline\n",
    "bounti = pipeline(\"sentiment-analysis\",model=\"akoksal/bounti\")\n",
    "print(bounti(\"Bu yemeği pek sevmedim\"))\n",
    "print(bounti(\"bu otelin konumu merkeze çok yakındı, personeller güleryüzlüydü\"))"
   ]
  },
  {
   "cell_type": "markdown",
   "metadata": {},
   "source": [
    "# anilguven/distilbert_tr_turkish_hotel_reviews\n",
    "\n",
    "https://huggingface.co/anilguven/distilbert_tr_turkish_hotel_reviews\n",
    "\n",
    "LABEL_0: positive review \\\n",
    "LABEL_1: negative review"
   ]
  },
  {
   "cell_type": "code",
   "execution_count": 14,
   "metadata": {},
   "outputs": [
    {
     "name": "stdout",
     "output_type": "stream",
     "text": [
      "[{'label': 'LABEL_1', 'score': 0.9982306361198425}]\n"
     ]
    }
   ],
   "source": [
    "# Use a pipeline as a high-level helper\n",
    "from transformers import pipeline\n",
    "\n",
    "pipe = pipeline(\"text-classification\", model=\"anilguven/distilbert_tr_turkish_hotel_reviews\")\n",
    "print(pipe(\"bu otelin, personeller kabaydı\"))"
   ]
  },
  {
   "cell_type": "markdown",
   "metadata": {},
   "source": [
    "# anilguven/albert_tr_turkish_hotel_reviews\n",
    "\n",
    "https://huggingface.co/anilguven/albert_tr_turkish_hotel_reviews\n",
    "\n",
    "LABEL_0: positive review \\\n",
    "LABEL_1: negative review"
   ]
  },
  {
   "cell_type": "code",
   "execution_count": 3,
   "metadata": {},
   "outputs": [],
   "source": [
    "# pip install sentencepiece\n",
    "#!pip install protobuf\n"
   ]
  },
  {
   "cell_type": "code",
   "execution_count": 11,
   "metadata": {},
   "outputs": [
    {
     "name": "stdout",
     "output_type": "stream",
     "text": [
      "[{'label': 'LABEL_1', 'score': 0.999931812286377}]\n"
     ]
    }
   ],
   "source": [
    "# Use a pipeline as a high-level helper\n",
    "# Use a pipeline as a high-level helper\n",
    "from transformers import pipeline\n",
    "\n",
    "albert = pipeline(\"sentiment-analysis\", model=\"anilguven/albert_tr_turkish_hotel_reviews\")\n",
    "print(albert(\"bu otelin personeller güleryüzlüydü\"))\n"
   ]
  },
  {
   "cell_type": "markdown",
   "metadata": {},
   "source": [
    "# mdeniz1/turkish-sentiment-analysis-bert-base-turkish-uncased\n",
    "\n",
    "https://huggingface.co/mdeniz1/turkish-sentiment-analysis-bert-base-turkish-uncased?library=transformers"
   ]
  },
  {
   "cell_type": "code",
   "execution_count": 1,
   "metadata": {},
   "outputs": [],
   "source": [
    "# !pip install tf-keras\n"
   ]
  },
  {
   "cell_type": "code",
   "execution_count": 7,
   "metadata": {},
   "outputs": [
    {
     "name": "stderr",
     "output_type": "stream",
     "text": [
      "Some layers from the model checkpoint at mdeniz1/turkish-sentiment-analysis-bert-base-turkish-uncased were not used when initializing TFBertForSequenceClassification: ['dropout_37']\n",
      "- This IS expected if you are initializing TFBertForSequenceClassification from the checkpoint of a model trained on another task or with another architecture (e.g. initializing a BertForSequenceClassification model from a BertForPreTraining model).\n",
      "- This IS NOT expected if you are initializing TFBertForSequenceClassification from the checkpoint of a model that you expect to be exactly identical (initializing a BertForSequenceClassification model from a BertForSequenceClassification model).\n",
      "All the layers of TFBertForSequenceClassification were initialized from the model checkpoint at mdeniz1/turkish-sentiment-analysis-bert-base-turkish-uncased.\n",
      "If your task is similar to the task the model of the checkpoint was trained on, you can already use TFBertForSequenceClassification for predictions without further training.\n"
     ]
    },
    {
     "name": "stdout",
     "output_type": "stream",
     "text": [
      "[{'label': 'LABEL_2', 'score': 0.9899560213088989}]\n",
      "[{'label': 'LABEL_0', 'score': 0.9872657060623169}]\n",
      "[{'label': 'LABEL_1', 'score': 0.9929628968238831}]\n"
     ]
    }
   ],
   "source": [
    "from transformers import pipeline\n",
    "\n",
    "# from_tf=True parametresi ile modeli yükleyin\n",
    "mdeniz = pipeline(\"text-classification\", model=\"mdeniz1/turkish-sentiment-analysis-bert-base-turkish-uncased\")\n",
    "print(mdeniz(\"ortam oldukça güzel\")) # positive\n",
    "print(mdeniz(\"senden bir cacık olmaz\")) # negative\n",
    "print(mdeniz(\"bu normal bir metindir\"))"
   ]
  },
  {
   "cell_type": "markdown",
   "metadata": {},
   "source": [
    "# azizbarank/distilbert-base-turkish-cased-sentiment\n",
    "\n",
    "https://huggingface.co/azizbarank/distilbert-base-turkish-cased-sentiment"
   ]
  },
  {
   "cell_type": "code",
   "execution_count": 10,
   "metadata": {},
   "outputs": [
    {
     "name": "stdout",
     "output_type": "stream",
     "text": [
      "[{'label': 'LABEL_1', 'score': 0.9204667210578918}]\n",
      "[{'label': 'LABEL_0', 'score': 0.663073718547821}]\n",
      "[{'label': 'LABEL_0', 'score': 0.6795873045921326}]\n"
     ]
    }
   ],
   "source": [
    "# Use a pipeline as a high-level helper\n",
    "from transformers import pipeline\n",
    "\n",
    "azizbarank = pipeline(\"text-classification\", model=\"azizbarank/distilbert-base-turkish-cased-sentiment\")\n",
    "print(azizbarank(\"ortam oldukça güzel\"))\n",
    "print(azizbarank(\"senden bir cacık olmaz\"))\n",
    "print(azizbarank(\"bu normal bir metindir\"))"
   ]
  },
  {
   "cell_type": "markdown",
   "metadata": {},
   "source": []
  },
  {
   "cell_type": "code",
   "execution_count": null,
   "metadata": {},
   "outputs": [],
   "source": []
  }
 ],
 "metadata": {
  "kernelspec": {
   "display_name": "venv",
   "language": "python",
   "name": "python3"
  },
  "language_info": {
   "codemirror_mode": {
    "name": "ipython",
    "version": 3
   },
   "file_extension": ".py",
   "mimetype": "text/x-python",
   "name": "python",
   "nbconvert_exporter": "python",
   "pygments_lexer": "ipython3",
   "version": "3.10.12"
  }
 },
 "nbformat": 4,
 "nbformat_minor": 2
}
