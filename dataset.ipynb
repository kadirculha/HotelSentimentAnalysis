{
 "cells": [
  {
   "cell_type": "code",
   "execution_count": 2,
   "metadata": {},
   "outputs": [],
   "source": [
    "import warnings\n",
    "warnings.filterwarnings(\"ignore\")\n",
    "import pandas as pd\n",
    "\n",
    "pd.set_option(\"display.max_colwidth\",None)"
   ]
  },
  {
   "cell_type": "markdown",
   "metadata": {},
   "source": [
    "# winvoker/turkish-sentiment-analysis-dataset\n",
    "\n",
    "https://huggingface.co/datasets/winvoker/turkish-sentiment-analysis-dataset\n",
    "\n",
    "References: \\\n",
    "https://www.kaggle.com/burhanbilenn/duygu-analizi-icin-urun-yorumlari \\\n",
    "https://github.com/fthbrmnby/turkish-text-data \\\n",
    "https://www.kaggle.com/mustfkeskin/turkish-wikipedia-dump \\\n",
    "https://github.com/ezgisubasi/turkish-tweets-sentiment-analysis \\\n",
    "http://humirapps.cs.hacettepe.edu.tr/"
   ]
  },
  {
   "cell_type": "code",
   "execution_count": 3,
   "metadata": {},
   "outputs": [
    {
     "name": "stderr",
     "output_type": "stream",
     "text": [
      "Downloading readme: 100%|██████████| 1.99k/1.99k [00:00<00:00, 4.10MB/s]\n",
      "Downloading data: 100%|██████████| 76.1M/76.1M [00:05<00:00, 14.1MB/s]\n",
      "Downloading data: 100%|██████████| 8.47M/8.47M [00:01<00:00, 7.15MB/s]\n",
      "Generating train split: 100%|██████████| 440679/440679 [00:01<00:00, 398970.14 examples/s]\n",
      "Generating test split: 100%|██████████| 48965/48965 [00:00<00:00, 400661.15 examples/s]\n"
     ]
    }
   ],
   "source": [
    "from datasets import load_dataset\n",
    "\n",
    "dataset = load_dataset(\"winvoker/turkish-sentiment-analysis-dataset\")"
   ]
  },
  {
   "cell_type": "code",
   "execution_count": 18,
   "metadata": {},
   "outputs": [
    {
     "data": {
      "text/plain": [
       "{'train': ['text', 'label', 'dataset'], 'test': ['text', 'label', 'dataset']}"
      ]
     },
     "execution_count": 18,
     "metadata": {},
     "output_type": "execute_result"
    }
   ],
   "source": [
    "dataset.column_names"
   ]
  },
  {
   "cell_type": "code",
   "execution_count": 20,
   "metadata": {},
   "outputs": [],
   "source": [
    "winvoker_train = pd.DataFrame(dataset[\"train\"])\n",
    "winvoker_test = pd.DataFrame(dataset[\"test\"])"
   ]
  },
  {
   "cell_type": "code",
   "execution_count": 21,
   "metadata": {},
   "outputs": [],
   "source": [
    "winvoker = pd.concat([winvoker_train, winvoker_test], ignore_index=True)"
   ]
  },
  {
   "cell_type": "code",
   "execution_count": 27,
   "metadata": {},
   "outputs": [
    {
     "data": {
      "text/html": [
       "<div>\n",
       "<style scoped>\n",
       "    .dataframe tbody tr th:only-of-type {\n",
       "        vertical-align: middle;\n",
       "    }\n",
       "\n",
       "    .dataframe tbody tr th {\n",
       "        vertical-align: top;\n",
       "    }\n",
       "\n",
       "    .dataframe thead th {\n",
       "        text-align: right;\n",
       "    }\n",
       "</style>\n",
       "<table border=\"1\" class=\"dataframe\">\n",
       "  <thead>\n",
       "    <tr style=\"text-align: right;\">\n",
       "      <th></th>\n",
       "      <th>text</th>\n",
       "      <th>label</th>\n",
       "      <th>dataset</th>\n",
       "    </tr>\n",
       "  </thead>\n",
       "  <tbody>\n",
       "    <tr>\n",
       "      <th>0</th>\n",
       "      <td>ürünü hepsiburadadan alalı 3 hafta oldu. orjinal ve eksiksiz şekilde geldi. şarj konusunda 1 günü rahat çıkarıyor oyun oynamama rağmen. teslimat sürecide hızlı gerçekleşti. en uygun fiyata iphone kalitesi kaçırmayın..</td>\n",
       "      <td>Positive</td>\n",
       "      <td>urun_yorumlari</td>\n",
       "    </tr>\n",
       "    <tr>\n",
       "      <th>1</th>\n",
       "      <td>ürünlerden çok memnunum, kesinlikle herkese tavsiye ederim. ayrıca hepsiburada ya süper hızlı gönderim için teşekkür ederim.</td>\n",
       "      <td>Positive</td>\n",
       "      <td>urun_yorumlari</td>\n",
       "    </tr>\n",
       "    <tr>\n",
       "      <th>2</th>\n",
       "      <td>hızlı kargo, temiz alışveriş.teşekkür ederim.</td>\n",
       "      <td>Positive</td>\n",
       "      <td>urun_yorumlari</td>\n",
       "    </tr>\n",
       "    <tr>\n",
       "      <th>3</th>\n",
       "      <td>Çünkü aranan tapınak bu bölgededir .</td>\n",
       "      <td>Notr</td>\n",
       "      <td>wiki</td>\n",
       "    </tr>\n",
       "    <tr>\n",
       "      <th>4</th>\n",
       "      <td>bu telefonu başlıca alma nedenlerim ise elimdeki samsung  j5 artık yetersiz gelmesi. nedemlerim;</td>\n",
       "      <td>Positive</td>\n",
       "      <td>urun_yorumlari</td>\n",
       "    </tr>\n",
       "  </tbody>\n",
       "</table>\n",
       "</div>"
      ],
      "text/plain": [
       "                                                                                                                                                                                                                        text  \\\n",
       "0  ürünü hepsiburadadan alalı 3 hafta oldu. orjinal ve eksiksiz şekilde geldi. şarj konusunda 1 günü rahat çıkarıyor oyun oynamama rağmen. teslimat sürecide hızlı gerçekleşti. en uygun fiyata iphone kalitesi kaçırmayın..   \n",
       "1                                                                                               ürünlerden çok memnunum, kesinlikle herkese tavsiye ederim. ayrıca hepsiburada ya süper hızlı gönderim için teşekkür ederim.   \n",
       "2                                                                                                                                                                              hızlı kargo, temiz alışveriş.teşekkür ederim.   \n",
       "3                                                                                                                                                                                       Çünkü aranan tapınak bu bölgededir .   \n",
       "4                                                                                                                           bu telefonu başlıca alma nedenlerim ise elimdeki samsung  j5 artık yetersiz gelmesi. nedemlerim;   \n",
       "\n",
       "      label         dataset  \n",
       "0  Positive  urun_yorumlari  \n",
       "1  Positive  urun_yorumlari  \n",
       "2  Positive  urun_yorumlari  \n",
       "3      Notr            wiki  \n",
       "4  Positive  urun_yorumlari  "
      ]
     },
     "execution_count": 27,
     "metadata": {},
     "output_type": "execute_result"
    }
   ],
   "source": [
    "winvoker.head()"
   ]
  },
  {
   "cell_type": "code",
   "execution_count": 24,
   "metadata": {},
   "outputs": [
    {
     "name": "stdout",
     "output_type": "stream",
     "text": [
      "<class 'pandas.core.frame.DataFrame'>\n",
      "RangeIndex: 489644 entries, 0 to 489643\n",
      "Data columns (total 3 columns):\n",
      " #   Column   Non-Null Count   Dtype \n",
      "---  ------   --------------   ----- \n",
      " 0   text     489644 non-null  object\n",
      " 1   label    489644 non-null  object\n",
      " 2   dataset  489644 non-null  object\n",
      "dtypes: object(3)\n",
      "memory usage: 11.2+ MB\n"
     ]
    }
   ],
   "source": [
    "winvoker.info()"
   ]
  },
  {
   "cell_type": "code",
   "execution_count": 29,
   "metadata": {},
   "outputs": [
    {
     "data": {
      "text/plain": [
       "6"
      ]
     },
     "execution_count": 29,
     "metadata": {},
     "output_type": "execute_result"
    }
   ],
   "source": [
    "winvoker[\"dataset\"].nunique()"
   ]
  },
  {
   "cell_type": "code",
   "execution_count": 30,
   "metadata": {},
   "outputs": [],
   "source": [
    "#winvoker.to_csv(\"data/winvoker.csv\", sep=\";\", index=False)"
   ]
  },
  {
   "cell_type": "markdown",
   "metadata": {},
   "source": [
    "# maydogan/TRSAv1\n",
    "\n",
    "https://huggingface.co/datasets/maydogan/TRSAv1\n",
    "\n",
    "TRSAv1 (Turkish Sentiment Analysis Version 1) Dataset This data set has been produced to contribute to Turkish NLP studies. The dataset consists of a total of 150 thousand samples, 50 thousand negative, 50 thousand positive and 50 thousand neutral. It can be used in text classification and sentiment analysis studies by citing the related study.\n",
    "\n",
    "Aydoğan M, Kocaman V. TRSAv1: A new benchmark dataset for classifying user reviews on Turkish e-commerce websites. Journal of Information Science. February 2022. doi:10.1177/01655515221074328"
   ]
  },
  {
   "cell_type": "code",
   "execution_count": 31,
   "metadata": {},
   "outputs": [
    {
     "name": "stderr",
     "output_type": "stream",
     "text": [
      "Downloading readme: 100%|██████████| 557/557 [00:00<00:00, 1.12MB/s]\n",
      "Repo card metadata block was not found. Setting CardData to empty.\n",
      "Downloading data: 100%|██████████| 16.1M/16.1M [00:02<00:00, 7.01MB/s]\n",
      "Generating train split: 100%|██████████| 150000/150000 [00:00<00:00, 537264.28 examples/s]\n"
     ]
    }
   ],
   "source": [
    "from datasets import load_dataset\n",
    "\n",
    "dataset = load_dataset(\"maydogan/TRSAv1\")"
   ]
  },
  {
   "cell_type": "code",
   "execution_count": 32,
   "metadata": {},
   "outputs": [
    {
     "data": {
      "text/plain": [
       "DatasetDict({\n",
       "    train: Dataset({\n",
       "        features: ['id', 'score', 'review'],\n",
       "        num_rows: 150000\n",
       "    })\n",
       "})"
      ]
     },
     "execution_count": 32,
     "metadata": {},
     "output_type": "execute_result"
    }
   ],
   "source": [
    "dataset"
   ]
  },
  {
   "cell_type": "code",
   "execution_count": 33,
   "metadata": {},
   "outputs": [],
   "source": [
    "maydogan = pd.DataFrame(dataset[\"train\"])"
   ]
  },
  {
   "cell_type": "code",
   "execution_count": 34,
   "metadata": {},
   "outputs": [
    {
     "data": {
      "text/html": [
       "<div>\n",
       "<style scoped>\n",
       "    .dataframe tbody tr th:only-of-type {\n",
       "        vertical-align: middle;\n",
       "    }\n",
       "\n",
       "    .dataframe tbody tr th {\n",
       "        vertical-align: top;\n",
       "    }\n",
       "\n",
       "    .dataframe thead th {\n",
       "        text-align: right;\n",
       "    }\n",
       "</style>\n",
       "<table border=\"1\" class=\"dataframe\">\n",
       "  <thead>\n",
       "    <tr style=\"text-align: right;\">\n",
       "      <th></th>\n",
       "      <th>id</th>\n",
       "      <th>score</th>\n",
       "      <th>review</th>\n",
       "    </tr>\n",
       "  </thead>\n",
       "  <tbody>\n",
       "    <tr>\n",
       "      <th>0</th>\n",
       "      <td>0</td>\n",
       "      <td>Positive</td>\n",
       "      <td>Kokusu çok güzel etkisi de efsane</td>\n",
       "    </tr>\n",
       "    <tr>\n",
       "      <th>1</th>\n",
       "      <td>1</td>\n",
       "      <td>Negative</td>\n",
       "      <td>hiç bir fark olmadı siyah nokta silmedi</td>\n",
       "    </tr>\n",
       "    <tr>\n",
       "      <th>2</th>\n",
       "      <td>2</td>\n",
       "      <td>Positive</td>\n",
       "      <td>şeffaf güzel bir krem elimi yumuşacık yaptı</td>\n",
       "    </tr>\n",
       "    <tr>\n",
       "      <th>3</th>\n",
       "      <td>3</td>\n",
       "      <td>Positive</td>\n",
       "      <td>Özellikle karma ve hassas cildiniz varsa La Rocay'ın bu yüz temizleyicisi gerçekten aldigi paranin hakkini veriyor😍Ve Almanya için konusursam , trendyol neredeyse yari fiyatina satiyor🤩</td>\n",
       "    </tr>\n",
       "    <tr>\n",
       "      <th>4</th>\n",
       "      <td>4</td>\n",
       "      <td>Negative</td>\n",
       "      <td>çok iyi nemlendiriyor ama daha ucuz muadilleri var, buna bu parayı vermenize gerek yok.</td>\n",
       "    </tr>\n",
       "  </tbody>\n",
       "</table>\n",
       "</div>"
      ],
      "text/plain": [
       "   id     score  \\\n",
       "0   0  Positive   \n",
       "1   1  Negative   \n",
       "2   2  Positive   \n",
       "3   3  Positive   \n",
       "4   4  Negative   \n",
       "\n",
       "                                                                                                                                                                                      review  \n",
       "0                                                                                                                                                          Kokusu çok güzel etkisi de efsane  \n",
       "1                                                                                                                                                    hiç bir fark olmadı siyah nokta silmedi  \n",
       "2                                                                                                                                                şeffaf güzel bir krem elimi yumuşacık yaptı  \n",
       "3  Özellikle karma ve hassas cildiniz varsa La Rocay'ın bu yüz temizleyicisi gerçekten aldigi paranin hakkini veriyor😍Ve Almanya için konusursam , trendyol neredeyse yari fiyatina satiyor🤩  \n",
       "4                                                                                                    çok iyi nemlendiriyor ama daha ucuz muadilleri var, buna bu parayı vermenize gerek yok.  "
      ]
     },
     "execution_count": 34,
     "metadata": {},
     "output_type": "execute_result"
    }
   ],
   "source": [
    "maydogan.head()"
   ]
  },
  {
   "cell_type": "code",
   "execution_count": 36,
   "metadata": {},
   "outputs": [
    {
     "data": {
      "text/plain": [
       "score\n",
       "Positive    50000\n",
       "Negative    50000\n",
       "Neutral     50000\n",
       "Name: count, dtype: int64"
      ]
     },
     "execution_count": 36,
     "metadata": {},
     "output_type": "execute_result"
    }
   ],
   "source": [
    "maydogan[\"score\"].value_counts()"
   ]
  },
  {
   "cell_type": "code",
   "execution_count": 38,
   "metadata": {},
   "outputs": [],
   "source": [
    "#maydogan.to_csv(\"data/maydogan.csv\", sep=\";\", index=False)"
   ]
  },
  {
   "cell_type": "markdown",
   "metadata": {},
   "source": [
    "# turkish-nlp-suite/beyazperde-top-300-movie-reviews\n",
    "\n",
    "https://huggingface.co/datasets/turkish-nlp-suite/beyazperde-top-300-movie-reviews\n",
    "\n",
    "Beyazperde Movie Reviews offers Turkish sentiment analysis datasets that is scraped from popular movie reviews website Beyazperde.com. Top 300 Movies include audience reviews about best 300 movies of all the time. Here's the star rating distribution:"
   ]
  },
  {
   "cell_type": "code",
   "execution_count": 39,
   "metadata": {},
   "outputs": [
    {
     "name": "stderr",
     "output_type": "stream",
     "text": [
      "Downloading data: 100%|██████████| 10.3M/10.3M [00:02<00:00, 4.98MB/s]\n",
      "Downloading data: 100%|██████████| 1.16M/1.16M [00:01<00:00, 779kB/s]\n",
      "Downloading data: 100%|██████████| 1.24M/1.24M [00:01<00:00, 732kB/s]\n",
      "Generating train split: 100%|██████████| 44015/44015 [00:00<00:00, 585611.57 examples/s]\n",
      "Generating test split: 100%|██████████| 5000/5000 [00:00<00:00, 728101.93 examples/s]\n",
      "Generating validation split: 100%|██████████| 5000/5000 [00:00<00:00, 634942.63 examples/s]\n"
     ]
    }
   ],
   "source": [
    "from datasets import load_dataset\n",
    "\n",
    "dataset = load_dataset(\"turkish-nlp-suite/beyazperde-top-300-movie-reviews\")"
   ]
  },
  {
   "cell_type": "code",
   "execution_count": 40,
   "metadata": {},
   "outputs": [
    {
     "data": {
      "text/plain": [
       "DatasetDict({\n",
       "    train: Dataset({\n",
       "        features: ['movie', 'text', 'star'],\n",
       "        num_rows: 44015\n",
       "    })\n",
       "    test: Dataset({\n",
       "        features: ['movie', 'text', 'star'],\n",
       "        num_rows: 5000\n",
       "    })\n",
       "    validation: Dataset({\n",
       "        features: ['movie', 'text', 'star'],\n",
       "        num_rows: 5000\n",
       "    })\n",
       "})"
      ]
     },
     "execution_count": 40,
     "metadata": {},
     "output_type": "execute_result"
    }
   ],
   "source": [
    "dataset"
   ]
  },
  {
   "cell_type": "code",
   "execution_count": 48,
   "metadata": {},
   "outputs": [],
   "source": [
    "train_df = pd.DataFrame(dataset['train'])\n",
    "test_df = pd.DataFrame(dataset['test'])\n",
    "validation_df = pd.DataFrame(dataset['validation'])\n",
    "\n",
    "nlp_suite = pd.concat([train_df, test_df, validation_df], ignore_index=True)"
   ]
  },
  {
   "cell_type": "code",
   "execution_count": 50,
   "metadata": {},
   "outputs": [
    {
     "data": {
      "text/html": [
       "<div>\n",
       "<style scoped>\n",
       "    .dataframe tbody tr th:only-of-type {\n",
       "        vertical-align: middle;\n",
       "    }\n",
       "\n",
       "    .dataframe tbody tr th {\n",
       "        vertical-align: top;\n",
       "    }\n",
       "\n",
       "    .dataframe thead th {\n",
       "        text-align: right;\n",
       "    }\n",
       "</style>\n",
       "<table border=\"1\" class=\"dataframe\">\n",
       "  <thead>\n",
       "    <tr style=\"text-align: right;\">\n",
       "      <th></th>\n",
       "      <th>movie</th>\n",
       "      <th>text</th>\n",
       "      <th>star</th>\n",
       "    </tr>\n",
       "  </thead>\n",
       "  <tbody>\n",
       "    <tr>\n",
       "      <th>0</th>\n",
       "      <td>5. Element</td>\n",
       "      <td>bruce willis için izlediğim bir filmdi pişmanda olmadım ama insan şuanda izleyince birazda klişe gelmiyor değil bilimkurgu hayranlarını tatmin edecektir diye düşünüyorum.</td>\n",
       "      <td>3.5</td>\n",
       "    </tr>\n",
       "    <tr>\n",
       "      <th>1</th>\n",
       "      <td>Son Ültimatom</td>\n",
       "      <td>Heyecanlı sürükleyici çok iyi bir aksiyon filmi.</td>\n",
       "      <td>4.5</td>\n",
       "    </tr>\n",
       "    <tr>\n",
       "      <th>2</th>\n",
       "      <td>Matrix</td>\n",
       "      <td>Sinema teknolojisinde çığır açan ve peşinden gelen aksiyonlarda, bir şekilde bir esinlenme etkisi yapan film...</td>\n",
       "      <td>5.0</td>\n",
       "    </tr>\n",
       "    <tr>\n",
       "      <th>3</th>\n",
       "      <td>Geçmişin Gölgesinde</td>\n",
       "      <td>IRKCILIK ÜZERİNE YAPILMIŞ GELMİŞ GEÇMİŞ EN BÜYÜK SİNEMA OLAYI 10 ÜZERİNDEN 10 Tony Kaye 8 Temmuz 1952 yılında Londrada doğmuştur.Yönetmen, görüntü yönetmeni, yapımcı, senarist, aktör, yazar, şair, şarkıcı, söz yazarı ve ressamlık gibi işlerle uğraşıyor.İlk sinema filmi American History X oldu.Bu filmin montaj hakları elinden alınmış ve filmin sonu kendi istediği gibi değil yapım şirketinin istediği gibi bitmiştir.Bu olaydan sonra New Line Cinema yapım şirketi ile kanlı bıçaklı olmuştur.Birçok reklam filmlerinde yönetmenlik yapmıştır.4 uzun metraj filmi ardır.Bunlardan bir tanesi belgsel filmdir.En son filmi ise 2011 yılında çektiği müfreze filmidir.2002 yılında çekmiş olduğu ancak kayıp olan Snowblind filmi vardır. DAD’nin 50. yıl ödüllerinde tüm zamanların en çok ödül kazanan yönetmeni olarak onurlandırılmıştı. Kaye 1996 yılında Vauxhall Astra için yaptığı reklamda iki bin bebek kullanarak Guinness Rekorlar Kitabı’na girmişti. Tony Kaye, dokuz saatten az bir sürede 175 farklı reklam filmi çekerek dünya rekoru kırmayı hedefliyor. filmimize gelirsek YAPTIKLARIN SANA İYİ BİR YAŞAM SUNDU MU? İnsanlığın büyük sorunlarından biridir, ırkçılık. Yönetmen Tony Kaye, bu filmle ülkemizde de son zamanlarda iyice artan ırkçılığın psikolojik ve sosyolojik yanlarına ışık tutuyor ve bu ırkçılığın doğurduğu sonuçları bir ders niteliğinde bize sunuyor. Öte yandan Edward Norton oyunculuğuyla kendisinin ne kadar büyük bir aktör olduğunu izleyenlere bir kez daha göstermiş oldu. Oynadığı rolü yaşıyordu adeta. Bir diğer başrol Edward Furlong da çok iyi oynadı. Abi-kardeş ilişkisini başarılı yansıttıklarını söylemeliyim. Filmin imdB puanı 8,6 ki bu puanı sonuna kadar hak ediyor. Film iki zamandan oluşuyor. Şimdiki zaman renkli gösterilirken, geçmiş siyah-beyaz gösteriliyor. Bu da gayet güzel bir detay. Bilindiği üzere Amerika'da siyah-beyaz ayrımcılığı ezelden beri yapılır. Amerikalılara şöyle bir algı aşılanır inceden inceye : &amp;Zenciler vergi vermeyen tehlikeli insanlar ve biz onları yok yere ülkede tutuyoruz. Biz maddi sıkıntılar yaşarken devlet bunlara titizlikle yardım ediyor. Bunlar ise nankörlük edip illegal işler yapıyorlar.&amp; Kahramanımız Derek de bu algının kurbanı bir beyazdır. Kendisine bu algıyı aşılamaya çalışan babasının zenci mahallesinde hayatını kaybetmesiyle içinde biriken o &amp;algı&amp;nın bu olayla birlikte dışavurulmuşluğunu görüyoruz. Bunların sonucunda Derek yepyeni bir kimlikle bambaşka biri oluveriyor. Bu yeni kişi, kendilerinden olanları artık sadece sevmez, gurur duymaya da başlar. Bu gurur faşizmin en belirgin özelliklerinden biridir. Bir diğeri de kibirdir. Bu kibirle birlikte kendilerinden olmayanları aşağılama isteği duymaya başlanır. Onlara her zaman &amp;yabancı&amp; muamelesi yapılır. Onlara asla bir sevgi besleyemez ve çoğunlukla onlardan nefret edilir. Filmi izledikten sonra şimdi anlatacağım kısmı daha iyi anlayacaksınız... Şayet fanatik bir beyaz, bir zenciyi öldürmeye kalksa, işi yaparken kurbana derin bir nefret duyarak yapar. Yaptıktan sonra ise vicdan azabından çok yaptığı işle gurur duyar. Çünkü bir &amp;böcek&amp; öldürmüştür, insan değil. Kendini bir kahraman olarak görür. Tüm bunlar kaçınılmazdır. Aslında daha başka bir faktör de vardır : EGO. İnsanların faşizme olan tutumlarını belirleyen unsurlardan biridir ego. Çünkü faşizm, insanın egosunu tatmin edebilecek yegane düşüncedir. Devletin aşıladığı algı, kişilerce geliştirilip aşırıya kaçırılır. Bu yeni düşünce ise oldukça yanlış ve tehlikelidir. Çünkü iş çığırından çıkmıştır. Yeni düşünceler çoğunlukla şu şekildedir ve her ülkenin fanatiklerince benimsenmiştir. &amp;Bu vatan bizim mi yoksa o soysuzların(azınlıkların) mı? Yüce atalarımızı, şanlı tarihimizi ne çabuk unuttuk? Bizle o aşağılık insanlar asla eşit olamaz. Biz kendi ülkemizde köpekler gibi çalışıp gıkımızı çıkarmazken bu asalaklar hem sosyal yardım alıyor hem de yok yere anarşi çıkartıyor. Buna göz mü yumalım? Bizim insanlarımızın en ufak suçunda büyük cezalar kesilirken bu böcekler onlarca suç işleyip sokaklarda elini kolunu sallaya sallaya gezebiliyor. Bu şaka mı? Vergi vermezler, polisimizle çatışırlar, kanun kaçağıdırlar, yasadışı işler yaparlar. Onları neden sevelim ki?&amp; Filmde devamlı bu tip sosyal vurgulara tanık oluyoruz. &amp;Şimdi dinleyin, zencilerden nefret edeceğiz, bugün yapacağımız sadece bu. Zencilerden nefret edeceğiz, oturup tüm gün zencilerden nefret edeceğiz. Zenci nedir bilmem ama yine de onlardan yine nefret ediyorum.&amp;bu replik aslında oldukça manidar. Irkçılık onların bilinciyle iliklerine işlemez, &amp;bazı güçler&amp; ırkçılığı onlar farkında olmadan kafalarına sokar. Nefret ettikleri kimseleri aslında pek tanımaz, onlara ÖNYARGI ile yaklaşırlar. Filmde tabi azınlıkların(ya da sadece zencilerin diyelim) asıl sosyal durumuna ve hükümet oyunlarına değinilmedi. Çünkü yönetmen konuyu genel olarak muhafazakar bir yapıda işledi. Ve sarsıcı final sahnesiyle kafaları bulandırıp, ırkçılığa açık kapı bıraktı. Finali şöyle bir mesaj verir gibiydi &amp;İyi zenciler de var. Kötü zencilerden nefret etmekte belki haklısın ama yine de şiddete başvurmamalısın.&amp; Öte yandan ırkçılığın şiddet eğilimi muazzam yansıtıldı filme. Zaten genel olarak şiddet karşıtlığı üzerine kurulu bir filmdi. American History X(1998), ırkçılığı en iyi anlatan filmlerin başında gelir. Her ne kadar bu sorunun sadece ezen kısmına odaklansa da.. En sevdiğim filmler arasında yer alan bu film mutlaka izlenmesi gereken bir başyapıttır, herkese &amp;şiddetle&amp; tavsiye ederim. &amp;Galiba size öğrendiklerimi anlattığım yer burası, sonuç kısmı değil mi? Sonuç şu : Öfke bir yüktür. Hayat sürekli kızgın yaşanmayacak kısadır. Buna kesinlikle değmez. Biz düşman değiliz, dostuz. Düşman olmamalıyız, hırslarımız zorlayabilir ama yürek bağlarımızı koparamayız. Hafızamızın gizemli yolları, tekrar aşıldığında canlanacak ve tabiatımızın iyi yönlerinin yanında olacaktır.&amp; FAŞİZM HASTALIKTIR! 9/10</td>\n",
       "      <td>5.0</td>\n",
       "    </tr>\n",
       "    <tr>\n",
       "      <th>4</th>\n",
       "      <td>Köstebek</td>\n",
       "      <td>pek de bi numarası olmayan,jack nicholson un yer yer abartıya kaçan oyununun yanında,di coprio nun bende burdayım demeyi başarabildiği ve bu sayede kendisine uyuz olanları daha da uyuz ettiği,matt damon uğruna onca pisliği yaptığı manzarasıyla kapanan ve su testisi su yolunda kırılır mesajını ileten bir film.10/7,5</td>\n",
       "      <td>3.5</td>\n",
       "    </tr>\n",
       "  </tbody>\n",
       "</table>\n",
       "</div>"
      ],
      "text/plain": [
       "                 movie  \\\n",
       "0           5. Element   \n",
       "1        Son Ültimatom   \n",
       "2               Matrix   \n",
       "3  Geçmişin Gölgesinde   \n",
       "4             Köstebek   \n",
       "\n",
       "                                                                                                                                                                                                                                                                                                                                                                                                                                                                                                                                                                                                                                                                                                                                                                                                                                                                                                                                                                                                                                                                                                                                                                                                                                                                                                                                                                                                                                                                                                                                                                                                                                                                                                                                                                                                                                                                                                                                                                                                                                                                                                                                                                                                                                                                                                                                                                                                                                                                                                                                                                                                                                                                                                                                                                                                                                                                                                                                                                                                                                                                                                                                                                                                                                                                                                                                                                                                                                                                                                                                                                                                                                                                                                                                                                                                                                                                                                                                                                                                                                                                                                                                                                                                                                                                                                                                                                                                                                                                                                                                                                                                                                                                                                                                                                                                                                                                                                                                                                                                                                                                                                                                                                                                                                                                                                                                                                                                                                                                                                                                                                                                                                                                                                                                                                                                                                                                                                                                                                                                                                                                                         text  \\\n",
       "0                                                                                                                                                                                                                                                                                                                                                                                                                                                                                                                                                                                                                                                                                                                                                                                                                                                                                                                                                                                                                                                                                                                                                                                                                                                                                                                                                                                                                                                                                                                                                                                                                                                                                                                                                                                                                                                                                                                                                                                                                                                                                                                                                                                                                                                                                                                                                                                                                                                                                                                                                                                                                                                                                                                                                                                                                                                                                                                                                                                                                                                                                                                                                                                                                                                                                                                                                                                                                                                                                                                                                                                                                                                                                                                                                                                                                                                                                                                                                                                                                                                                                                                                                                                                                                                                                                                                                                                                                                                                                                                                                                                                                                                                                                                                                                                                                                                                                                                                                                                                                                                                                                                                                                                                                                                                                                                                                                                                                                                                                                                                                                                                                                                                                                                                                                                                                                                                                                                  bruce willis için izlediğim bir filmdi pişmanda olmadım ama insan şuanda izleyince birazda klişe gelmiyor değil bilimkurgu hayranlarını tatmin edecektir diye düşünüyorum.   \n",
       "1                                                                                                                                                                                                                                                                                                                                                                                                                                                                                                                                                                                                                                                                                                                                                                                                                                                                                                                                                                                                                                                                                                                                                                                                                                                                                                                                                                                                                                                                                                                                                                                                                                                                                                                                                                                                                                                                                                                                                                                                                                                                                                                                                                                                                                                                                                                                                                                                                                                                                                                                                                                                                                                                                                                                                                                                                                                                                                                                                                                                                                                                                                                                                                                                                                                                                                                                                                                                                                                                                                                                                                                                                                                                                                                                                                                                                                                                                                                                                                                                                                                                                                                                                                                                                                                                                                                                                                                                                                                                                                                                                                                                                                                                                                                                                                                                                                                                                                                                                                                                                                                                                                                                                                                                                                                                                                                                                                                                                                                                                                                                                                                                                                                                                                                                                                                                                                                                                                                                                                                                                                            Heyecanlı sürükleyici çok iyi bir aksiyon filmi.   \n",
       "2                                                                                                                                                                                                                                                                                                                                                                                                                                                                                                                                                                                                                                                                                                                                                                                                                                                                                                                                                                                                                                                                                                                                                                                                                                                                                                                                                                                                                                                                                                                                                                                                                                                                                                                                                                                                                                                                                                                                                                                                                                                                                                                                                                                                                                                                                                                                                                                                                                                                                                                                                                                                                                                                                                                                                                                                                                                                                                                                                                                                                                                                                                                                                                                                                                                                                                                                                                                                                                                                                                                                                                                                                                                                                                                                                                                                                                                                                                                                                                                                                                                                                                                                                                                                                                                                                                                                                                                                                                                                                                                                                                                                                                                                                                                                                                                                                                                                                                                                                                                                                                                                                                                                                                                                                                                                                                                                                                                                                                                                                                                                                                                                                                                                                                                                                                                                                                                                                                                                                                             Sinema teknolojisinde çığır açan ve peşinden gelen aksiyonlarda, bir şekilde bir esinlenme etkisi yapan film...   \n",
       "3  IRKCILIK ÜZERİNE YAPILMIŞ GELMİŞ GEÇMİŞ EN BÜYÜK SİNEMA OLAYI 10 ÜZERİNDEN 10 Tony Kaye 8 Temmuz 1952 yılında Londrada doğmuştur.Yönetmen, görüntü yönetmeni, yapımcı, senarist, aktör, yazar, şair, şarkıcı, söz yazarı ve ressamlık gibi işlerle uğraşıyor.İlk sinema filmi American History X oldu.Bu filmin montaj hakları elinden alınmış ve filmin sonu kendi istediği gibi değil yapım şirketinin istediği gibi bitmiştir.Bu olaydan sonra New Line Cinema yapım şirketi ile kanlı bıçaklı olmuştur.Birçok reklam filmlerinde yönetmenlik yapmıştır.4 uzun metraj filmi ardır.Bunlardan bir tanesi belgsel filmdir.En son filmi ise 2011 yılında çektiği müfreze filmidir.2002 yılında çekmiş olduğu ancak kayıp olan Snowblind filmi vardır. DAD’nin 50. yıl ödüllerinde tüm zamanların en çok ödül kazanan yönetmeni olarak onurlandırılmıştı. Kaye 1996 yılında Vauxhall Astra için yaptığı reklamda iki bin bebek kullanarak Guinness Rekorlar Kitabı’na girmişti. Tony Kaye, dokuz saatten az bir sürede 175 farklı reklam filmi çekerek dünya rekoru kırmayı hedefliyor. filmimize gelirsek YAPTIKLARIN SANA İYİ BİR YAŞAM SUNDU MU? İnsanlığın büyük sorunlarından biridir, ırkçılık. Yönetmen Tony Kaye, bu filmle ülkemizde de son zamanlarda iyice artan ırkçılığın psikolojik ve sosyolojik yanlarına ışık tutuyor ve bu ırkçılığın doğurduğu sonuçları bir ders niteliğinde bize sunuyor. Öte yandan Edward Norton oyunculuğuyla kendisinin ne kadar büyük bir aktör olduğunu izleyenlere bir kez daha göstermiş oldu. Oynadığı rolü yaşıyordu adeta. Bir diğer başrol Edward Furlong da çok iyi oynadı. Abi-kardeş ilişkisini başarılı yansıttıklarını söylemeliyim. Filmin imdB puanı 8,6 ki bu puanı sonuna kadar hak ediyor. Film iki zamandan oluşuyor. Şimdiki zaman renkli gösterilirken, geçmiş siyah-beyaz gösteriliyor. Bu da gayet güzel bir detay. Bilindiği üzere Amerika'da siyah-beyaz ayrımcılığı ezelden beri yapılır. Amerikalılara şöyle bir algı aşılanır inceden inceye : &Zenciler vergi vermeyen tehlikeli insanlar ve biz onları yok yere ülkede tutuyoruz. Biz maddi sıkıntılar yaşarken devlet bunlara titizlikle yardım ediyor. Bunlar ise nankörlük edip illegal işler yapıyorlar.& Kahramanımız Derek de bu algının kurbanı bir beyazdır. Kendisine bu algıyı aşılamaya çalışan babasının zenci mahallesinde hayatını kaybetmesiyle içinde biriken o &algı&nın bu olayla birlikte dışavurulmuşluğunu görüyoruz. Bunların sonucunda Derek yepyeni bir kimlikle bambaşka biri oluveriyor. Bu yeni kişi, kendilerinden olanları artık sadece sevmez, gurur duymaya da başlar. Bu gurur faşizmin en belirgin özelliklerinden biridir. Bir diğeri de kibirdir. Bu kibirle birlikte kendilerinden olmayanları aşağılama isteği duymaya başlanır. Onlara her zaman &yabancı& muamelesi yapılır. Onlara asla bir sevgi besleyemez ve çoğunlukla onlardan nefret edilir. Filmi izledikten sonra şimdi anlatacağım kısmı daha iyi anlayacaksınız... Şayet fanatik bir beyaz, bir zenciyi öldürmeye kalksa, işi yaparken kurbana derin bir nefret duyarak yapar. Yaptıktan sonra ise vicdan azabından çok yaptığı işle gurur duyar. Çünkü bir &böcek& öldürmüştür, insan değil. Kendini bir kahraman olarak görür. Tüm bunlar kaçınılmazdır. Aslında daha başka bir faktör de vardır : EGO. İnsanların faşizme olan tutumlarını belirleyen unsurlardan biridir ego. Çünkü faşizm, insanın egosunu tatmin edebilecek yegane düşüncedir. Devletin aşıladığı algı, kişilerce geliştirilip aşırıya kaçırılır. Bu yeni düşünce ise oldukça yanlış ve tehlikelidir. Çünkü iş çığırından çıkmıştır. Yeni düşünceler çoğunlukla şu şekildedir ve her ülkenin fanatiklerince benimsenmiştir. &Bu vatan bizim mi yoksa o soysuzların(azınlıkların) mı? Yüce atalarımızı, şanlı tarihimizi ne çabuk unuttuk? Bizle o aşağılık insanlar asla eşit olamaz. Biz kendi ülkemizde köpekler gibi çalışıp gıkımızı çıkarmazken bu asalaklar hem sosyal yardım alıyor hem de yok yere anarşi çıkartıyor. Buna göz mü yumalım? Bizim insanlarımızın en ufak suçunda büyük cezalar kesilirken bu böcekler onlarca suç işleyip sokaklarda elini kolunu sallaya sallaya gezebiliyor. Bu şaka mı? Vergi vermezler, polisimizle çatışırlar, kanun kaçağıdırlar, yasadışı işler yaparlar. Onları neden sevelim ki?& Filmde devamlı bu tip sosyal vurgulara tanık oluyoruz. &Şimdi dinleyin, zencilerden nefret edeceğiz, bugün yapacağımız sadece bu. Zencilerden nefret edeceğiz, oturup tüm gün zencilerden nefret edeceğiz. Zenci nedir bilmem ama yine de onlardan yine nefret ediyorum.&bu replik aslında oldukça manidar. Irkçılık onların bilinciyle iliklerine işlemez, &bazı güçler& ırkçılığı onlar farkında olmadan kafalarına sokar. Nefret ettikleri kimseleri aslında pek tanımaz, onlara ÖNYARGI ile yaklaşırlar. Filmde tabi azınlıkların(ya da sadece zencilerin diyelim) asıl sosyal durumuna ve hükümet oyunlarına değinilmedi. Çünkü yönetmen konuyu genel olarak muhafazakar bir yapıda işledi. Ve sarsıcı final sahnesiyle kafaları bulandırıp, ırkçılığa açık kapı bıraktı. Finali şöyle bir mesaj verir gibiydi &İyi zenciler de var. Kötü zencilerden nefret etmekte belki haklısın ama yine de şiddete başvurmamalısın.& Öte yandan ırkçılığın şiddet eğilimi muazzam yansıtıldı filme. Zaten genel olarak şiddet karşıtlığı üzerine kurulu bir filmdi. American History X(1998), ırkçılığı en iyi anlatan filmlerin başında gelir. Her ne kadar bu sorunun sadece ezen kısmına odaklansa da.. En sevdiğim filmler arasında yer alan bu film mutlaka izlenmesi gereken bir başyapıttır, herkese &şiddetle& tavsiye ederim. &Galiba size öğrendiklerimi anlattığım yer burası, sonuç kısmı değil mi? Sonuç şu : Öfke bir yüktür. Hayat sürekli kızgın yaşanmayacak kısadır. Buna kesinlikle değmez. Biz düşman değiliz, dostuz. Düşman olmamalıyız, hırslarımız zorlayabilir ama yürek bağlarımızı koparamayız. Hafızamızın gizemli yolları, tekrar aşıldığında canlanacak ve tabiatımızın iyi yönlerinin yanında olacaktır.& FAŞİZM HASTALIKTIR! 9/10   \n",
       "4                                                                                                                                                                                                                                                                                                                                                                                                                                                                                                                                                                                                                                                                                                                                                                                                                                                                                                                                                                                                                                                                                                                                                                                                                                                                                                                                                                                                                                                                                                                                                                                                                                                                                                                                                                                                                                                                                                                                                                                                                                                                                                                                                                                                                                                                                                                                                                                                                                                                                                                                                                                                                                                                                                                                                                                                                                                                                                                                                                                                                                                                                                                                                                                                                                                                                                                                                                                                                                                                                                                                                                                                                                                                                                                                                                                                                                                                                                                                                                                                                                                                                                                                                                                                                                                                                                                                                                                                                                                                                                                                                                                                                                                                                                                                                                                                                                                                                                                                                                                                                                                                                                                                                                                                                                                                                                                                                                                                                                                                                                                                                                                                                                                                                                                                                                pek de bi numarası olmayan,jack nicholson un yer yer abartıya kaçan oyununun yanında,di coprio nun bende burdayım demeyi başarabildiği ve bu sayede kendisine uyuz olanları daha da uyuz ettiği,matt damon uğruna onca pisliği yaptığı manzarasıyla kapanan ve su testisi su yolunda kırılır mesajını ileten bir film.10/7,5   \n",
       "\n",
       "   star  \n",
       "0   3.5  \n",
       "1   4.5  \n",
       "2   5.0  \n",
       "3   5.0  \n",
       "4   3.5  "
      ]
     },
     "execution_count": 50,
     "metadata": {},
     "output_type": "execute_result"
    }
   ],
   "source": [
    "nlp_suite.head()"
   ]
  },
  {
   "cell_type": "code",
   "execution_count": 56,
   "metadata": {},
   "outputs": [],
   "source": [
    "# nlp_suite.to_csv(\"data/nlp_suite.csv\", sep=\";\" ,index=False)"
   ]
  },
  {
   "cell_type": "markdown",
   "metadata": {},
   "source": [
    "# sepidmnorozy/Turkish_sentiment\n",
    "\n",
    "https://huggingface.co/datasets/sepidmnorozy/Turkish_sentiment"
   ]
  },
  {
   "cell_type": "code",
   "execution_count": 51,
   "metadata": {},
   "outputs": [
    {
     "name": "stderr",
     "output_type": "stream",
     "text": [
      "Downloading data: 100%|██████████| 805k/805k [00:00<00:00, 825kB/s]\n",
      "Downloading data: 100%|██████████| 7.54k/7.54k [00:00<00:00, 13.6kB/s]\n",
      "Downloading data: 100%|██████████| 14.4k/14.4k [00:00<00:00, 60.6kB/s]\n",
      "Generating train split: 100%|██████████| 4486/4486 [00:00<00:00, 213755.88 examples/s]\n",
      "Generating validation split: 100%|██████████| 105/105 [00:00<00:00, 36294.87 examples/s]\n",
      "Generating test split: 100%|██████████| 211/211 [00:00<00:00, 51618.44 examples/s]\n"
     ]
    }
   ],
   "source": [
    "from datasets import load_dataset\n",
    "\n",
    "dataset = load_dataset(\"sepidmnorozy/Turkish_sentiment\")"
   ]
  },
  {
   "cell_type": "code",
   "execution_count": 52,
   "metadata": {},
   "outputs": [
    {
     "data": {
      "text/plain": [
       "DatasetDict({\n",
       "    train: Dataset({\n",
       "        features: ['label', 'text'],\n",
       "        num_rows: 4486\n",
       "    })\n",
       "    validation: Dataset({\n",
       "        features: ['label', 'text'],\n",
       "        num_rows: 105\n",
       "    })\n",
       "    test: Dataset({\n",
       "        features: ['label', 'text'],\n",
       "        num_rows: 211\n",
       "    })\n",
       "})"
      ]
     },
     "execution_count": 52,
     "metadata": {},
     "output_type": "execute_result"
    }
   ],
   "source": [
    "dataset"
   ]
  },
  {
   "cell_type": "code",
   "execution_count": 53,
   "metadata": {},
   "outputs": [],
   "source": [
    "train_df = pd.DataFrame(dataset['train'])\n",
    "test_df = pd.DataFrame(dataset['test'])\n",
    "validation_df = pd.DataFrame(dataset['validation'])\n",
    "\n",
    "sepidmnorozy = pd.concat([train_df, test_df, validation_df], ignore_index=True)"
   ]
  },
  {
   "cell_type": "code",
   "execution_count": 54,
   "metadata": {},
   "outputs": [
    {
     "data": {
      "text/html": [
       "<div>\n",
       "<style scoped>\n",
       "    .dataframe tbody tr th:only-of-type {\n",
       "        vertical-align: middle;\n",
       "    }\n",
       "\n",
       "    .dataframe tbody tr th {\n",
       "        vertical-align: top;\n",
       "    }\n",
       "\n",
       "    .dataframe thead th {\n",
       "        text-align: right;\n",
       "    }\n",
       "</style>\n",
       "<table border=\"1\" class=\"dataframe\">\n",
       "  <thead>\n",
       "    <tr style=\"text-align: right;\">\n",
       "      <th></th>\n",
       "      <th>label</th>\n",
       "      <th>text</th>\n",
       "    </tr>\n",
       "  </thead>\n",
       "  <tbody>\n",
       "    <tr>\n",
       "      <th>0</th>\n",
       "      <td>1</td>\n",
       "      <td>Servisi hizli valesi var.</td>\n",
       "    </tr>\n",
       "    <tr>\n",
       "      <th>1</th>\n",
       "      <td>1</td>\n",
       "      <td>Yemekleri çok lezzetli, manzara mükemmel.</td>\n",
       "    </tr>\n",
       "    <tr>\n",
       "      <th>2</th>\n",
       "      <td>0</td>\n",
       "      <td>Yemege gelince ise tatsiz tutsuz bir yemekti begenmedik.</td>\n",
       "    </tr>\n",
       "    <tr>\n",
       "      <th>3</th>\n",
       "      <td>0</td>\n",
       "      <td>çorbasi soguk geldi.</td>\n",
       "    </tr>\n",
       "    <tr>\n",
       "      <th>4</th>\n",
       "      <td>1</td>\n",
       "      <td>Bana sushiyi sevdiren tek yer diyebilirim çalışanları o kadar güler yüzlü ki.</td>\n",
       "    </tr>\n",
       "  </tbody>\n",
       "</table>\n",
       "</div>"
      ],
      "text/plain": [
       "   label  \\\n",
       "0      1   \n",
       "1      1   \n",
       "2      0   \n",
       "3      0   \n",
       "4      1   \n",
       "\n",
       "                                                                            text  \n",
       "0                                                      Servisi hizli valesi var.  \n",
       "1                                      Yemekleri çok lezzetli, manzara mükemmel.  \n",
       "2                       Yemege gelince ise tatsiz tutsuz bir yemekti begenmedik.  \n",
       "3                                                           çorbasi soguk geldi.  \n",
       "4  Bana sushiyi sevdiren tek yer diyebilirim çalışanları o kadar güler yüzlü ki.  "
      ]
     },
     "execution_count": 54,
     "metadata": {},
     "output_type": "execute_result"
    }
   ],
   "source": [
    "sepidmnorozy.head()"
   ]
  },
  {
   "cell_type": "code",
   "execution_count": 57,
   "metadata": {},
   "outputs": [],
   "source": [
    "sepidmnorozy.to_csv(\"data/sepidmnorozy.csv\", sep=\";\" ,index=False)"
   ]
  },
  {
   "cell_type": "markdown",
   "metadata": {},
   "source": [
    "# asparius/Turkish-Product-Review\n",
    "\n",
    "https://huggingface.co/datasets/asparius/Turkish-Product-Review"
   ]
  },
  {
   "cell_type": "code",
   "execution_count": 58,
   "metadata": {},
   "outputs": [
    {
     "name": "stderr",
     "output_type": "stream",
     "text": [
      "Downloading readme: 100%|██████████| 553/553 [00:00<00:00, 1.57MB/s]\n",
      "Repo card metadata block was not found. Setting CardData to empty.\n",
      "Downloading data: 100%|██████████| 1.31M/1.31M [00:00<00:00, 1.60MB/s]\n",
      "Downloading data: 100%|██████████| 217k/217k [00:00<00:00, 576kB/s]\n",
      "Generating train split: 100%|██████████| 4800/4800 [00:00<00:00, 203959.71 examples/s]\n",
      "Generating test split: 100%|██████████| 800/800 [00:00<00:00, 125119.07 examples/s]\n"
     ]
    }
   ],
   "source": [
    "from datasets import load_dataset\n",
    "\n",
    "dataset = load_dataset(\"asparius/Turkish-Product-Review\")"
   ]
  },
  {
   "cell_type": "code",
   "execution_count": 59,
   "metadata": {},
   "outputs": [
    {
     "data": {
      "text/plain": [
       "DatasetDict({\n",
       "    train: Dataset({\n",
       "        features: ['text', 'label'],\n",
       "        num_rows: 4800\n",
       "    })\n",
       "    test: Dataset({\n",
       "        features: ['text', 'label'],\n",
       "        num_rows: 800\n",
       "    })\n",
       "})"
      ]
     },
     "execution_count": 59,
     "metadata": {},
     "output_type": "execute_result"
    }
   ],
   "source": [
    "dataset"
   ]
  },
  {
   "cell_type": "code",
   "execution_count": 60,
   "metadata": {},
   "outputs": [],
   "source": [
    "train_df = pd.DataFrame(dataset['train'])\n",
    "test_df = pd.DataFrame(dataset['test'])\n",
    "\n",
    "\n",
    "asparius = pd.concat([train_df, test_df], ignore_index=True)"
   ]
  },
  {
   "cell_type": "code",
   "execution_count": 61,
   "metadata": {},
   "outputs": [
    {
     "data": {
      "text/html": [
       "<div>\n",
       "<style scoped>\n",
       "    .dataframe tbody tr th:only-of-type {\n",
       "        vertical-align: middle;\n",
       "    }\n",
       "\n",
       "    .dataframe tbody tr th {\n",
       "        vertical-align: top;\n",
       "    }\n",
       "\n",
       "    .dataframe thead th {\n",
       "        text-align: right;\n",
       "    }\n",
       "</style>\n",
       "<table border=\"1\" class=\"dataframe\">\n",
       "  <thead>\n",
       "    <tr style=\"text-align: right;\">\n",
       "      <th></th>\n",
       "      <th>text</th>\n",
       "      <th>label</th>\n",
       "    </tr>\n",
       "  </thead>\n",
       "  <tbody>\n",
       "    <tr>\n",
       "      <th>0</th>\n",
       "      <td>yazarın ilk okuduğum kitabı sultanı öldürmekti,2 günde bitirdim.müthiş bir anlatımı var şimdi de bu kitabını okumak için bekliyorum umarım aynı etkiyi yaratır..</td>\n",
       "      <td>1</td>\n",
       "    </tr>\n",
       "    <tr>\n",
       "      <th>1</th>\n",
       "      <td>başladığınız zaman kopamıyorsunuz ben 2 günde bitirdim harikaydı gercekten zaten elif şafak harika bir yazar tüm kitaplarını okudum ama bu bambaşkaydı</td>\n",
       "      <td>1</td>\n",
       "    </tr>\n",
       "    <tr>\n",
       "      <th>2</th>\n",
       "      <td>kadınlara tavsidedir okuyun, erkeklere ise tavsiyedir 20 li yaştaki kadınları anlamanıza yardımcı olacaktır. kitabı okurken iser isemez kahkaha atacaksınız. gülme garantili diye kapağına yazmalılardı. bitince tekrar okumak isteyeceksiniz matak kız bu pucca</td>\n",
       "      <td>1</td>\n",
       "    </tr>\n",
       "    <tr>\n",
       "      <th>3</th>\n",
       "      <td>kesinlikle tavsiye ediyorum sizi günlük hayattan uzaklaştırıyor başka bir dünyaya götürüyor.dili çok yalın olduğu için hiç sıkılmıyorsunuz tavsiye ediyorum ayrıca dizisi de gayet iyi...</td>\n",
       "      <td>1</td>\n",
       "    </tr>\n",
       "    <tr>\n",
       "      <th>4</th>\n",
       "      <td>kesinlikle herkesin mutlaka okuması gereken bir kitap. elif şafak birçok kitabını okudum ama bu en güzeli kesinlikle.. bir çırpıda okuyup bitirmek isteyeceksiniz..</td>\n",
       "      <td>1</td>\n",
       "    </tr>\n",
       "  </tbody>\n",
       "</table>\n",
       "</div>"
      ],
      "text/plain": [
       "                                                                                                                                                                                                                                                                 text  \\\n",
       "0                                                                                                  yazarın ilk okuduğum kitabı sultanı öldürmekti,2 günde bitirdim.müthiş bir anlatımı var şimdi de bu kitabını okumak için bekliyorum umarım aynı etkiyi yaratır..     \n",
       "1                                                                                                            başladığınız zaman kopamıyorsunuz ben 2 günde bitirdim harikaydı gercekten zaten elif şafak harika bir yazar tüm kitaplarını okudum ama bu bambaşkaydı     \n",
       "2  kadınlara tavsidedir okuyun, erkeklere ise tavsiyedir 20 li yaştaki kadınları anlamanıza yardımcı olacaktır. kitabı okurken iser isemez kahkaha atacaksınız. gülme garantili diye kapağına yazmalılardı. bitince tekrar okumak isteyeceksiniz matak kız bu pucca     \n",
       "3                                                                         kesinlikle tavsiye ediyorum sizi günlük hayattan uzaklaştırıyor başka bir dünyaya götürüyor.dili çok yalın olduğu için hiç sıkılmıyorsunuz tavsiye ediyorum ayrıca dizisi de gayet iyi...     \n",
       "4                                                                                               kesinlikle herkesin mutlaka okuması gereken bir kitap. elif şafak birçok kitabını okudum ama bu en güzeli kesinlikle.. bir çırpıda okuyup bitirmek isteyeceksiniz..     \n",
       "\n",
       "   label  \n",
       "0      1  \n",
       "1      1  \n",
       "2      1  \n",
       "3      1  \n",
       "4      1  "
      ]
     },
     "execution_count": 61,
     "metadata": {},
     "output_type": "execute_result"
    }
   ],
   "source": [
    "asparius.head()"
   ]
  },
  {
   "cell_type": "code",
   "execution_count": 62,
   "metadata": {},
   "outputs": [
    {
     "data": {
      "text/plain": [
       "label\n",
       "1    2800\n",
       "0    2800\n",
       "Name: count, dtype: int64"
      ]
     },
     "execution_count": 62,
     "metadata": {},
     "output_type": "execute_result"
    }
   ],
   "source": [
    "asparius[\"label\"].value_counts()"
   ]
  },
  {
   "cell_type": "code",
   "execution_count": null,
   "metadata": {},
   "outputs": [],
   "source": []
  },
  {
   "cell_type": "markdown",
   "metadata": {},
   "source": [
    "# anilguven/turkish_product_reviews_sentiment\n",
    "\n",
    "https://huggingface.co/datasets/anilguven/turkish_product_reviews_sentiment"
   ]
  },
  {
   "cell_type": "code",
   "execution_count": 65,
   "metadata": {},
   "outputs": [
    {
     "name": "stderr",
     "output_type": "stream",
     "text": [
      "Downloading readme: 100%|██████████| 294/294 [00:00<00:00, 594kB/s]\n",
      "Downloading data: 100%|██████████| 45.2M/45.2M [00:02<00:00, 22.5MB/s]\n",
      "Generating train split: 100%|██████████| 243498/243498 [00:00<00:00, 563139.76 examples/s]\n"
     ]
    }
   ],
   "source": [
    "from datasets import load_dataset\n",
    "\n",
    "dataset = load_dataset(\"anilguven/turkish_product_reviews_sentiment\")"
   ]
  },
  {
   "cell_type": "code",
   "execution_count": 66,
   "metadata": {},
   "outputs": [
    {
     "data": {
      "text/plain": [
       "DatasetDict({\n",
       "    train: Dataset({\n",
       "        features: ['text'],\n",
       "        num_rows: 243498\n",
       "    })\n",
       "})"
      ]
     },
     "execution_count": 66,
     "metadata": {},
     "output_type": "execute_result"
    }
   ],
   "source": [
    "dataset"
   ]
  },
  {
   "cell_type": "code",
   "execution_count": 91,
   "metadata": {},
   "outputs": [],
   "source": [
    "anilguven_turkish_product_reviews = pd.DataFrame(dataset[\"train\"])\n",
    "anilguven_turkish_product_reviews.rename(columns={\"text\": \"Review\"}, inplace=True)\n",
    "anilguven_turkish_product_reviews[\"label\"] = anilguven_turkish_product_reviews[\"Review\"].apply(lambda x: x.split(\",\")[0])\n",
    "anilguven_turkish_product_reviews[\"Review\"] = anilguven_turkish_product_reviews[\"Review\"].apply(lambda x: \",\".join(x.split(\",\")[1:]))\n",
    "anilguven_turkish_product_reviews = anilguven_turkish_product_reviews[1:]\n",
    "anilguven_turkish_product_reviews[\"label\"] = anilguven_turkish_product_reviews[\"label\"].apply(lambda x: int(x.replace('\"','')))"
   ]
  },
  {
   "cell_type": "code",
   "execution_count": 93,
   "metadata": {},
   "outputs": [
    {
     "data": {
      "text/html": [
       "<div>\n",
       "<style scoped>\n",
       "    .dataframe tbody tr th:only-of-type {\n",
       "        vertical-align: middle;\n",
       "    }\n",
       "\n",
       "    .dataframe tbody tr th {\n",
       "        vertical-align: top;\n",
       "    }\n",
       "\n",
       "    .dataframe thead th {\n",
       "        text-align: right;\n",
       "    }\n",
       "</style>\n",
       "<table border=\"1\" class=\"dataframe\">\n",
       "  <thead>\n",
       "    <tr style=\"text-align: right;\">\n",
       "      <th></th>\n",
       "      <th>Review</th>\n",
       "      <th>label</th>\n",
       "    </tr>\n",
       "  </thead>\n",
       "  <tbody>\n",
       "    <tr>\n",
       "      <th>1</th>\n",
       "      <td>3 yıldır tık demedi. :)</td>\n",
       "      <td>1</td>\n",
       "    </tr>\n",
       "    <tr>\n",
       "      <th>2</th>\n",
       "      <td>3 yıldır kullanıyorum müthiş</td>\n",
       "      <td>1</td>\n",
       "    </tr>\n",
       "    <tr>\n",
       "      <th>3</th>\n",
       "      <td>\"\"Ürün bugün elime geçti çok fazla inceleme fırsatım olmadı ancak gözüme çarpan ilk şey usb bağlantısı için pil kapağının altında çok güzel yer yapmış olmaları, daha önceden o aparatı kaybetmiş biri olarak bu özelliğini çok sevdim. Ayrıca 1000dpi olması çok iyi bu tip farelerin çoğu 800dpi oluyor. Eğer sizde benim gibi masaüstü bilgisayarınızdan oyuncu faresi ile yüksek dpi ayarına alışmış biriyseniz windows ayarından fareyi en hızlıya getirin ve bu fareyi sipariş verin pişman olmazsınız. Teşekkürler Logitech\"\"\"</td>\n",
       "      <td>1</td>\n",
       "    </tr>\n",
       "    <tr>\n",
       "      <th>4</th>\n",
       "      <td>Almaya karar verdim. Hemencecik geldi. Keyifle kullanıyorum</td>\n",
       "      <td>1</td>\n",
       "    </tr>\n",
       "    <tr>\n",
       "      <th>5</th>\n",
       "      <td>Günlük kullanımınızı çok çok iyi karsılıyor kısaca mükemmel</td>\n",
       "      <td>1</td>\n",
       "    </tr>\n",
       "  </tbody>\n",
       "</table>\n",
       "</div>"
      ],
      "text/plain": [
       "                                                                                                                                                                                                                                                                                                                                                                                                                                                                                                                                  Review  \\\n",
       "1                                                                                                                                                                                                                                                                                                                                                                                                                                                                                                                3 yıldır tık demedi. :)   \n",
       "2                                                                                                                                                                                                                                                                                                                                                                                                                                                                                                          3 yıldır kullanıyorum müthiş    \n",
       "3  \"\"Ürün bugün elime geçti çok fazla inceleme fırsatım olmadı ancak gözüme çarpan ilk şey usb bağlantısı için pil kapağının altında çok güzel yer yapmış olmaları, daha önceden o aparatı kaybetmiş biri olarak bu özelliğini çok sevdim. Ayrıca 1000dpi olması çok iyi bu tip farelerin çoğu 800dpi oluyor. Eğer sizde benim gibi masaüstü bilgisayarınızdan oyuncu faresi ile yüksek dpi ayarına alışmış biriyseniz windows ayarından fareyi en hızlıya getirin ve bu fareyi sipariş verin pişman olmazsınız. Teşekkürler Logitech\"\"\"   \n",
       "4                                                                                                                                                                                                                                                                                                                                                                                                                                                                            Almaya karar verdim. Hemencecik geldi. Keyifle kullanıyorum   \n",
       "5                                                                                                                                                                                                                                                                                                                                                                                                                                                                            Günlük kullanımınızı çok çok iyi karsılıyor kısaca mükemmel   \n",
       "\n",
       "   label  \n",
       "1      1  \n",
       "2      1  \n",
       "3      1  \n",
       "4      1  \n",
       "5      1  "
      ]
     },
     "execution_count": 93,
     "metadata": {},
     "output_type": "execute_result"
    }
   ],
   "source": [
    "anilguven_turkish_product_reviews.head()"
   ]
  },
  {
   "cell_type": "code",
   "execution_count": 94,
   "metadata": {},
   "outputs": [
    {
     "name": "stdout",
     "output_type": "stream",
     "text": [
      "<class 'pandas.core.frame.DataFrame'>\n",
      "RangeIndex: 243497 entries, 1 to 243497\n",
      "Data columns (total 2 columns):\n",
      " #   Column  Non-Null Count   Dtype \n",
      "---  ------  --------------   ----- \n",
      " 0   Review  243497 non-null  object\n",
      " 1   label   243497 non-null  int64 \n",
      "dtypes: int64(1), object(1)\n",
      "memory usage: 3.7+ MB\n"
     ]
    }
   ],
   "source": [
    "anilguven_turkish_product_reviews.info()"
   ]
  },
  {
   "cell_type": "code",
   "execution_count": 95,
   "metadata": {},
   "outputs": [],
   "source": [
    "# anilguven_turkish_product_reviews.to_csv(\"data/anilguven_turkish_product_reviews.csv\",sep=\";\",index=False)"
   ]
  },
  {
   "cell_type": "markdown",
   "metadata": {},
   "source": [
    "# MichiganNLP/MAiDE-up\n",
    "\n",
    "https://huggingface.co/datasets/MichiganNLP/MAiDE-up"
   ]
  },
  {
   "cell_type": "code",
   "execution_count": 9,
   "metadata": {},
   "outputs": [
    {
     "name": "stderr",
     "output_type": "stream",
     "text": [
      "Downloading readme: 100%|██████████| 1.67k/1.67k [00:00<00:00, 4.25MB/s]\n",
      "Downloading data: 100%|██████████| 7.54M/7.54M [00:01<00:00, 7.12MB/s]\n",
      "Generating train split: 100%|██████████| 19985/19985 [00:00<00:00, 183003.23 examples/s]\n"
     ]
    }
   ],
   "source": [
    "# include hotel reviews\n",
    "\n",
    "from datasets import load_dataset\n",
    "\n",
    "dataset = load_dataset(\"MichiganNLP/MAiDE-up\")"
   ]
  },
  {
   "cell_type": "code",
   "execution_count": 15,
   "metadata": {},
   "outputs": [
    {
     "data": {
      "text/plain": [
       "DatasetDict({\n",
       "    train: Dataset({\n",
       "        features: ['Unnamed: 0', 'Review_Language', 'City Name', 'Hotel Name', 'Upside_Review', 'Downside_Review', 'Review_Score', 'Sentiment', 'source', 'Prompt_Language', 'na_up_review', 'na_down_review'],\n",
       "        num_rows: 19985\n",
       "    })\n",
       "})"
      ]
     },
     "execution_count": 15,
     "metadata": {},
     "output_type": "execute_result"
    }
   ],
   "source": [
    "dataset"
   ]
  },
  {
   "cell_type": "code",
   "execution_count": 19,
   "metadata": {},
   "outputs": [],
   "source": [
    "MichiganNLP = pd.DataFrame(dataset[\"train\"]).iloc[:,1:]"
   ]
  },
  {
   "cell_type": "code",
   "execution_count": 25,
   "metadata": {},
   "outputs": [
    {
     "data": {
      "text/html": [
       "<div>\n",
       "<style scoped>\n",
       "    .dataframe tbody tr th:only-of-type {\n",
       "        vertical-align: middle;\n",
       "    }\n",
       "\n",
       "    .dataframe tbody tr th {\n",
       "        vertical-align: top;\n",
       "    }\n",
       "\n",
       "    .dataframe thead th {\n",
       "        text-align: right;\n",
       "    }\n",
       "</style>\n",
       "<table border=\"1\" class=\"dataframe\">\n",
       "  <thead>\n",
       "    <tr style=\"text-align: right;\">\n",
       "      <th></th>\n",
       "      <th>Review_Language</th>\n",
       "      <th>City Name</th>\n",
       "      <th>Hotel Name</th>\n",
       "      <th>Upside_Review</th>\n",
       "      <th>Downside_Review</th>\n",
       "      <th>Review_Score</th>\n",
       "      <th>Sentiment</th>\n",
       "      <th>source</th>\n",
       "      <th>Prompt_Language</th>\n",
       "      <th>na_up_review</th>\n",
       "      <th>na_down_review</th>\n",
       "    </tr>\n",
       "  </thead>\n",
       "  <tbody>\n",
       "    <tr>\n",
       "      <th>1814</th>\n",
       "      <td>Turkish</td>\n",
       "      <td>Paris</td>\n",
       "      <td>District Republique</td>\n",
       "      <td>Konum süper, çalışanlar çok kibar ve yardımsever. Oda temiz ve konforluydu.</td>\n",
       "      <td>Kahvaltı biraz daha çeşitli olabilirdi.</td>\n",
       "      <td>8.0</td>\n",
       "      <td>POS</td>\n",
       "      <td>1</td>\n",
       "      <td>English(German)</td>\n",
       "      <td>False</td>\n",
       "      <td>False</td>\n",
       "    </tr>\n",
       "    <tr>\n",
       "      <th>1961</th>\n",
       "      <td>Turkish</td>\n",
       "      <td>Washington</td>\n",
       "      <td>Capital Hilton</td>\n",
       "      <td>Konum harika</td>\n",
       "      <td>Maalesef genel deneyimim hayal kırıklığı yarattı. Odalar yetersiz temizlenmişti ve genel olarak bakım eksikliği gösteriyordu. Personel genellikle yardımsever olmasına rağmen, bazı durumlarda hizmet standartlarına ulaşamadılar.</td>\n",
       "      <td>3.0</td>\n",
       "      <td>NEG</td>\n",
       "      <td>1</td>\n",
       "      <td>English(Korean)</td>\n",
       "      <td>False</td>\n",
       "      <td>False</td>\n",
       "    </tr>\n",
       "    <tr>\n",
       "      <th>1937</th>\n",
       "      <td>Turkish</td>\n",
       "      <td>Washington</td>\n",
       "      <td>Hotel Harrington</td>\n",
       "      <td>Otel, White House’a çok yakın ve bu nedenle turistik yerlere yürüyerek erişim oldukça kolay.</td>\n",
       "      <td>Otel geçeni süngeri ile yıkanmış gibi son derece ağır bir deterjan kokusu alıyordu. Yemekler taze olmadığı için kalitesizdi. Ayrıca, banyodaki su basınç seviyesi gerçekten çok düşüktü.</td>\n",
       "      <td>2.0</td>\n",
       "      <td>NEG</td>\n",
       "      <td>1</td>\n",
       "      <td>Italian</td>\n",
       "      <td>False</td>\n",
       "      <td>False</td>\n",
       "    </tr>\n",
       "    <tr>\n",
       "      <th>281</th>\n",
       "      <td>Turkish</td>\n",
       "      <td>Berlin</td>\n",
       "      <td>Potsdamer Inn</td>\n",
       "      <td>Bu otelin en güzel tarafı toplu taşıma duraklarına ve marketlere çok yakın olması</td>\n",
       "      <td>Otel temiz değil ve de özensiz</td>\n",
       "      <td>4.0</td>\n",
       "      <td>NEG</td>\n",
       "      <td>0</td>\n",
       "      <td>None</td>\n",
       "      <td>False</td>\n",
       "      <td>False</td>\n",
       "    </tr>\n",
       "    <tr>\n",
       "      <th>912</th>\n",
       "      <td>Turkish</td>\n",
       "      <td>Seoul</td>\n",
       "      <td>Best Western Premier Gangnam Hotel</td>\n",
       "      <td>Seul un ana caddesi üzerinde, metro, alışveriş ve eğlence mekanlarına yakın bir konumda. Konfor yüksek. Tekrar geldiğimde tercih edeceğim bir otel.</td>\n",
       "      <td>Çalışanlar konuşmaya çekiniyor. Ayrıntılı yanıt vermeyi tercih etmiyorlar.</td>\n",
       "      <td>8.0</td>\n",
       "      <td>POS</td>\n",
       "      <td>0</td>\n",
       "      <td>None</td>\n",
       "      <td>False</td>\n",
       "      <td>False</td>\n",
       "    </tr>\n",
       "    <tr>\n",
       "      <th>518</th>\n",
       "      <td>Turkish</td>\n",
       "      <td>Berlin</td>\n",
       "      <td>about:berlin Hotel</td>\n",
       "      <td>Konum olarak mükemmel olmasının yanında konforlu ve çok temizdi.. Kesin tavsiye:)</td>\n",
       "      <td>None</td>\n",
       "      <td>10.0</td>\n",
       "      <td>POS</td>\n",
       "      <td>0</td>\n",
       "      <td>None</td>\n",
       "      <td>False</td>\n",
       "      <td>True</td>\n",
       "    </tr>\n",
       "    <tr>\n",
       "      <th>1148</th>\n",
       "      <td>Turkish</td>\n",
       "      <td>Ankara</td>\n",
       "      <td>Occidental Ankara</td>\n",
       "      <td>Hotel Occidental Ankara, muhteşem bir konumda, çok temiz ve sakin bir otel. Oda servisi mükemmeldi ve personel son derece yardımseverdi. Harika bir manzarası vardı. Otelin yemekleri de lezzetliydi.</td>\n",
       "      <td>Wifi bağlantısı biraz yavaştı ve otelin spor salonu biraz küçüktü.</td>\n",
       "      <td>9.0</td>\n",
       "      <td>POS</td>\n",
       "      <td>1</td>\n",
       "      <td>English(Russian)</td>\n",
       "      <td>False</td>\n",
       "      <td>False</td>\n",
       "    </tr>\n",
       "    <tr>\n",
       "      <th>141</th>\n",
       "      <td>Turkish</td>\n",
       "      <td>Ankara</td>\n",
       "      <td>Divan Ankara</td>\n",
       "      <td>None</td>\n",
       "      <td>Halının bir Kısmı ıslaktı.belliki benden önceki misafirde kaynaklı temizlenmiş ve erken kuruması için odanın camı da açılmıştı ama halen kurumamı.geç saat olduğu için ben de arayıp odamı değiştirin demedim</td>\n",
       "      <td>6.0</td>\n",
       "      <td>NEG</td>\n",
       "      <td>0</td>\n",
       "      <td>None</td>\n",
       "      <td>True</td>\n",
       "      <td>False</td>\n",
       "    </tr>\n",
       "    <tr>\n",
       "      <th>765</th>\n",
       "      <td>Turkish</td>\n",
       "      <td>Paris</td>\n",
       "      <td>Campanile Paris 14 - Maine Montparnasse</td>\n",
       "      <td>Daha önce Paris in farklı bölgelerinde kalmış biri olarak bu fiyata, merkezi konumda daha temizini görmedim.Eger orlyden ucuyorsanız yada parise ilk gelişiniz değilse, Monparnasse kalmak için mükemmel bir bölge. Yakındaki Felicie Restaurant tavsiye ederim. Geç saate kadar yemek servisi var.</td>\n",
       "      <td>None</td>\n",
       "      <td>8.0</td>\n",
       "      <td>POS</td>\n",
       "      <td>0</td>\n",
       "      <td>None</td>\n",
       "      <td>False</td>\n",
       "      <td>True</td>\n",
       "    </tr>\n",
       "    <tr>\n",
       "      <th>135</th>\n",
       "      <td>Turkish</td>\n",
       "      <td>Ankara</td>\n",
       "      <td>Inn 14 Hostel</td>\n",
       "      <td>Çok beğendik.Dekorasyon,kaldığımız oda,terasın manzarası,konum,çalışanlar,her şey on numaraydı.Şiddetle tavsiye edilir.</td>\n",
       "      <td>None</td>\n",
       "      <td>10.0</td>\n",
       "      <td>POS</td>\n",
       "      <td>0</td>\n",
       "      <td>None</td>\n",
       "      <td>False</td>\n",
       "      <td>True</td>\n",
       "    </tr>\n",
       "  </tbody>\n",
       "</table>\n",
       "</div>"
      ],
      "text/plain": [
       "     Review_Language   City Name                               Hotel Name  \\\n",
       "1814         Turkish       Paris                      District Republique   \n",
       "1961         Turkish  Washington                           Capital Hilton   \n",
       "1937         Turkish  Washington                         Hotel Harrington   \n",
       "281          Turkish      Berlin                            Potsdamer Inn   \n",
       "912          Turkish       Seoul       Best Western Premier Gangnam Hotel   \n",
       "518          Turkish      Berlin                       about:berlin Hotel   \n",
       "1148         Turkish      Ankara                        Occidental Ankara   \n",
       "141          Turkish      Ankara                             Divan Ankara   \n",
       "765          Turkish       Paris  Campanile Paris 14 - Maine Montparnasse   \n",
       "135          Turkish      Ankara                            Inn 14 Hostel   \n",
       "\n",
       "                                                                                                                                                                                                                                                                                            Upside_Review  \\\n",
       "1814                                                                                                                                                                                                                          Konum süper, çalışanlar çok kibar ve yardımsever. Oda temiz ve konforluydu.   \n",
       "1961                                                                                                                                                                                                                                                                                         Konum harika   \n",
       "1937                                                                                                                                                                                                         Otel, White House’a çok yakın ve bu nedenle turistik yerlere yürüyerek erişim oldukça kolay.   \n",
       "281                                                                                                                                                                                                                     Bu otelin en güzel tarafı toplu taşıma duraklarına ve marketlere çok yakın olması   \n",
       "912                                                                                                                                                   Seul un ana caddesi üzerinde, metro, alışveriş ve eğlence mekanlarına yakın bir konumda. Konfor yüksek. Tekrar geldiğimde tercih edeceğim bir otel.   \n",
       "518                                                                                                                                                                                                                     Konum olarak mükemmel olmasının yanında konforlu ve çok temizdi.. Kesin tavsiye:)   \n",
       "1148                                                                                                Hotel Occidental Ankara, muhteşem bir konumda, çok temiz ve sakin bir otel. Oda servisi mükemmeldi ve personel son derece yardımseverdi. Harika bir manzarası vardı. Otelin yemekleri de lezzetliydi.   \n",
       "141                                                                                                                                                                                                                                                                                                  None   \n",
       "765   Daha önce Paris in farklı bölgelerinde kalmış biri olarak bu fiyata, merkezi konumda daha temizini görmedim.Eger orlyden ucuyorsanız yada parise ilk gelişiniz değilse, Monparnasse kalmak için mükemmel bir bölge. Yakındaki Felicie Restaurant tavsiye ederim. Geç saate kadar yemek servisi var.   \n",
       "135                                                                                                                                                                               Çok beğendik.Dekorasyon,kaldığımız oda,terasın manzarası,konum,çalışanlar,her şey on numaraydı.Şiddetle tavsiye edilir.   \n",
       "\n",
       "                                                                                                                                                                                                                         Downside_Review  \\\n",
       "1814                                                                                                                                                                                             Kahvaltı biraz daha çeşitli olabilirdi.   \n",
       "1961  Maalesef genel deneyimim hayal kırıklığı yarattı. Odalar yetersiz temizlenmişti ve genel olarak bakım eksikliği gösteriyordu. Personel genellikle yardımsever olmasına rağmen, bazı durumlarda hizmet standartlarına ulaşamadılar.   \n",
       "1937                                            Otel geçeni süngeri ile yıkanmış gibi son derece ağır bir deterjan kokusu alıyordu. Yemekler taze olmadığı için kalitesizdi. Ayrıca, banyodaki su basınç seviyesi gerçekten çok düşüktü.   \n",
       "281                                                                                                                                                                                                       Otel temiz değil ve de özensiz   \n",
       "912                                                                                                                                                           Çalışanlar konuşmaya çekiniyor. Ayrıntılı yanıt vermeyi tercih etmiyorlar.   \n",
       "518                                                                                                                                                                                                                                 None   \n",
       "1148                                                                                                                                                                  Wifi bağlantısı biraz yavaştı ve otelin spor salonu biraz küçüktü.   \n",
       "141                        Halının bir Kısmı ıslaktı.belliki benden önceki misafirde kaynaklı temizlenmiş ve erken kuruması için odanın camı da açılmıştı ama halen kurumamı.geç saat olduğu için ben de arayıp odamı değiştirin demedim   \n",
       "765                                                                                                                                                                                                                                 None   \n",
       "135                                                                                                                                                                                                                                 None   \n",
       "\n",
       "      Review_Score Sentiment  source   Prompt_Language  na_up_review  \\\n",
       "1814           8.0       POS       1   English(German)         False   \n",
       "1961           3.0       NEG       1   English(Korean)         False   \n",
       "1937           2.0       NEG       1           Italian         False   \n",
       "281            4.0       NEG       0              None         False   \n",
       "912            8.0       POS       0              None         False   \n",
       "518           10.0       POS       0              None         False   \n",
       "1148           9.0       POS       1  English(Russian)         False   \n",
       "141            6.0       NEG       0              None          True   \n",
       "765            8.0       POS       0              None         False   \n",
       "135           10.0       POS       0              None         False   \n",
       "\n",
       "      na_down_review  \n",
       "1814           False  \n",
       "1961           False  \n",
       "1937           False  \n",
       "281            False  \n",
       "912            False  \n",
       "518             True  \n",
       "1148           False  \n",
       "141            False  \n",
       "765             True  \n",
       "135             True  "
      ]
     },
     "execution_count": 25,
     "metadata": {},
     "output_type": "execute_result"
    }
   ],
   "source": [
    "MichiganNLP = MichiganNLP[MichiganNLP[\"Review_Language\"] == \"Turkish\"].reset_index(drop=True)\n",
    "MichiganNLP.sample(10)"
   ]
  },
  {
   "cell_type": "code",
   "execution_count": 26,
   "metadata": {},
   "outputs": [],
   "source": [
    "# MichiganNLP.to_csv(\"data/MichiganNLP.csv\",sep=\";\", index=False)"
   ]
  },
  {
   "cell_type": "markdown",
   "metadata": {},
   "source": [
    "# Our Web Scrapped Data"
   ]
  },
  {
   "cell_type": "code",
   "execution_count": 4,
   "metadata": {},
   "outputs": [
    {
     "data": {
      "text/html": [
       "<div>\n",
       "<style scoped>\n",
       "    .dataframe tbody tr th:only-of-type {\n",
       "        vertical-align: middle;\n",
       "    }\n",
       "\n",
       "    .dataframe tbody tr th {\n",
       "        vertical-align: top;\n",
       "    }\n",
       "\n",
       "    .dataframe thead th {\n",
       "        text-align: right;\n",
       "    }\n",
       "</style>\n",
       "<table border=\"1\" class=\"dataframe\">\n",
       "  <thead>\n",
       "    <tr style=\"text-align: right;\">\n",
       "      <th></th>\n",
       "      <th>Yorum</th>\n",
       "      <th>Kategori</th>\n",
       "      <th>Durum</th>\n",
       "    </tr>\n",
       "  </thead>\n",
       "  <tbody>\n",
       "    <tr>\n",
       "      <th>0</th>\n",
       "      <td>hersey harikaydı oda temizliğinden servise kadar hersey cok başarılıydı yemekleri lezzetli büfe çeşitliliği iyiydi giris den çıkışa kadar çalışanlar ilgili güler yüzlüdüydu tel yönetimi kutluyorum fethiye tatilimizde bizi muhteşem ağırladiginiz iyi hissettirdiğiniz icin tesekkur ederiz</td>\n",
       "      <td>['odatemizligi', 'odaservisi', 'yemek', 'çalışan']</td>\n",
       "      <td>Olumlu</td>\n",
       "    </tr>\n",
       "    <tr>\n",
       "      <th>1</th>\n",
       "      <td>güzeldi hizmetimizden memnun kaldım teşekkürler yemekleriniz lezzetli odalar düzenli temizdi ben otel konaklamasindan memnun kaldım hizmetlerinizden dolayı tekrar teşekkür ederim</td>\n",
       "      <td>['yemek', 'odalar']</td>\n",
       "      <td>Olumlu</td>\n",
       "    </tr>\n",
       "    <tr>\n",
       "      <th>2</th>\n",
       "      <td>mükemmel bir tatil geçirdim kadar kaliteli misafirperver bir kadro sevindirici resepsiyonun güler yüzlü karşılaması restaurant barlarinda güler yüz karşılama güzel içecekler odaların temizliği mükemmel bir otel teşekkür ederim sundia ailesi</td>\n",
       "      <td>['aktivite', 'odaservisi', 'restoran', 'odalar', 'odatemizligi']</td>\n",
       "      <td>Olumlu</td>\n",
       "    </tr>\n",
       "    <tr>\n",
       "      <th>3</th>\n",
       "      <td>iyi antalya istanbul bir yerde yıldızlı otelde kaldık burası iyi servis güler yüz yemekler temizlik iyi yıldızı sonuna kadar hak ediyor fethiye gelirseniz uğramadan geçmeyin fiyat performans iyi türk yabancı ayrımı yok hizmet güzel</td>\n",
       "      <td>['konum', 'yemek', 'odalar', 'odaservisi', 'deniz', 'temizlik', 'restoran']</td>\n",
       "      <td>Olumlu</td>\n",
       "    </tr>\n",
       "    <tr>\n",
       "      <th>4</th>\n",
       "      <td>yılında otel yeni açıldığı zaman konakladığım beğendiğim tesise tekrar gelmekten büyük memnuniyet duydum yönetici çalışanlarına teşekkür ederim sayın fatma kara hanıma ilgisi ayrıca teşekkür etmek isterim yeniden buluşmak ümidiyle</td>\n",
       "      <td>['konum', 'personel']</td>\n",
       "      <td>Olumlu</td>\n",
       "    </tr>\n",
       "    <tr>\n",
       "      <th>...</th>\n",
       "      <td>...</td>\n",
       "      <td>...</td>\n",
       "      <td>...</td>\n",
       "    </tr>\n",
       "    <tr>\n",
       "      <th>3068</th>\n",
       "      <td>resepsiyon ekibi kaba yardımcı olmaktan kaçınıyorlar otelin genel temizliği memnun edici değildi tek iyi yanı merkezi bir konumda olmaları</td>\n",
       "      <td>['restoran', 'temizlik', 'konum']</td>\n",
       "      <td>Olumsuz</td>\n",
       "    </tr>\n",
       "    <tr>\n",
       "      <th>3069</th>\n",
       "      <td>otelin spa tesislerinden oldukça memnun kaldım odalar ferah temizdi ayrıca otelde wireless internet erişimi gayet hızlıydı fakat oda servisi geç geldi biraz ücretliydi</td>\n",
       "      <td>['fiyat', 'temizlik', 'odalar', 'personel', 'odaservisi']</td>\n",
       "      <td>Olumsuz</td>\n",
       "    </tr>\n",
       "    <tr>\n",
       "      <th>3070</th>\n",
       "      <td>restoranında sunulan yemekler harikaydı oldukça geniş bir menü seçeneği vardı ayrıca fitness merkezi gayet donanımlıydı kısacası dört dörtlüktü</td>\n",
       "      <td>['yemek', 'fiyat']</td>\n",
       "      <td>Olumlu</td>\n",
       "    </tr>\n",
       "    <tr>\n",
       "      <th>3071</th>\n",
       "      <td>otel güzel bir manzaraya sahip ancak otel konuklarına pahalı bir fiyat sunuyor verilen hizmetin karşılığını almıyorsun odamız dar biraz eskiydi</td>\n",
       "      <td>['odalar', 'fiyat']</td>\n",
       "      <td>Olumsuz</td>\n",
       "    </tr>\n",
       "    <tr>\n",
       "      <th>3072</th>\n",
       "      <td>otelin konumu plaja yakın harika bir deniz manzarası var odalar geniş rahat personel cana yakın bir dahaki seyahatimde kesinlikle tekrar kalacağım</td>\n",
       "      <td>['konum', 'odalar', 'personel']</td>\n",
       "      <td>Olumlu</td>\n",
       "    </tr>\n",
       "  </tbody>\n",
       "</table>\n",
       "<p>3073 rows × 3 columns</p>\n",
       "</div>"
      ],
      "text/plain": [
       "                                                                                                                                                                                                                                                                                               Yorum  \\\n",
       "0     hersey harikaydı oda temizliğinden servise kadar hersey cok başarılıydı yemekleri lezzetli büfe çeşitliliği iyiydi giris den çıkışa kadar çalışanlar ilgili güler yüzlüdüydu tel yönetimi kutluyorum fethiye tatilimizde bizi muhteşem ağırladiginiz iyi hissettirdiğiniz icin tesekkur ederiz   \n",
       "1                                                                                                                 güzeldi hizmetimizden memnun kaldım teşekkürler yemekleriniz lezzetli odalar düzenli temizdi ben otel konaklamasindan memnun kaldım hizmetlerinizden dolayı tekrar teşekkür ederim   \n",
       "2                                                   mükemmel bir tatil geçirdim kadar kaliteli misafirperver bir kadro sevindirici resepsiyonun güler yüzlü karşılaması restaurant barlarinda güler yüz karşılama güzel içecekler odaların temizliği mükemmel bir otel teşekkür ederim sundia ailesi   \n",
       "3                                                            iyi antalya istanbul bir yerde yıldızlı otelde kaldık burası iyi servis güler yüz yemekler temizlik iyi yıldızı sonuna kadar hak ediyor fethiye gelirseniz uğramadan geçmeyin fiyat performans iyi türk yabancı ayrımı yok hizmet güzel   \n",
       "4                                                             yılında otel yeni açıldığı zaman konakladığım beğendiğim tesise tekrar gelmekten büyük memnuniyet duydum yönetici çalışanlarına teşekkür ederim sayın fatma kara hanıma ilgisi ayrıca teşekkür etmek isterim yeniden buluşmak ümidiyle   \n",
       "...                                                                                                                                                                                                                                                                                              ...   \n",
       "3068                                                                                                                                                      resepsiyon ekibi kaba yardımcı olmaktan kaçınıyorlar otelin genel temizliği memnun edici değildi tek iyi yanı merkezi bir konumda olmaları   \n",
       "3069                                                                                                                         otelin spa tesislerinden oldukça memnun kaldım odalar ferah temizdi ayrıca otelde wireless internet erişimi gayet hızlıydı fakat oda servisi geç geldi biraz ücretliydi   \n",
       "3070                                                                                                                                                 restoranında sunulan yemekler harikaydı oldukça geniş bir menü seçeneği vardı ayrıca fitness merkezi gayet donanımlıydı kısacası dört dörtlüktü   \n",
       "3071                                                                                                                                                 otel güzel bir manzaraya sahip ancak otel konuklarına pahalı bir fiyat sunuyor verilen hizmetin karşılığını almıyorsun odamız dar biraz eskiydi   \n",
       "3072                                                                                                                                              otelin konumu plaja yakın harika bir deniz manzarası var odalar geniş rahat personel cana yakın bir dahaki seyahatimde kesinlikle tekrar kalacağım   \n",
       "\n",
       "                                                                         Kategori  \\\n",
       "0                              ['odatemizligi', 'odaservisi', 'yemek', 'çalışan']   \n",
       "1                                                             ['yemek', 'odalar']   \n",
       "2                ['aktivite', 'odaservisi', 'restoran', 'odalar', 'odatemizligi']   \n",
       "3     ['konum', 'yemek', 'odalar', 'odaservisi', 'deniz', 'temizlik', 'restoran']   \n",
       "4                                                           ['konum', 'personel']   \n",
       "...                                                                           ...   \n",
       "3068                                            ['restoran', 'temizlik', 'konum']   \n",
       "3069                    ['fiyat', 'temizlik', 'odalar', 'personel', 'odaservisi']   \n",
       "3070                                                           ['yemek', 'fiyat']   \n",
       "3071                                                          ['odalar', 'fiyat']   \n",
       "3072                                              ['konum', 'odalar', 'personel']   \n",
       "\n",
       "        Durum  \n",
       "0      Olumlu  \n",
       "1      Olumlu  \n",
       "2      Olumlu  \n",
       "3      Olumlu  \n",
       "4      Olumlu  \n",
       "...       ...  \n",
       "3068  Olumsuz  \n",
       "3069  Olumsuz  \n",
       "3070   Olumlu  \n",
       "3071  Olumsuz  \n",
       "3072   Olumlu  \n",
       "\n",
       "[3073 rows x 3 columns]"
      ]
     },
     "execution_count": 4,
     "metadata": {},
     "output_type": "execute_result"
    }
   ],
   "source": [
    "pd.read_csv(\"data/dataninSonHali.csv\",sep=\";\")"
   ]
  },
  {
   "cell_type": "markdown",
   "metadata": {},
   "source": [
    "# jordiclive/OATS-ABSA\n",
    "\n",
    "https://huggingface.co/datasets/jordiclive/OATS-ABSA"
   ]
  },
  {
   "cell_type": "code",
   "execution_count": 5,
   "metadata": {},
   "outputs": [
    {
     "name": "stderr",
     "output_type": "stream",
     "text": [
      "Downloading readme: 100%|██████████| 2.58k/2.58k [00:00<00:00, 12.6MB/s]\n",
      "Downloading data: 100%|██████████| 967k/967k [00:01<00:00, 798kB/s]\n",
      "Downloading data: 100%|██████████| 125k/125k [00:00<00:00, 164kB/s]\n",
      "Downloading data: 100%|██████████| 44.8k/44.8k [00:00<00:00, 48.7kB/s]\n",
      "Generating train split: 100%|██████████| 3987/3987 [00:00<00:00, 164653.37 examples/s]\n",
      "Generating test split: 100%|██████████| 500/500 [00:00<00:00, 212542.01 examples/s]\n",
      "Generating validation split: 100%|██████████| 170/170 [00:00<00:00, 25772.85 examples/s]\n"
     ]
    }
   ],
   "source": [
    "from datasets import load_dataset\n",
    "\n",
    "dataset = load_dataset(\"jordiclive/OATS-ABSA\")"
   ]
  },
  {
   "cell_type": "code",
   "execution_count": 6,
   "metadata": {},
   "outputs": [
    {
     "data": {
      "text/plain": [
       "DatasetDict({\n",
       "    train: Dataset({\n",
       "        features: ['comment', 'quad', 'dataset'],\n",
       "        num_rows: 3987\n",
       "    })\n",
       "    test: Dataset({\n",
       "        features: ['comment', 'quad', 'dataset'],\n",
       "        num_rows: 500\n",
       "    })\n",
       "    validation: Dataset({\n",
       "        features: ['comment', 'quad', 'dataset'],\n",
       "        num_rows: 170\n",
       "    })\n",
       "})"
      ]
     },
     "execution_count": 6,
     "metadata": {},
     "output_type": "execute_result"
    }
   ],
   "source": [
    "dataset"
   ]
  },
  {
   "cell_type": "code",
   "execution_count": 19,
   "metadata": {},
   "outputs": [],
   "source": [
    "train_df = pd.DataFrame(dataset['train'])\n",
    "test_df = pd.DataFrame(dataset['test'])\n",
    "validation_df = pd.DataFrame(dataset['validation'])\n",
    "\n",
    "jordiclive = pd.concat([train_df, test_df, validation_df], ignore_index=True).rename(columns={\"comment\":\"text\"})"
   ]
  },
  {
   "cell_type": "code",
   "execution_count": 20,
   "metadata": {},
   "outputs": [
    {
     "data": {
      "text/html": [
       "<div>\n",
       "<style scoped>\n",
       "    .dataframe tbody tr th:only-of-type {\n",
       "        vertical-align: middle;\n",
       "    }\n",
       "\n",
       "    .dataframe tbody tr th {\n",
       "        vertical-align: top;\n",
       "    }\n",
       "\n",
       "    .dataframe thead th {\n",
       "        text-align: right;\n",
       "    }\n",
       "</style>\n",
       "<table border=\"1\" class=\"dataframe\">\n",
       "  <thead>\n",
       "    <tr style=\"text-align: right;\">\n",
       "      <th></th>\n",
       "      <th>text</th>\n",
       "      <th>quad</th>\n",
       "      <th>dataset</th>\n",
       "    </tr>\n",
       "  </thead>\n",
       "  <tbody>\n",
       "    <tr>\n",
       "      <th>0</th>\n",
       "      <td>Fantastic service I am a travel agent booking hotels all over the world, so we are very very fussy. This hotel offers customer service at its' best. Great location, great service, nothing is too much bother. The rooms are great, cheaper than some of the well known names and frankly far better. Stay here and give yourself a treat with staff who really do genuinely care. We will continue to book our clients here, as it gives a great satisfaction to offer them such an outstanding property.</td>\n",
       "      <td>[[service general, positive], [location general, positive], [rooms general, positive], [rooms prices, positive], [hotel general, positive]]</td>\n",
       "      <td>hotels</td>\n",
       "    </tr>\n",
       "    <tr>\n",
       "      <th>1</th>\n",
       "      <td>venient, helpful  I stayed here as a single female and it was a great place to be. The concierge was able to recommend great restaurants and trips, and the hotel is right next to lots of the sights, and the cable car turnaround so it's easy to get anywhere. Downside - I would have preferred facilities other than the adjoining seafood restaurant for breakfast etc. Definitely recommend.</td>\n",
       "      <td>[[hotel general, positive], [service general, positive], [location general, positive]]</td>\n",
       "      <td>hotels</td>\n",
       "    </tr>\n",
       "    <tr>\n",
       "      <th>2</th>\n",
       "      <td>Always a comfortable stay Small rooms but nice hotel. Just had a restaurant and bar makeover - much improved. Always enjoy my stays here, very good for business. Great location and friendly staff.</td>\n",
       "      <td>[[rooms comfort, positive], [rooms design_features, negative], [hotel general, positive], [food_drinks quality, positive], [hotel miscellaneous, positive], [service general, positive], [location general, positive]]</td>\n",
       "      <td>hotels</td>\n",
       "    </tr>\n",
       "    <tr>\n",
       "      <th>3</th>\n",
       "      <td>Loved Le Pavillion We go to New Orleans frequently for business and for pleasure. This was the first time that we had stayed at Le Pavillion. It was wonderful! The staff was personable and professional. The room was a little small, but if you are in New Orleans you are not in your room that much. I can definitely say that Le Pavillion will be our hotel of choice from now on.</td>\n",
       "      <td>[[hotel general, positive], [service general, positive], [rooms design_features, negative]]</td>\n",
       "      <td>hotels</td>\n",
       "    </tr>\n",
       "    <tr>\n",
       "      <th>4</th>\n",
       "      <td>Loved our stay The Castle Inn was perfect -- very clean, quiet, great location. Not pretentious at all, very comfortable. The staff was friendly, and extremely helpful. Would definitely recommend.</td>\n",
       "      <td>[[hotel general, positive], [hotel cleanliness, positive], [hotel comfort, positive], [location general, positive], [service general, positive]]</td>\n",
       "      <td>hotels</td>\n",
       "    </tr>\n",
       "    <tr>\n",
       "      <th>...</th>\n",
       "      <td>...</td>\n",
       "      <td>...</td>\n",
       "      <td>...</td>\n",
       "    </tr>\n",
       "    <tr>\n",
       "      <th>4652</th>\n",
       "      <td>Excellent introduction to Machine Learning . The course is specifically suited for beginners . So If something you read or heard raised your interest in machine learning and wanted to learn it , this is the perfect introductory course for that . It was a pleasure to learn from Andrew Ng . The course uses Octave / Matlab for the programming exercises , but hopefully they will change it to python as it ' s better suited for beginners . Thank you Andrew and thank you to everyone who worked on this inspiring course .</td>\n",
       "      <td>[[course general, positive], [faculty general, positive], [assignments quality, neutral]]</td>\n",
       "      <td>coursera</td>\n",
       "    </tr>\n",
       "    <tr>\n",
       "      <th>4653</th>\n",
       "      <td>Very professionally created ! The topics are clearly presented and learning is made interesting with creative assignments . I ' ve learned a lot of useful knowledge and skills from this course that I can implement in my work as a teacher . I would recommend the course to anyone who cares about professional development . Thank you : )</td>\n",
       "      <td>[[course quality, positive], [presentation quality, positive], [material quality, positive], [assignments quality, positive], [course general, positive]]</td>\n",
       "      <td>coursera</td>\n",
       "    </tr>\n",
       "    <tr>\n",
       "      <th>4654</th>\n",
       "      <td>Very informative and interesting course ! The pictures were incredible &amp; made it easy to stay focused and engaged . . I forgot that I was on a computer : ) The interviews with researchers &amp; professionals from different universities , Parks Canada etc . were great learning tools . It opened my eyes to the amount of research being done to protect our mountains and their ecosystems .</td>\n",
       "      <td>[[course general, positive], [course quality, positive], [presentation quality, positive], [presentation comprehensiveness, positive], [presentation relatability, positive]]</td>\n",
       "      <td>coursera</td>\n",
       "    </tr>\n",
       "    <tr>\n",
       "      <th>4655</th>\n",
       "      <td>I did this course last year , and consider it to be among the very best I have seen . It is great to have such a diverse group of lecturers , everyone of whom know that material very well ; they are great presenters also . If I had been asked , before I took the course , about summarizing 4 billion years in 10 weeks ( 400 million years per week ) , I ' d have said it was impossible . These guys actually did it , and they did it well ! I like the overlap between lectures , as each lecturer had their own style , and sometimes a topic was covered from two different perspectives , which reinforced my knowledge . I ' m only sorry that I can ' t give this course more than 5 stars !</td>\n",
       "      <td>[[course general, positive], [faculty general, positive], [faculty comprehensiveness, positive], [presentation quality, positive], [course quality, positive]]</td>\n",
       "      <td>coursera</td>\n",
       "    </tr>\n",
       "    <tr>\n",
       "      <th>4656</th>\n",
       "      <td>What an amazing course ! ! ! ! ! ! ! ! ! At first I skipped this and started R Programming . But then I thought let me just check it once and I am really grateful that I started this . I am looking forward to complete whole specialization</td>\n",
       "      <td>[[course general, positive]]</td>\n",
       "      <td>coursera</td>\n",
       "    </tr>\n",
       "  </tbody>\n",
       "</table>\n",
       "<p>4657 rows × 3 columns</p>\n",
       "</div>"
      ],
      "text/plain": [
       "                                                                                                                                                                                                                                                                                                                                                                                                                                                                                                                                                                                                                                                                                                              text  \\\n",
       "0                                                                                                                                                                                                      Fantastic service I am a travel agent booking hotels all over the world, so we are very very fussy. This hotel offers customer service at its' best. Great location, great service, nothing is too much bother. The rooms are great, cheaper than some of the well known names and frankly far better. Stay here and give yourself a treat with staff who really do genuinely care. We will continue to book our clients here, as it gives a great satisfaction to offer them such an outstanding property.   \n",
       "1                                                                                                                                                                                                                                                                                                              venient, helpful  I stayed here as a single female and it was a great place to be. The concierge was able to recommend great restaurants and trips, and the hotel is right next to lots of the sights, and the cable car turnaround so it's easy to get anywhere. Downside - I would have preferred facilities other than the adjoining seafood restaurant for breakfast etc. Definitely recommend.   \n",
       "2                                                                                                                                                                                                                                                                                                                                                                                                                                                                                                             Always a comfortable stay Small rooms but nice hotel. Just had a restaurant and bar makeover - much improved. Always enjoy my stays here, very good for business. Great location and friendly staff.   \n",
       "3                                                                                                                                                                                                                                                                                                                        Loved Le Pavillion We go to New Orleans frequently for business and for pleasure. This was the first time that we had stayed at Le Pavillion. It was wonderful! The staff was personable and professional. The room was a little small, but if you are in New Orleans you are not in your room that much. I can definitely say that Le Pavillion will be our hotel of choice from now on.   \n",
       "4                                                                                                                                                                                                                                                                                                                                                                                                                                                                                                             Loved our stay The Castle Inn was perfect -- very clean, quiet, great location. Not pretentious at all, very comfortable. The staff was friendly, and extremely helpful. Would definitely recommend.   \n",
       "...                                                                                                                                                                                                                                                                                                                                                                                                                                                                                                                                                                                                                                                                                                            ...   \n",
       "4652                                                                                                                                                                        Excellent introduction to Machine Learning . The course is specifically suited for beginners . So If something you read or heard raised your interest in machine learning and wanted to learn it , this is the perfect introductory course for that . It was a pleasure to learn from Andrew Ng . The course uses Octave / Matlab for the programming exercises , but hopefully they will change it to python as it ' s better suited for beginners . Thank you Andrew and thank you to everyone who worked on this inspiring course .   \n",
       "4653                                                                                                                                                                                                                                                                                                                                                               Very professionally created ! The topics are clearly presented and learning is made interesting with creative assignments . I ' ve learned a lot of useful knowledge and skills from this course that I can implement in my work as a teacher . I would recommend the course to anyone who cares about professional development . Thank you : )   \n",
       "4654                                                                                                                                                                                                                                                                                                               Very informative and interesting course ! The pictures were incredible & made it easy to stay focused and engaged . . I forgot that I was on a computer : ) The interviews with researchers & professionals from different universities , Parks Canada etc . were great learning tools . It opened my eyes to the amount of research being done to protect our mountains and their ecosystems .   \n",
       "4655  I did this course last year , and consider it to be among the very best I have seen . It is great to have such a diverse group of lecturers , everyone of whom know that material very well ; they are great presenters also . If I had been asked , before I took the course , about summarizing 4 billion years in 10 weeks ( 400 million years per week ) , I ' d have said it was impossible . These guys actually did it , and they did it well ! I like the overlap between lectures , as each lecturer had their own style , and sometimes a topic was covered from two different perspectives , which reinforced my knowledge . I ' m only sorry that I can ' t give this course more than 5 stars !   \n",
       "4656                                                                                                                                                                                                                                                                                                                                                                                                                                                                What an amazing course ! ! ! ! ! ! ! ! ! At first I skipped this and started R Programming . But then I thought let me just check it once and I am really grateful that I started this . I am looking forward to complete whole specialization   \n",
       "\n",
       "                                                                                                                                                                                                                        quad  \\\n",
       "0                                                                                [[service general, positive], [location general, positive], [rooms general, positive], [rooms prices, positive], [hotel general, positive]]   \n",
       "1                                                                                                                                     [[hotel general, positive], [service general, positive], [location general, positive]]   \n",
       "2     [[rooms comfort, positive], [rooms design_features, negative], [hotel general, positive], [food_drinks quality, positive], [hotel miscellaneous, positive], [service general, positive], [location general, positive]]   \n",
       "3                                                                                                                                [[hotel general, positive], [service general, positive], [rooms design_features, negative]]   \n",
       "4                                                                           [[hotel general, positive], [hotel cleanliness, positive], [hotel comfort, positive], [location general, positive], [service general, positive]]   \n",
       "...                                                                                                                                                                                                                      ...   \n",
       "4652                                                                                                                               [[course general, positive], [faculty general, positive], [assignments quality, neutral]]   \n",
       "4653                                                               [[course quality, positive], [presentation quality, positive], [material quality, positive], [assignments quality, positive], [course general, positive]]   \n",
       "4654                                           [[course general, positive], [course quality, positive], [presentation quality, positive], [presentation comprehensiveness, positive], [presentation relatability, positive]]   \n",
       "4655                                                          [[course general, positive], [faculty general, positive], [faculty comprehensiveness, positive], [presentation quality, positive], [course quality, positive]]   \n",
       "4656                                                                                                                                                                                            [[course general, positive]]   \n",
       "\n",
       "       dataset  \n",
       "0       hotels  \n",
       "1       hotels  \n",
       "2       hotels  \n",
       "3       hotels  \n",
       "4       hotels  \n",
       "...        ...  \n",
       "4652  coursera  \n",
       "4653  coursera  \n",
       "4654  coursera  \n",
       "4655  coursera  \n",
       "4656  coursera  \n",
       "\n",
       "[4657 rows x 3 columns]"
      ]
     },
     "execution_count": 20,
     "metadata": {},
     "output_type": "execute_result"
    }
   ],
   "source": [
    "jordiclive"
   ]
  },
  {
   "cell_type": "code",
   "execution_count": 21,
   "metadata": {},
   "outputs": [
    {
     "data": {
      "text/plain": [
       "dataset\n",
       "coursera     1697\n",
       "amazon_ff    1614\n",
       "hotels       1346\n",
       "Name: count, dtype: int64"
      ]
     },
     "execution_count": 21,
     "metadata": {},
     "output_type": "execute_result"
    }
   ],
   "source": [
    "jordiclive[\"dataset\"].value_counts()"
   ]
  },
  {
   "cell_type": "code",
   "execution_count": 26,
   "metadata": {},
   "outputs": [],
   "source": [
    "jordiclive = jordiclive[jordiclive[\"dataset\"]==\"hotels\"].reset_index(drop=True)"
   ]
  },
  {
   "cell_type": "code",
   "execution_count": 50,
   "metadata": {},
   "outputs": [],
   "source": [
    "import ast\n",
    "\n",
    "exper = [['service general', 'positive'],\n",
    " ['location general', 'positive'],\n",
    " ['rooms general', 'negative'],\n",
    " ['rooms prices', 'positive'],\n",
    " ['hotel general', 'negative']]"
   ]
  },
  {
   "cell_type": "code",
   "execution_count": 58,
   "metadata": {},
   "outputs": [],
   "source": [
    "def get_label(data):\n",
    "    pos_count=0\n",
    "    neg_count=0\n",
    "    for data in exper:\n",
    "        if \"positive\" in data:\n",
    "            # print(f\"positive: {data}\")\n",
    "            pos_count +=1\n",
    "        if \"negative\" in data:\n",
    "            # print(f\"negative: {data}\")\n",
    "            neg_count +=1\n",
    "    \n",
    "    if pos_count > neg_count:\n",
    "        return 1\n",
    "    elif pos_count < neg_count:\n",
    "        return 2\n",
    "    return 0"
   ]
  },
  {
   "cell_type": "code",
   "execution_count": 59,
   "metadata": {},
   "outputs": [
    {
     "data": {
      "text/plain": [
       "list"
      ]
     },
     "execution_count": 59,
     "metadata": {},
     "output_type": "execute_result"
    }
   ],
   "source": [
    "type(jordiclive[\"quad\"][0])"
   ]
  },
  {
   "cell_type": "code",
   "execution_count": 61,
   "metadata": {},
   "outputs": [],
   "source": [
    "jordiclive[\"label\"] = jordiclive[\"quad\"].apply(get_label)"
   ]
  },
  {
   "cell_type": "code",
   "execution_count": 63,
   "metadata": {},
   "outputs": [
    {
     "data": {
      "text/plain": [
       "label\n",
       "1    1346\n",
       "Name: count, dtype: int64"
      ]
     },
     "execution_count": 63,
     "metadata": {},
     "output_type": "execute_result"
    }
   ],
   "source": [
    "jordiclive[\"label\"].value_counts()"
   ]
  },
  {
   "cell_type": "code",
   "execution_count": null,
   "metadata": {},
   "outputs": [],
   "source": []
  }
 ],
 "metadata": {
  "kernelspec": {
   "display_name": "venv",
   "language": "python",
   "name": "python3"
  },
  "language_info": {
   "codemirror_mode": {
    "name": "ipython",
    "version": 3
   },
   "file_extension": ".py",
   "mimetype": "text/x-python",
   "name": "python",
   "nbconvert_exporter": "python",
   "pygments_lexer": "ipython3",
   "version": "3.10.12"
  }
 },
 "nbformat": 4,
 "nbformat_minor": 2
}
